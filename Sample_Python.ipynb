{
 "cells": [
  {
   "cell_type": "code",
   "execution_count": null,
   "metadata": {
    "id": "WtqY9ACvnmzG"
   },
   "outputs": [],
   "source": [
    "def use_cache(func):\n",
    "  cache = {}\n",
    "  def wrapper(*args):\n",
    "    if args in cache:\n",
    "      return cache[args]\n",
    "    else:\n",
    "      result = func(*args)\n",
    "      cache[args] = result\n",
    "      return result\n",
    "  return wrapper"
   ]
  },
  {
   "cell_type": "code",
   "execution_count": null,
   "metadata": {
    "colab": {
     "base_uri": "https://localhost:8080/"
    },
    "id": "MG9EtVnuuGpe",
    "outputId": "5aa74465-d21d-40b2-c573-581ba2ad33f7"
   },
   "outputs": [],
   "source": [
    "a = use_cache(4)\n",
    "print(a)"
   ]
  },
  {
   "cell_type": "code",
   "execution_count": null,
   "metadata": {
    "id": "OYV36WrUuRi4"
   },
   "outputs": [],
   "source": [
    "@use_cache\n",
    "def add(a,b):\n",
    "  c = a+b\n",
    "  return c"
   ]
  },
  {
   "cell_type": "code",
   "execution_count": null,
   "metadata": {
    "colab": {
     "base_uri": "https://localhost:8080/"
    },
    "id": "ECW1uywEuoZo",
    "outputId": "2d37ee52-bb76-4b8b-ad87-ca7fe35c4db8"
   },
   "outputs": [],
   "source": [
    "add(3,5)"
   ]
  },
  {
   "cell_type": "code",
   "execution_count": null,
   "metadata": {
    "id": "UDiMS9kquq5Q"
   },
   "outputs": [],
   "source": [
    "@use_cache\n",
    "def fibb(n):\n",
    "  if n == 0:\n",
    "    return 0\n",
    "  elif n == 1:\n",
    "    return 1\n",
    "  else:\n",
    "    return fibb(n-1)+fibb(n-2)"
   ]
  },
  {
   "cell_type": "code",
   "execution_count": null,
   "metadata": {
    "colab": {
     "base_uri": "https://localhost:8080/"
    },
    "id": "P2q6PD-PvIB3",
    "outputId": "9d02fa87-9318-462a-9211-ad8949cb6f07"
   },
   "outputs": [],
   "source": [
    "fibb(5)"
   ]
  },
  {
   "cell_type": "code",
   "execution_count": null,
   "metadata": {
    "id": "S8qdsy-gvvCp"
   },
   "outputs": [],
   "source": [
    "def authorize(user):\n",
    "  def decorator(func):\n",
    "    def wrapper(*args, **kwargs):\n",
    "      if is_authorized(user):\n",
    "        result = func(*args, **kwargs)\n",
    "        return result\n",
    "      else:\n",
    "        raise Exception('user not authorized')\n",
    "      return wrapper\n",
    "    return decorator"
   ]
  },
  {
   "cell_type": "code",
   "execution_count": null,
   "metadata": {
    "colab": {
     "base_uri": "https://localhost:8080/",
     "height": 200
    },
    "id": "0aA56oXnxjAF",
    "outputId": "e9437586-671f-4bab-efe2-3e066f0e2403"
   },
   "outputs": [],
   "source": [
    "@authorize(current_user)\n",
    "def some_secure_function(arg1, arg2):\n",
    "  return result"
   ]
  },
  {
   "cell_type": "code",
   "execution_count": null,
   "metadata": {
    "id": "QxIdt9KBxx85"
   },
   "outputs": [],
   "source": [
    "import os\n",
    "import sys\n",
    "import numpy as np\n",
    "import pandas as pd\n",
    "import matplotlib.pyplot as plt\n",
    "import seaborn as sns\n",
    "import warnings as w\n",
    "w.filterwarnings(\"ignore\")"
   ]
  },
  {
   "cell_type": "code",
   "execution_count": null,
   "metadata": {
    "id": "3uomEwc2FZgn"
   },
   "outputs": [],
   "source": [
    "training_data = [\n",
    "                  ['Green', 3, 'Apple'],\n",
    "                  ['Yellow', 3, 'Apple'],\n",
    "                  ['Red', 1, 'Grape'],\n",
    "                  ['Red', 1, 'Grape'],\n",
    "                  ['Yellow', 3, 'Lemon'],\n",
    "                  ]\n",
    "Header = [\"Color\", \"diameter\", \"Label\"]\n",
    " # The last column is the label.\n",
    " # The first two columns are features."
   ]
  },
  {
   "cell_type": "code",
   "execution_count": null,
   "metadata": {
    "colab": {
     "base_uri": "https://localhost:8080/",
     "height": 206
    },
    "id": "57U3I_cF_JsX",
    "outputId": "f61ab800-eddd-41aa-8806-f69bd818f81c"
   },
   "outputs": [],
   "source": [
    "pd.DataFrame(training_data, columns = Header)"
   ]
  },
  {
   "cell_type": "code",
   "execution_count": null,
   "metadata": {
    "id": "b9OfaodBFOWo"
   },
   "outputs": [],
   "source": []
  },
  {
   "cell_type": "markdown",
   "metadata": {
    "id": "79qhTDe-6xUx"
   },
   "source": [
    "### Ask Questions"
   ]
  },
  {
   "cell_type": "code",
   "execution_count": null,
   "metadata": {
    "id": "_hSUrxFY6ahd"
   },
   "outputs": [],
   "source": [
    "class Questions:\n",
    "  \"\"\" The question is used to partition a dataset\n",
    "\n",
    "  this class just records a \"column number\" (e.g.. 0 for 'Color') 'Column value' (e.g.. Green)\n",
    "  The match method is used to compare the feature value in an example to the feature value stored\n",
    "  in the question\n",
    "   \"\"\"\n",
    "  def __init__(self, column, value):\n",
    "    self.column = column\n",
    "    self.value = value\n",
    "  def is_numeric(v):\n",
    "    if v is np.integer:\n",
    "      pass\n",
    "    return v\n",
    "  def match(self, example):\n",
    "    # Compare the feature value in an example to the feature value in this question\n",
    "    val = example[self.column]\n",
    "    if val is np.integer:\n",
    "      return val >= self.value\n",
    "    else:\n",
    "      return val == self.value\n",
    "\n",
    "  def __repr__(self):\n",
    "    # this is a just helper method to print the question in a readable format\n",
    "    condition = \"==\"\n",
    "    if self.value is np.integer:\n",
    "      condition = \">=\"\n",
    "    return \"Is %s %s %s?\"%(header[self.column])\n",
    "\n"
   ]
  },
  {
   "cell_type": "code",
   "execution_count": null,
   "metadata": {
    "id": "B2P3gyYyFPOY"
   },
   "outputs": [],
   "source": []
  },
  {
   "cell_type": "code",
   "execution_count": null,
   "metadata": {
    "id": "D0921iO3FPsN"
   },
   "outputs": [],
   "source": [
    "ip_strng = 'Hello, World'\n",
    "op = \"Hollo, Werld\"\n",
    "v = 'aeiou'"
   ]
  },
  {
   "cell_type": "code",
   "execution_count": null,
   "metadata": {
    "colab": {
     "base_uri": "https://localhost:8080/"
    },
    "id": "76rFlINXFPpi",
    "outputId": "0e68ffc4-aaf5-48fb-faa7-3fe58b8ab188"
   },
   "outputs": [],
   "source": [
    "strng = list(ip_strng)\n",
    "idx = []\n",
    "for i,s in enumerate(strng):\n",
    "  if s in v:\n",
    "    idx.append(i)\n",
    "ridx = []\n",
    "for i in idx[::-1]:\n",
    "  ridx.append(strng[i])\n",
    "print(idx, ridx)"
   ]
  },
  {
   "cell_type": "code",
   "execution_count": null,
   "metadata": {
    "colab": {
     "base_uri": "https://localhost:8080/"
    },
    "id": "Boy_e-L6FPnB",
    "outputId": "74b4610d-bf56-4860-c1eb-603d40dc656a"
   },
   "outputs": [],
   "source": [
    "for i, c in zip(idx, ridx):\n",
    "  strng[i] = c\n",
    "\n",
    "print(''.join(strng))\n"
   ]
  },
  {
   "cell_type": "code",
   "execution_count": null,
   "metadata": {
    "id": "nCW2008lF9fK"
   },
   "outputs": [],
   "source": []
  },
  {
   "cell_type": "code",
   "execution_count": null,
   "metadata": {
    "id": "ZvXqvnAyG_rW"
   },
   "outputs": [],
   "source": []
  },
  {
   "cell_type": "code",
   "execution_count": null,
   "metadata": {
    "id": "5MOtHNEdHAUd"
   },
   "outputs": [],
   "source": []
  },
  {
   "cell_type": "markdown",
   "metadata": {
    "id": "XkFUtuLNHC0v"
   },
   "source": [
    "## Reverse the vowels of String"
   ]
  },
  {
   "cell_type": "code",
   "execution_count": null,
   "metadata": {
    "id": "IpB3ABmcHAY8"
   },
   "outputs": [],
   "source": [
    "vowels = 'aeiouAEIOU'"
   ]
  },
  {
   "cell_type": "code",
   "execution_count": null,
   "metadata": {
    "id": "CLT5rnJMHAf2"
   },
   "outputs": [],
   "source": [
    "ip_str = \"Naresh\""
   ]
  },
  {
   "cell_type": "code",
   "execution_count": null,
   "metadata": {
    "colab": {
     "base_uri": "https://localhost:8080/"
    },
    "id": "6H7f0u89HAmU",
    "outputId": "0b7c436d-b589-4006-c91e-9e8ba889d6f0"
   },
   "outputs": [],
   "source": [
    "type(list(ip_str))"
   ]
  },
  {
   "cell_type": "code",
   "execution_count": null,
   "metadata": {
    "colab": {
     "base_uri": "https://localhost:8080/",
     "height": 35
    },
    "id": "jrycw4X1HAsc",
    "outputId": "4b9559bb-694e-4e99-8dce-b034833dd4a0"
   },
   "outputs": [],
   "source": [
    "ip_list = list(ip_str)\n",
    "ip_list[4]"
   ]
  },
  {
   "cell_type": "code",
   "execution_count": null,
   "metadata": {
    "colab": {
     "base_uri": "https://localhost:8080/"
    },
    "id": "iwpM54J7Haze",
    "outputId": "b3bc93b1-1b83-40ec-85e4-149404a43d13"
   },
   "outputs": [],
   "source": [
    "print(ip_str)\n",
    "print(ip_list)\n",
    "print(\"Nerash\")\n",
    "v_idx = []\n",
    "for i, l in enumerate(ip_list):\n",
    "  if l in vowels:\n",
    "    v_idx.append(i)\n",
    "print(v_idx)\n",
    "v_list = []\n",
    "for i in v_idx:\n",
    "  v_list.append(ip_list[i])\n",
    "print(v_list)\n",
    "r_v_list = []\n",
    "for i in v_idx[::-1]:\n",
    "  r_v_list.append(ip_list[i])\n",
    "print(r_v_list)"
   ]
  },
  {
   "cell_type": "code",
   "execution_count": null,
   "metadata": {
    "colab": {
     "base_uri": "https://localhost:8080/"
    },
    "id": "_AYyQrCrJcqP",
    "outputId": "4de21e77-7c18-4603-cd4b-9153b9e3d861"
   },
   "outputs": [],
   "source": [
    "for i,ch in zip(v_idx, r_v_list):\n",
    "  ip_list[i] = ch\n",
    "\n",
    "print(ip_list)"
   ]
  },
  {
   "cell_type": "code",
   "execution_count": null,
   "metadata": {
    "colab": {
     "base_uri": "https://localhost:8080/"
    },
    "id": "beIMNTv3KHhe",
    "outputId": "652a18b7-ba36-4253-bb41-4c214a3a2f6a"
   },
   "outputs": [],
   "source": [
    "final_reversed_vowel_strng = \"\".join(ip_list)\n",
    "print(final_reversed_vowel_strng)"
   ]
  },
  {
   "cell_type": "code",
   "execution_count": null,
   "metadata": {
    "id": "m4u3AFkOKcKo"
   },
   "outputs": [],
   "source": [
    "def reverse_string_vowels(ip_str):\n",
    "  vowels_list = \"aeiouAEIOU\"\n",
    "  ip_list = list(ip_str)\n",
    "  vowel_idx = [i for i, ch in enumerate(ip_list) if ch in vowels_list]\n",
    "  vowel = [ip_list[ch] for ch in vowel_idx[::-1]]\n",
    "  for i,ch in zip(vowel_idx, vowel):\n",
    "    ip_list[i] = ch\n",
    "  reversed_vowel_str = \"\".join(ip_list)\n",
    "  return reversed_vowel_str\n",
    "\n"
   ]
  },
  {
   "cell_type": "code",
   "execution_count": null,
   "metadata": {
    "colab": {
     "base_uri": "https://localhost:8080/"
    },
    "id": "IbCv0StfpFVD",
    "outputId": "a99c5302-86cc-4d86-d42e-8b67f6ca6106"
   },
   "outputs": [],
   "source": [
    "\n",
    "print(reverse_string_vowels(\"Welcoma\"))"
   ]
  },
  {
   "cell_type": "code",
   "execution_count": null,
   "metadata": {
    "colab": {
     "base_uri": "https://localhost:8080/"
    },
    "id": "VvYREk3Pq-z_",
    "outputId": "b37c8560-bcf5-41cc-a48e-3e61f01eba32"
   },
   "outputs": [],
   "source": [
    "l1 = [1,2,3,4,5]\n",
    "l2 = [4,3,6,7,8,2,5,67]\n",
    "l3 = [6,5,1,7,3,43,6,8,9]\n",
    "print(l3)"
   ]
  },
  {
   "cell_type": "code",
   "execution_count": null,
   "metadata": {
    "colab": {
     "base_uri": "https://localhost:8080/"
    },
    "id": "E2DzLt8vtLj1",
    "outputId": "bd7ea58f-2e9a-4ad6-da8e-7305e7a68647"
   },
   "outputs": [],
   "source": [
    "for i,j,k in zip(l1,l2,l3):\n",
    "  print(i,j,k)"
   ]
  },
  {
   "cell_type": "code",
   "execution_count": null,
   "metadata": {
    "colab": {
     "base_uri": "https://localhost:8080/"
    },
    "id": "Xv97mKnJtUPO",
    "outputId": "7f0950de-f3ae-4ea2-ff05-e7bf45fc7816"
   },
   "outputs": [],
   "source": [
    "len(\"\".join(l1))"
   ]
  },
  {
   "cell_type": "code",
   "execution_count": null,
   "metadata": {
    "colab": {
     "base_uri": "https://localhost:8080/"
    },
    "id": "PurqZkzauS5t",
    "outputId": "653e5fee-d88d-4b64-fe0e-130b9f3ecfbb"
   },
   "outputs": [],
   "source": [
    "print(l1+l2)"
   ]
  },
  {
   "cell_type": "code",
   "execution_count": null,
   "metadata": {
    "id": "TuMF9wPSvnsF"
   },
   "outputs": [],
   "source": [
    "import pandas as pd\n",
    "import numpy as np"
   ]
  },
  {
   "cell_type": "code",
   "execution_count": null,
   "metadata": {
    "colab": {
     "base_uri": "https://localhost:8080/"
    },
    "id": "WHbWOe27vsId",
    "outputId": "f43a7597-b808-4794-8cd2-152e9edcde1c"
   },
   "outputs": [],
   "source": [
    "df = pd.DataFrame([l1,l2,l3]).T\n",
    "print(df)"
   ]
  },
  {
   "cell_type": "code",
   "execution_count": null,
   "metadata": {
    "id": "pkRlb-DowGDH"
   },
   "outputs": [],
   "source": [
    "\n",
    "df.columns = [\"A\",\"B\",\"C\"]"
   ]
  },
  {
   "cell_type": "code",
   "execution_count": null,
   "metadata": {
    "colab": {
     "base_uri": "https://localhost:8080/",
     "height": 332
    },
    "id": "WaMYjrYTwSQQ",
    "outputId": "e9289ac2-713e-44da-c182-22077a54404a"
   },
   "outputs": [],
   "source": [
    "df"
   ]
  },
  {
   "cell_type": "code",
   "execution_count": null,
   "metadata": {
    "colab": {
     "base_uri": "https://localhost:8080/"
    },
    "id": "vgBHkAlowTqu",
    "outputId": "9c6b84cb-437e-4d35-df25-e694e7412308"
   },
   "outputs": [],
   "source": [
    "df[\"Total\"] = df[[\"A\"]]>3\n",
    "print(df)"
   ]
  },
  {
   "cell_type": "code",
   "execution_count": null,
   "metadata": {
    "colab": {
     "base_uri": "https://localhost:8080/"
    },
    "id": "4JBuAELBwpe3",
    "outputId": "545f1362-ead6-48b6-ab41-fd4aa8fd75d4"
   },
   "outputs": [],
   "source": [
    "f = lambda x,y : x+y+2\n",
    "f(2,3)"
   ]
  },
  {
   "cell_type": "code",
   "execution_count": null,
   "metadata": {
    "colab": {
     "base_uri": "https://localhost:8080/"
    },
    "id": "AtKEH_7rxO6c",
    "outputId": "d9b16c8a-3d0a-4681-81f6-7719f2540bbb"
   },
   "outputs": [],
   "source": [
    "list(map(f, l1,l2))"
   ]
  },
  {
   "cell_type": "markdown",
   "metadata": {
    "id": "CIr1iOKswTbP"
   },
   "source": [
    "## Print Star Patterns"
   ]
  },
  {
   "cell_type": "code",
   "execution_count": null,
   "metadata": {
    "colab": {
     "base_uri": "https://localhost:8080/"
    },
    "id": "OzSgg0Cyxd5M",
    "outputId": "26798cab-60dc-4f34-9084-8ed0d817c27c"
   },
   "outputs": [],
   "source": [
    "for i in range(10):\n",
    "  for j in range(0,10-i-1):\n",
    "    print(end = \" \")\n",
    "  for j in range(0,i+1):\n",
    "    print(\"*\", end = \" \")\n",
    "  print()\n"
   ]
  },
  {
   "cell_type": "markdown",
   "metadata": {
    "id": "uNUu8VaESAO3"
   },
   "source": [
    "## Sort the given values without Builtin function"
   ]
  },
  {
   "cell_type": "code",
   "execution_count": null,
   "metadata": {
    "id": "sUMxYJAQzzWA"
   },
   "outputs": [],
   "source": [
    "li = [12,43,1,5,2,23,56,7,34,2,5,7,3,33,2,24,3,2,45,56,-5,-2,-346]"
   ]
  },
  {
   "cell_type": "code",
   "execution_count": null,
   "metadata": {
    "id": "6TTGKzY8T0-8"
   },
   "outputs": [],
   "source": [
    "# sort_list = []\n",
    "# while li:\n",
    "#   min = li[0]\n",
    "#   for j in sort_list:\n",
    "#     if j > min:\n",
    "#       min = j\n",
    "#   sort_list.append(min)\n",
    "# print(sort_list)"
   ]
  },
  {
   "cell_type": "code",
   "execution_count": null,
   "metadata": {
    "colab": {
     "base_uri": "https://localhost:8080/"
    },
    "id": "sFVdnXlmTAl1",
    "outputId": "687ca65a-3ba4-4934-9adc-7e2074af465b"
   },
   "outputs": [],
   "source": [
    "for i in range(len(li)):\n",
    "  for j in range(0,len(li)-i-1):\n",
    "    if li[j]>li[j+1]:\n",
    "      li[j],li[j+1] = li[j+1],li[j]\n",
    "print(li)\n"
   ]
  },
  {
   "cell_type": "code",
   "execution_count": null,
   "metadata": {
    "id": "2WYfcicMUw8z"
   },
   "outputs": [],
   "source": [
    "def sort_value(l):\n",
    "  n = len(l)\n",
    "  for x in range(n):\n",
    "    for y in range(0,n-x-1):\n",
    "      if l[j] > l[j+1]:\n",
    "        l[j],l[j+1] = l[j+1],l[j]\n",
    "  return l"
   ]
  },
  {
   "cell_type": "code",
   "execution_count": null,
   "metadata": {
    "id": "9oulz2x7VQSU"
   },
   "outputs": [],
   "source": [
    "uniq_list = sort_value(li)"
   ]
  },
  {
   "cell_type": "code",
   "execution_count": null,
   "metadata": {
    "id": "r-HFlz5fZUMG"
   },
   "outputs": [],
   "source": [
    "class sorting:\n",
    "  def __init__(self, l):\n",
    "    self.l = l\n",
    "  def sort(l):\n",
    "    n = len(l)\n",
    "    for i in range(n):\n",
    "      for j in range(0, n-i-1):\n",
    "        if l[j] > l[j+1]:\n",
    "          l[j], l[j+1] = l[j+1],l[j]\n",
    "    return l\n"
   ]
  },
  {
   "cell_type": "code",
   "execution_count": null,
   "metadata": {
    "colab": {
     "base_uri": "https://localhost:8080/"
    },
    "id": "_4_JurUCZUFA",
    "outputId": "ef37b384-38f1-4e12-d7a8-7fa66f274791"
   },
   "outputs": [],
   "source": [
    "sorting.sort(li)"
   ]
  },
  {
   "cell_type": "code",
   "execution_count": null,
   "metadata": {
    "colab": {
     "base_uri": "https://localhost:8080/"
    },
    "id": "Y3UrTCWnZUCc",
    "outputId": "85808841-0aa4-4fa9-bd7c-215d22a3024d"
   },
   "outputs": [],
   "source": [
    "ob = sorting\n",
    "ob.sort([45,33,24,234,52,41,135,2344,2311,53,234,2,9])"
   ]
  },
  {
   "cell_type": "code",
   "execution_count": null,
   "metadata": {
    "id": "1SBnnNznajiK"
   },
   "outputs": [],
   "source": []
  },
  {
   "cell_type": "markdown",
   "metadata": {
    "id": "OZMFf-rMVh7F"
   },
   "source": [
    "## Calculate the frequency of the list"
   ]
  },
  {
   "cell_type": "code",
   "execution_count": null,
   "metadata": {
    "id": "uZLE1oq4VglG"
   },
   "outputs": [],
   "source": [
    "def freq_list(l):\n",
    "  # di = dict()\n",
    "  # for i in l:\n",
    "  #   if i in di:\n",
    "  #     di[i] += 1\n",
    "  #   else:\n",
    "  #     di[i] = 1\n",
    "\n",
    "  di = {i: l.count(i) for i in l}\n",
    "  return di\n"
   ]
  },
  {
   "cell_type": "code",
   "execution_count": null,
   "metadata": {
    "colab": {
     "base_uri": "https://localhost:8080/"
    },
    "id": "CPjOYXunV-5R",
    "outputId": "6bddc3aa-9c6a-4ad3-e19d-6b5561103ba8"
   },
   "outputs": [],
   "source": [
    "freq_list(li)"
   ]
  },
  {
   "cell_type": "code",
   "execution_count": null,
   "metadata": {
    "id": "htH3pNGFWDN4"
   },
   "outputs": [],
   "source": [
    "for i in range(1,10):\n",
    "    class Library:\n",
    "        def __init__(self):\n",
    "            self.numBooks = 0\n",
    "            self.books = []\n",
    "        def addBook(self, book):\n",
    "            self.books.append(book)\n",
    "            self.numBooks = len(self.books)\n",
    "        def showinfo(self):\n",
    "            print(f\"The Library has {i} books\")\n",
    "            print(f\"The books is {self.books}\")\n",
    "            \n",
    "    lib = Library()\n",
    "    lib.addBook(f\"Data Science part {i}\")\n",
    "    lib.showinfo()\n",
    "    "
   ]
  },
  {
   "cell_type": "code",
   "execution_count": 1,
   "metadata": {},
   "outputs": [],
   "source": [
    "li = [\"naresh\", \"Kumar\", \"Narendra\", \"Sulo\",\n",
    "     \"naresh\", \"Kumar\", \"Narendra\", \"Sulo\",\n",
    "     \"naresh\", \"Suresh\", \"Sulo\",\n",
    "     \"naresh\", \"Kumar\",\n",
    "     \"naresh\", \"Kumar\",\n",
    "     \"naresh\", \"Kumar\",\n",
    "     \"naresh\", \"Kumar\",\n",
    "     \"naresh\", \"Kumar\",\n",
    "     \"naresh\", \"Kumar\",\n",
    "     \"naresh\", \"Kumar\",\n",
    "     \"naresh\", \"Kumar\"]"
   ]
  },
  {
   "cell_type": "code",
   "execution_count": 2,
   "metadata": {},
   "outputs": [
    {
     "data": {
      "text/plain": [
       "{'Kumar', 'Narendra', 'Sulo', 'Suresh', 'naresh'}"
      ]
     },
     "execution_count": 2,
     "metadata": {},
     "output_type": "execute_result"
    }
   ],
   "source": [
    "set(li)"
   ]
  },
  {
   "cell_type": "code",
   "execution_count": 3,
   "metadata": {},
   "outputs": [
    {
     "name": "stdout",
     "output_type": "stream",
     "text": [
      "2.2\n",
      "2.0\n",
      "0.4\n",
      "0.2\n",
      "0.6\n"
     ]
    }
   ],
   "source": [
    "for i in set(li):\n",
    "    print(li.count(i)/len(set(li)))"
   ]
  },
  {
   "cell_type": "code",
   "execution_count": 4,
   "metadata": {},
   "outputs": [],
   "source": [
    "from collections import defaultdict\n",
    "import os\n",
    "import sys\n",
    "import re\n",
    "import random"
   ]
  },
  {
   "cell_type": "code",
   "execution_count": 10,
   "metadata": {},
   "outputs": [],
   "source": [
    "def mostactive(cust):\n",
    "    d = defaultdict(int)\n",
    "    for c in cust:\n",
    "        d[c] += 1\n",
    "    lis = []\n",
    "    for c, cnt in d.items():\n",
    "        if cnt/len(cust) >= 0.4:\n",
    "            lis.append(c)\n",
    "    sort_list = sorted(lis)\n",
    "    return sort_list"
   ]
  },
  {
   "cell_type": "code",
   "execution_count": 11,
   "metadata": {},
   "outputs": [
    {
     "data": {
      "text/plain": [
       "['naresh']"
      ]
     },
     "execution_count": 11,
     "metadata": {},
     "output_type": "execute_result"
    }
   ],
   "source": [
    "mostactive(li)"
   ]
  },
  {
   "cell_type": "code",
   "execution_count": 10,
   "metadata": {},
   "outputs": [
    {
     "name": "stdout",
     "output_type": "stream",
     "text": [
      "Defaulting to user installation because normal site-packages is not writeable\n",
      "Requirement already satisfied: fastapi in /home/cdot/.local/lib/python3.10/site-packages (0.100.0)\n",
      "Requirement already satisfied: pydantic!=1.8,!=1.8.1,!=2.0.0,!=2.0.1,<3.0.0,>=1.7.4 in /home/cdot/.local/lib/python3.10/site-packages (from fastapi) (2.5.3)\n",
      "Requirement already satisfied: starlette<0.28.0,>=0.27.0 in /home/cdot/.local/lib/python3.10/site-packages (from fastapi) (0.27.0)\n",
      "Requirement already satisfied: typing-extensions>=4.5.0 in /home/cdot/.local/lib/python3.10/site-packages (from fastapi) (4.9.0)\n",
      "Requirement already satisfied: annotated-types>=0.4.0 in /home/cdot/.local/lib/python3.10/site-packages (from pydantic!=1.8,!=1.8.1,!=2.0.0,!=2.0.1,<3.0.0,>=1.7.4->fastapi) (0.5.0)\n",
      "Requirement already satisfied: pydantic-core==2.14.6 in /home/cdot/.local/lib/python3.10/site-packages (from pydantic!=1.8,!=1.8.1,!=2.0.0,!=2.0.1,<3.0.0,>=1.7.4->fastapi) (2.14.6)\n",
      "Requirement already satisfied: anyio<5,>=3.4.0 in /home/cdot/.local/lib/python3.10/site-packages (from starlette<0.28.0,>=0.27.0->fastapi) (3.7.1)\n",
      "Requirement already satisfied: idna>=2.8 in /usr/lib/python3/dist-packages (from anyio<5,>=3.4.0->starlette<0.28.0,>=0.27.0->fastapi) (3.3)\n",
      "Requirement already satisfied: sniffio>=1.1 in /home/cdot/.local/lib/python3.10/site-packages (from anyio<5,>=3.4.0->starlette<0.28.0,>=0.27.0->fastapi) (1.3.0)\n",
      "Requirement already satisfied: exceptiongroup in /home/cdot/.local/lib/python3.10/site-packages (from anyio<5,>=3.4.0->starlette<0.28.0,>=0.27.0->fastapi) (1.1.2)\n"
     ]
    }
   ],
   "source": [
    "!pip install fastapi"
   ]
  },
  {
   "cell_type": "code",
   "execution_count": 2,
   "metadata": {},
   "outputs": [],
   "source": [
    "import statistics as sts"
   ]
  },
  {
   "cell_type": "code",
   "execution_count": 6,
   "metadata": {},
   "outputs": [
    {
     "name": "stdout",
     "output_type": "stream",
     "text": [
      "26\n",
      "26\n"
     ]
    }
   ],
   "source": [
    "a = [1,4,3,6,5,7,2,5,8,7,9,1,2,0,9,6,5,3,8,7,9,1,7, 5, 8,9]\n",
    "b = [10, 20, 40, 30, 100, 90, 70, 60, 80, 10, 30, 20, 40, 30, 40, 70, 100, 90, 70, 60, 80, 10, 30, 20, 40, 30]\n",
    "print(len(a))\n",
    "print(len(b))"
   ]
  },
  {
   "cell_type": "code",
   "execution_count": 8,
   "metadata": {},
   "outputs": [
    {
     "data": {
      "text/plain": [
       "0.24209547315877186"
      ]
     },
     "execution_count": 8,
     "metadata": {},
     "output_type": "execute_result"
    }
   ],
   "source": [
    "sts.correlation(a,b)"
   ]
  },
  {
   "cell_type": "code",
   "execution_count": 9,
   "metadata": {},
   "outputs": [
    {
     "data": {
      "text/plain": [
       "20.323076923076922"
      ]
     },
     "execution_count": 9,
     "metadata": {},
     "output_type": "execute_result"
    }
   ],
   "source": [
    "sts.covariance(a,b)"
   ]
  },
  {
   "cell_type": "code",
   "execution_count": 11,
   "metadata": {},
   "outputs": [
    {
     "data": {
      "text/plain": [
       "5.269230769230769"
      ]
     },
     "execution_count": 11,
     "metadata": {},
     "output_type": "execute_result"
    }
   ],
   "source": [
    "sts.fmean(a)"
   ]
  },
  {
   "cell_type": "code",
   "execution_count": 12,
   "metadata": {},
   "outputs": [
    {
     "data": {
      "text/plain": [
       "48.84615384615385"
      ]
     },
     "execution_count": 12,
     "metadata": {},
     "output_type": "execute_result"
    }
   ],
   "source": [
    "sts.fmean(b)"
   ]
  },
  {
   "cell_type": "code",
   "execution_count": 13,
   "metadata": {},
   "outputs": [
    {
     "data": {
      "text/plain": [
       "0"
      ]
     },
     "execution_count": 13,
     "metadata": {},
     "output_type": "execute_result"
    }
   ],
   "source": [
    "sts.harmonic_mean(a,b)"
   ]
  },
  {
   "cell_type": "code",
   "execution_count": 16,
   "metadata": {},
   "outputs": [
    {
     "data": {
      "text/plain": [
       "LinearRegression(slope=2.4531104921077063, intercept=35.92014856081708)"
      ]
     },
     "execution_count": 16,
     "metadata": {},
     "output_type": "execute_result"
    }
   ],
   "source": [
    "sts.linear_regression(a,b)"
   ]
  },
  {
   "cell_type": "code",
   "execution_count": 18,
   "metadata": {},
   "outputs": [
    {
     "data": {
      "text/plain": [
       "5.269230769230769"
      ]
     },
     "execution_count": 18,
     "metadata": {},
     "output_type": "execute_result"
    }
   ],
   "source": [
    "sts.mean(a)"
   ]
  },
  {
   "cell_type": "code",
   "execution_count": 19,
   "metadata": {},
   "outputs": [
    {
     "data": {
      "text/plain": [
       "48.84615384615385"
      ]
     },
     "execution_count": 19,
     "metadata": {},
     "output_type": "execute_result"
    }
   ],
   "source": [
    "sts.mean(b)"
   ]
  },
  {
   "cell_type": "code",
   "execution_count": 21,
   "metadata": {},
   "outputs": [
    {
     "data": {
      "text/plain": [
       "5.5"
      ]
     },
     "execution_count": 21,
     "metadata": {},
     "output_type": "execute_result"
    }
   ],
   "source": [
    "sts.median(a)"
   ]
  },
  {
   "cell_type": "code",
   "execution_count": 22,
   "metadata": {},
   "outputs": [
    {
     "data": {
      "text/plain": [
       "40.0"
      ]
     },
     "execution_count": 22,
     "metadata": {},
     "output_type": "execute_result"
    }
   ],
   "source": [
    "sts.median(b)"
   ]
  },
  {
   "cell_type": "code",
   "execution_count": 26,
   "metadata": {},
   "outputs": [
    {
     "data": {
      "text/plain": [
       "5.5"
      ]
     },
     "execution_count": 26,
     "metadata": {},
     "output_type": "execute_result"
    }
   ],
   "source": [
    "sts.median_grouped(a)"
   ]
  },
  {
   "cell_type": "code",
   "execution_count": 27,
   "metadata": {},
   "outputs": [
    {
     "data": {
      "text/plain": [
       "5"
      ]
     },
     "execution_count": 27,
     "metadata": {},
     "output_type": "execute_result"
    }
   ],
   "source": [
    "sts.mode(a)"
   ]
  },
  {
   "cell_type": "code",
   "execution_count": 46,
   "metadata": {},
   "outputs": [
    {
     "data": {
      "text/plain": [
       "{1: 3, 4: 1, 3: 2, 6: 2, 5: 4, 7: 4, 2: 2, 8: 3, 9: 4, 0: 1}"
      ]
     },
     "execution_count": 46,
     "metadata": {},
     "output_type": "execute_result"
    }
   ],
   "source": [
    "freq1 = {}\n",
    "for i in a:\n",
    "    if i in freq1:\n",
    "        freq1[i]+= 1\n",
    "    else:\n",
    "        freq1[i] = 1\n",
    "\n",
    "freq1"
   ]
  },
  {
   "cell_type": "code",
   "execution_count": 48,
   "metadata": {},
   "outputs": [
    {
     "data": {
      "text/plain": [
       "[10,\n",
       " 20,\n",
       " 40,\n",
       " 30,\n",
       " 100,\n",
       " 90,\n",
       " 70,\n",
       " 60,\n",
       " 80,\n",
       " 10,\n",
       " 30,\n",
       " 20,\n",
       " 40,\n",
       " 30,\n",
       " 40,\n",
       " 70,\n",
       " 100,\n",
       " 90,\n",
       " 70,\n",
       " 60,\n",
       " 80,\n",
       " 10,\n",
       " 30,\n",
       " 20,\n",
       " 40,\n",
       " 30]"
      ]
     },
     "execution_count": 48,
     "metadata": {},
     "output_type": "execute_result"
    }
   ],
   "source": [
    "b"
   ]
  },
  {
   "cell_type": "code",
   "execution_count": 50,
   "metadata": {},
   "outputs": [
    {
     "data": {
      "text/plain": [
       "{10: 3, 20: 3, 40: 4, 30: 5, 100: 2, 90: 2, 70: 3, 60: 2, 80: 2}"
      ]
     },
     "execution_count": 50,
     "metadata": {},
     "output_type": "execute_result"
    }
   ],
   "source": [
    "freq2 = {}\n",
    "for i in b:\n",
    "    if i in freq2:\n",
    "        freq2[i]+= 1\n",
    "    else:\n",
    "        freq2[i] = 1\n",
    "\n",
    "freq2"
   ]
  },
  {
   "cell_type": "code",
   "execution_count": 39,
   "metadata": {},
   "outputs": [],
   "source": [
    "from fractions import Fraction as fra"
   ]
  },
  {
   "cell_type": "code",
   "execution_count": 67,
   "metadata": {},
   "outputs": [
    {
     "data": {
      "text/plain": [
       "[(0, 30),\n",
       " (1, 10),\n",
       " (1, 10),\n",
       " (1, 20),\n",
       " (2, 40),\n",
       " (2, 70),\n",
       " (3, 40),\n",
       " (3, 90),\n",
       " (4, 20),\n",
       " (5, 20),\n",
       " (5, 60),\n",
       " (5, 100),\n",
       " (5, 100),\n",
       " (6, 30),\n",
       " (6, 70),\n",
       " (7, 10),\n",
       " (7, 30),\n",
       " (7, 60),\n",
       " (7, 90),\n",
       " (8, 40),\n",
       " (8, 70),\n",
       " (8, 80),\n",
       " (9, 30),\n",
       " (9, 30),\n",
       " (9, 40),\n",
       " (9, 80)]"
      ]
     },
     "execution_count": 67,
     "metadata": {},
     "output_type": "execute_result"
    }
   ],
   "source": [
    "sorted(list(zip(a, b)))"
   ]
  },
  {
   "cell_type": "code",
   "execution_count": 70,
   "metadata": {},
   "outputs": [
    {
     "data": {
      "text/plain": [
       "[64, 216, 8, 512, 8, 0, 216, 512, 512]"
      ]
     },
     "execution_count": 70,
     "metadata": {},
     "output_type": "execute_result"
    }
   ],
   "source": [
    "def sqrt(input):\n",
    "    li = []\n",
    "    for i in input:\n",
    "        if i%2 == 0:\n",
    "            x = i**3\n",
    "            li.append(x)\n",
    "    return li\n",
    "\n",
    "sqrt(a)\n"
   ]
  },
  {
   "cell_type": "code",
   "execution_count": 83,
   "metadata": {},
   "outputs": [],
   "source": [
    "import numpy as np"
   ]
  },
  {
   "cell_type": "code",
   "execution_count": 111,
   "metadata": {},
   "outputs": [
    {
     "name": "stdout",
     "output_type": "stream",
     "text": [
      "[0.3333333333333333, 1.3333333333333333, 1.0, 2.0, 1.6666666666666667, 2.3333333333333335, 0.6666666666666666, 1.6666666666666667, 2.6666666666666665, 2.3333333333333335, 3.0, 0.3333333333333333, 0.6666666666666666, 0.0, 3.0, 2.0, 1.6666666666666667, 1.0, 2.6666666666666665, 2.3333333333333335, 3.0, 0.3333333333333333, 2.3333333333333335, 1.6666666666666667, 2.6666666666666665, 3.0]\n"
     ]
    }
   ],
   "source": [
    "def rnd(l):\n",
    "    li = []\n",
    "    for i in l:\n",
    "        x = i/3\n",
    "        li.append(x)\n",
    "    return li\n",
    "\n",
    "l = rnd(a)\n",
    "print(l)"
   ]
  },
  {
   "cell_type": "code",
   "execution_count": 112,
   "metadata": {},
   "outputs": [
    {
     "data": {
      "text/plain": [
       "[0, 1, 1, 2, 2, 2, 1, 2, 3, 2, 3, 0, 1, 0, 3, 2, 2, 1, 3, 2, 3, 0, 2, 2, 3, 3]"
      ]
     },
     "execution_count": 112,
     "metadata": {},
     "output_type": "execute_result"
    }
   ],
   "source": [
    "list(map(lambda x: int(np.round(x)), l))"
   ]
  },
  {
   "cell_type": "code",
   "execution_count": 1,
   "metadata": {},
   "outputs": [],
   "source": [
    "import numpy as np\n",
    "import pandas as pd"
   ]
  },
  {
   "cell_type": "code",
   "execution_count": 21,
   "metadata": {},
   "outputs": [
    {
     "data": {
      "text/html": [
       "<div>\n",
       "<style scoped>\n",
       "    .dataframe tbody tr th:only-of-type {\n",
       "        vertical-align: middle;\n",
       "    }\n",
       "\n",
       "    .dataframe tbody tr th {\n",
       "        vertical-align: top;\n",
       "    }\n",
       "\n",
       "    .dataframe thead th {\n",
       "        text-align: right;\n",
       "    }\n",
       "</style>\n",
       "<table border=\"1\" class=\"dataframe\">\n",
       "  <thead>\n",
       "    <tr style=\"text-align: right;\">\n",
       "      <th></th>\n",
       "      <th>city</th>\n",
       "      <th>Gender</th>\n",
       "    </tr>\n",
       "  </thead>\n",
       "  <tbody>\n",
       "    <tr>\n",
       "      <th>0</th>\n",
       "      <td>Hyd</td>\n",
       "      <td>F</td>\n",
       "    </tr>\n",
       "    <tr>\n",
       "      <th>1</th>\n",
       "      <td>Ban</td>\n",
       "      <td>F</td>\n",
       "    </tr>\n",
       "    <tr>\n",
       "      <th>2</th>\n",
       "      <td>KDp</td>\n",
       "      <td>M</td>\n",
       "    </tr>\n",
       "    <tr>\n",
       "      <th>3</th>\n",
       "      <td>KDp</td>\n",
       "      <td>F</td>\n",
       "    </tr>\n",
       "    <tr>\n",
       "      <th>4</th>\n",
       "      <td>DVr</td>\n",
       "      <td>M</td>\n",
       "    </tr>\n",
       "    <tr>\n",
       "      <th>5</th>\n",
       "      <td>Ban</td>\n",
       "      <td>M</td>\n",
       "    </tr>\n",
       "    <tr>\n",
       "      <th>6</th>\n",
       "      <td>Ban</td>\n",
       "      <td>F</td>\n",
       "    </tr>\n",
       "    <tr>\n",
       "      <th>7</th>\n",
       "      <td>KDp</td>\n",
       "      <td>M</td>\n",
       "    </tr>\n",
       "    <tr>\n",
       "      <th>8</th>\n",
       "      <td>DVr</td>\n",
       "      <td>M</td>\n",
       "    </tr>\n",
       "    <tr>\n",
       "      <th>9</th>\n",
       "      <td>Hyd</td>\n",
       "      <td>M</td>\n",
       "    </tr>\n",
       "    <tr>\n",
       "      <th>10</th>\n",
       "      <td>Hyd</td>\n",
       "      <td>F</td>\n",
       "    </tr>\n",
       "    <tr>\n",
       "      <th>11</th>\n",
       "      <td>KDp</td>\n",
       "      <td>F</td>\n",
       "    </tr>\n",
       "    <tr>\n",
       "      <th>12</th>\n",
       "      <td>Ban</td>\n",
       "      <td>NaN</td>\n",
       "    </tr>\n",
       "  </tbody>\n",
       "</table>\n",
       "</div>"
      ],
      "text/plain": [
       "   city Gender\n",
       "0   Hyd      F\n",
       "1   Ban      F\n",
       "2   KDp      M\n",
       "3   KDp      F\n",
       "4   DVr      M\n",
       "5   Ban      M\n",
       "6   Ban      F\n",
       "7   KDp      M\n",
       "8   DVr      M\n",
       "9   Hyd      M\n",
       "10  Hyd      F\n",
       "11  KDp      F\n",
       "12  Ban    NaN"
      ]
     },
     "execution_count": 21,
     "metadata": {},
     "output_type": "execute_result"
    }
   ],
   "source": [
    "di = {\"city\": [\"Hyd\",\"Ban\",\"KDp\",\"KDp\",\"DVr\",\"Ban\",\"Ban\",\"KDp\",\"DVr\",\"Hyd\",\"Hyd\",\"KDp\",\"Ban\"],\n",
    "      \"Gender\":[\"F\",\"F\",\"M\",\"F\",\"M\",\"M\",\"F\",\"M\",\"M\",\"M\",\"F\",\"F\", np.nan]}\n",
    "df = pd.DataFrame(di)\n",
    "df"
   ]
  },
  {
   "cell_type": "code",
   "execution_count": 48,
   "metadata": {},
   "outputs": [
    {
     "data": {
      "text/html": [
       "<div>\n",
       "<style scoped>\n",
       "    .dataframe tbody tr th:only-of-type {\n",
       "        vertical-align: middle;\n",
       "    }\n",
       "\n",
       "    .dataframe tbody tr th {\n",
       "        vertical-align: top;\n",
       "    }\n",
       "\n",
       "    .dataframe thead th {\n",
       "        text-align: right;\n",
       "    }\n",
       "</style>\n",
       "<table border=\"1\" class=\"dataframe\">\n",
       "  <thead>\n",
       "    <tr style=\"text-align: right;\">\n",
       "      <th></th>\n",
       "      <th>city</th>\n",
       "      <th>Gender</th>\n",
       "      <th>count</th>\n",
       "    </tr>\n",
       "  </thead>\n",
       "  <tbody>\n",
       "    <tr>\n",
       "      <th>0</th>\n",
       "      <td>Ban</td>\n",
       "      <td>F</td>\n",
       "      <td>2</td>\n",
       "    </tr>\n",
       "    <tr>\n",
       "      <th>1</th>\n",
       "      <td>Ban</td>\n",
       "      <td>M</td>\n",
       "      <td>1</td>\n",
       "    </tr>\n",
       "    <tr>\n",
       "      <th>2</th>\n",
       "      <td>DVr</td>\n",
       "      <td>M</td>\n",
       "      <td>2</td>\n",
       "    </tr>\n",
       "    <tr>\n",
       "      <th>3</th>\n",
       "      <td>Hyd</td>\n",
       "      <td>F</td>\n",
       "      <td>2</td>\n",
       "    </tr>\n",
       "    <tr>\n",
       "      <th>4</th>\n",
       "      <td>Hyd</td>\n",
       "      <td>M</td>\n",
       "      <td>1</td>\n",
       "    </tr>\n",
       "    <tr>\n",
       "      <th>5</th>\n",
       "      <td>KDp</td>\n",
       "      <td>F</td>\n",
       "      <td>2</td>\n",
       "    </tr>\n",
       "    <tr>\n",
       "      <th>6</th>\n",
       "      <td>KDp</td>\n",
       "      <td>M</td>\n",
       "      <td>2</td>\n",
       "    </tr>\n",
       "  </tbody>\n",
       "</table>\n",
       "</div>"
      ],
      "text/plain": [
       "  city Gender  count\n",
       "0  Ban      F      2\n",
       "1  Ban      M      1\n",
       "2  DVr      M      2\n",
       "3  Hyd      F      2\n",
       "4  Hyd      M      1\n",
       "5  KDp      F      2\n",
       "6  KDp      M      2"
      ]
     },
     "execution_count": 48,
     "metadata": {},
     "output_type": "execute_result"
    }
   ],
   "source": [
    "group_df = df.groupby(['city','Gender']).size().reset_index(name=\"count\")\n",
    "group_df"
   ]
  },
  {
   "cell_type": "code",
   "execution_count": 60,
   "metadata": {},
   "outputs": [
    {
     "data": {
      "text/html": [
       "<div>\n",
       "<style scoped>\n",
       "    .dataframe tbody tr th:only-of-type {\n",
       "        vertical-align: middle;\n",
       "    }\n",
       "\n",
       "    .dataframe tbody tr th {\n",
       "        vertical-align: top;\n",
       "    }\n",
       "\n",
       "    .dataframe thead th {\n",
       "        text-align: right;\n",
       "    }\n",
       "</style>\n",
       "<table border=\"1\" class=\"dataframe\">\n",
       "  <thead>\n",
       "    <tr style=\"text-align: right;\">\n",
       "      <th>Gender</th>\n",
       "      <th>F</th>\n",
       "      <th>M</th>\n",
       "    </tr>\n",
       "    <tr>\n",
       "      <th>city</th>\n",
       "      <th></th>\n",
       "      <th></th>\n",
       "    </tr>\n",
       "  </thead>\n",
       "  <tbody>\n",
       "    <tr>\n",
       "      <th>Ban</th>\n",
       "      <td>2</td>\n",
       "      <td>1</td>\n",
       "    </tr>\n",
       "    <tr>\n",
       "      <th>DVr</th>\n",
       "      <td>0</td>\n",
       "      <td>2</td>\n",
       "    </tr>\n",
       "    <tr>\n",
       "      <th>Hyd</th>\n",
       "      <td>2</td>\n",
       "      <td>1</td>\n",
       "    </tr>\n",
       "    <tr>\n",
       "      <th>KDp</th>\n",
       "      <td>2</td>\n",
       "      <td>2</td>\n",
       "    </tr>\n",
       "  </tbody>\n",
       "</table>\n",
       "</div>"
      ],
      "text/plain": [
       "Gender  F  M\n",
       "city        \n",
       "Ban     2  1\n",
       "DVr     0  2\n",
       "Hyd     2  1\n",
       "KDp     2  2"
      ]
     },
     "execution_count": 60,
     "metadata": {},
     "output_type": "execute_result"
    }
   ],
   "source": [
    "pivot_df = pd.pivot_table(group_df, values='count', index = 'city', columns='Gender', aggfunc=sum, fill_value=0)\n",
    "pivot_df"
   ]
  },
  {
   "cell_type": "code",
   "execution_count": 61,
   "metadata": {},
   "outputs": [
    {
     "data": {
      "text/html": [
       "<div>\n",
       "<style scoped>\n",
       "    .dataframe tbody tr th:only-of-type {\n",
       "        vertical-align: middle;\n",
       "    }\n",
       "\n",
       "    .dataframe tbody tr th {\n",
       "        vertical-align: top;\n",
       "    }\n",
       "\n",
       "    .dataframe thead th {\n",
       "        text-align: right;\n",
       "    }\n",
       "</style>\n",
       "<table border=\"1\" class=\"dataframe\">\n",
       "  <thead>\n",
       "    <tr style=\"text-align: right;\">\n",
       "      <th>Gender</th>\n",
       "      <th>F</th>\n",
       "      <th>M</th>\n",
       "      <th>Total</th>\n",
       "    </tr>\n",
       "    <tr>\n",
       "      <th>city</th>\n",
       "      <th></th>\n",
       "      <th></th>\n",
       "      <th></th>\n",
       "    </tr>\n",
       "  </thead>\n",
       "  <tbody>\n",
       "    <tr>\n",
       "      <th>Ban</th>\n",
       "      <td>2</td>\n",
       "      <td>1</td>\n",
       "      <td>3</td>\n",
       "    </tr>\n",
       "    <tr>\n",
       "      <th>DVr</th>\n",
       "      <td>0</td>\n",
       "      <td>2</td>\n",
       "      <td>2</td>\n",
       "    </tr>\n",
       "    <tr>\n",
       "      <th>Hyd</th>\n",
       "      <td>2</td>\n",
       "      <td>1</td>\n",
       "      <td>3</td>\n",
       "    </tr>\n",
       "    <tr>\n",
       "      <th>KDp</th>\n",
       "      <td>2</td>\n",
       "      <td>2</td>\n",
       "      <td>4</td>\n",
       "    </tr>\n",
       "  </tbody>\n",
       "</table>\n",
       "</div>"
      ],
      "text/plain": [
       "Gender  F  M  Total\n",
       "city               \n",
       "Ban     2  1      3\n",
       "DVr     0  2      2\n",
       "Hyd     2  1      3\n",
       "KDp     2  2      4"
      ]
     },
     "execution_count": 61,
     "metadata": {},
     "output_type": "execute_result"
    }
   ],
   "source": [
    "pivot_df[\"Total\"] = pivot_df[\"F\"]+pivot_df[\"M\"]\n",
    "pivot_df"
   ]
  },
  {
   "cell_type": "code",
   "execution_count": 67,
   "metadata": {},
   "outputs": [
    {
     "data": {
      "text/html": [
       "<div>\n",
       "<style scoped>\n",
       "    .dataframe tbody tr th:only-of-type {\n",
       "        vertical-align: middle;\n",
       "    }\n",
       "\n",
       "    .dataframe tbody tr th {\n",
       "        vertical-align: top;\n",
       "    }\n",
       "\n",
       "    .dataframe thead th {\n",
       "        text-align: right;\n",
       "    }\n",
       "</style>\n",
       "<table border=\"1\" class=\"dataframe\">\n",
       "  <thead>\n",
       "    <tr style=\"text-align: right;\">\n",
       "      <th></th>\n",
       "      <th>F</th>\n",
       "      <th>M</th>\n",
       "      <th>Total</th>\n",
       "    </tr>\n",
       "    <tr>\n",
       "      <th>city</th>\n",
       "      <th></th>\n",
       "      <th></th>\n",
       "      <th></th>\n",
       "    </tr>\n",
       "  </thead>\n",
       "  <tbody>\n",
       "    <tr>\n",
       "      <th>Ban</th>\n",
       "      <td>2</td>\n",
       "      <td>1</td>\n",
       "      <td>3</td>\n",
       "    </tr>\n",
       "    <tr>\n",
       "      <th>DVr</th>\n",
       "      <td>0</td>\n",
       "      <td>2</td>\n",
       "      <td>2</td>\n",
       "    </tr>\n",
       "    <tr>\n",
       "      <th>Hyd</th>\n",
       "      <td>2</td>\n",
       "      <td>1</td>\n",
       "      <td>3</td>\n",
       "    </tr>\n",
       "    <tr>\n",
       "      <th>KDp</th>\n",
       "      <td>2</td>\n",
       "      <td>2</td>\n",
       "      <td>4</td>\n",
       "    </tr>\n",
       "  </tbody>\n",
       "</table>\n",
       "</div>"
      ],
      "text/plain": [
       "      F  M  Total\n",
       "city             \n",
       "Ban   2  1      3\n",
       "DVr   0  2      2\n",
       "Hyd   2  1      3\n",
       "KDp   2  2      4"
      ]
     },
     "execution_count": 67,
     "metadata": {},
     "output_type": "execute_result"
    }
   ],
   "source": [
    "pivot_df.columns.name = None\n",
    "pivot_df"
   ]
  },
  {
   "cell_type": "code",
   "execution_count": 70,
   "metadata": {},
   "outputs": [],
   "source": [
    "pivot_df.reset_index(inplace=True)"
   ]
  },
  {
   "cell_type": "code",
   "execution_count": 73,
   "metadata": {},
   "outputs": [
    {
     "data": {
      "text/html": [
       "<div>\n",
       "<style scoped>\n",
       "    .dataframe tbody tr th:only-of-type {\n",
       "        vertical-align: middle;\n",
       "    }\n",
       "\n",
       "    .dataframe tbody tr th {\n",
       "        vertical-align: top;\n",
       "    }\n",
       "\n",
       "    .dataframe thead th {\n",
       "        text-align: right;\n",
       "    }\n",
       "</style>\n",
       "<table border=\"1\" class=\"dataframe\">\n",
       "  <thead>\n",
       "    <tr style=\"text-align: right;\">\n",
       "      <th></th>\n",
       "      <th>city</th>\n",
       "      <th>F</th>\n",
       "      <th>M</th>\n",
       "      <th>Total</th>\n",
       "    </tr>\n",
       "  </thead>\n",
       "  <tbody>\n",
       "    <tr>\n",
       "      <th>0</th>\n",
       "      <td>Ban</td>\n",
       "      <td>2</td>\n",
       "      <td>1</td>\n",
       "      <td>3</td>\n",
       "    </tr>\n",
       "    <tr>\n",
       "      <th>1</th>\n",
       "      <td>DVr</td>\n",
       "      <td>0</td>\n",
       "      <td>2</td>\n",
       "      <td>2</td>\n",
       "    </tr>\n",
       "    <tr>\n",
       "      <th>2</th>\n",
       "      <td>Hyd</td>\n",
       "      <td>2</td>\n",
       "      <td>1</td>\n",
       "      <td>3</td>\n",
       "    </tr>\n",
       "    <tr>\n",
       "      <th>3</th>\n",
       "      <td>KDp</td>\n",
       "      <td>2</td>\n",
       "      <td>2</td>\n",
       "      <td>4</td>\n",
       "    </tr>\n",
       "  </tbody>\n",
       "</table>\n",
       "</div>"
      ],
      "text/plain": [
       "  city  F  M  Total\n",
       "0  Ban  2  1      3\n",
       "1  DVr  0  2      2\n",
       "2  Hyd  2  1      3\n",
       "3  KDp  2  2      4"
      ]
     },
     "execution_count": 73,
     "metadata": {},
     "output_type": "execute_result"
    }
   ],
   "source": [
    "pivot_df"
   ]
  },
  {
   "cell_type": "code",
   "execution_count": null,
   "metadata": {},
   "outputs": [],
   "source": []
  }
 ],
 "metadata": {
  "accelerator": "GPU",
  "colab": {
   "gpuType": "T4",
   "provenance": []
  },
  "kernelspec": {
   "display_name": "Python 3 (ipykernel)",
   "language": "python",
   "name": "python3"
  },
  "language_info": {
   "codemirror_mode": {
    "name": "ipython",
    "version": 3
   },
   "file_extension": ".py",
   "mimetype": "text/x-python",
   "name": "python",
   "nbconvert_exporter": "python",
   "pygments_lexer": "ipython3",
   "version": "3.10.12"
  }
 },
 "nbformat": 4,
 "nbformat_minor": 1
}
