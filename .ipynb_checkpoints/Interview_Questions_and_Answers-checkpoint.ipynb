{
 "cells": [
  {
   "cell_type": "markdown",
   "id": "9e04f3cb",
   "metadata": {},
   "source": [
    "## Find n number of Factorials"
   ]
  },
  {
   "cell_type": "code",
   "execution_count": 1,
   "id": "5e3f257e",
   "metadata": {},
   "outputs": [],
   "source": [
    "def fact(n):\n",
    "    if n<0:\n",
    "        return (f\"Invalid Number\")\n",
    "    elif n == 0:\n",
    "        return 1\n",
    "    elif n == 1:\n",
    "        return 1\n",
    "    else:\n",
    "        return n*fact(n-1)"
   ]
  },
  {
   "cell_type": "code",
   "execution_count": 6,
   "id": "ccc27fef",
   "metadata": {},
   "outputs": [
    {
     "name": "stdout",
     "output_type": "stream",
     "text": [
      "120\n"
     ]
    }
   ],
   "source": [
    "n = 5\n",
    "print(fact(n))"
   ]
  },
  {
   "cell_type": "markdown",
   "id": "81e70a67",
   "metadata": {},
   "source": [
    "## Queues"
   ]
  },
  {
   "cell_type": "code",
   "execution_count": 4,
   "id": "25936465",
   "metadata": {},
   "outputs": [
    {
     "name": "stdout",
     "output_type": "stream",
     "text": [
      "Select the operation 1. add 2. remove 3. show 4. quit\n",
      "1\n",
      "enter the element: 5\n",
      "5 is added into queue\n",
      "Select the operation 1. add 2. remove 3. show 4. quit\n",
      "1\n",
      "enter the element: 6\n",
      "6 is added into queue\n",
      "Select the operation 1. add 2. remove 3. show 4. quit\n",
      "3\n",
      "[5, 6]\n",
      "Select the operation 1. add 2. remove 3. show 4. quit\n",
      "1\n",
      "enter the element: 1\n",
      "1 is added into queue\n",
      "Select the operation 1. add 2. remove 3. show 4. quit\n",
      "1\n",
      "enter the element: 4\n",
      "4 is added into queue\n",
      "Select the operation 1. add 2. remove 3. show 4. quit\n",
      "1\n",
      "enter the element: 3\n",
      "3 is added into queue\n",
      "Select the operation 1. add 2. remove 3. show 4. quit\n",
      "1\n",
      "enter the element: 8\n",
      "8 is added into queue\n",
      "Select the operation 1. add 2. remove 3. show 4. quit\n",
      "8\n",
      "Enter the correct operation\n",
      "Select the operation 1. add 2. remove 3. show 4. quit\n",
      "1\n",
      "enter the element: 6\n",
      "6 is added into queue\n",
      "Select the operation 1. add 2. remove 3. show 4. quit\n",
      "4\n"
     ]
    }
   ],
   "source": [
    "queue = []\n",
    "def enqueue():\n",
    "    element = int(input(\"enter the element: \"))\n",
    "    queue.append(element)\n",
    "    print(element,\"is added into queue\")\n",
    "def dequeue():\n",
    "    if element not in queue:\n",
    "        print(\"queue is empty\")\n",
    "    else:\n",
    "        element = queue.pop()\n",
    "        print(\"Remove the element from Queue\", element)\n",
    "def display():\n",
    "    print(queue)\n",
    "\n",
    "while True:\n",
    "    print(\"Select the operation 1. add 2. remove 3. show 4. quit\")\n",
    "    choice = int(input())\n",
    "    if choice == 1:\n",
    "        enqueue()\n",
    "    elif choice == 2:\n",
    "        dequeue()\n",
    "    elif choice == 3:\n",
    "        display()\n",
    "    elif choice == 4:\n",
    "        break\n",
    "    else:\n",
    "        print(\"Enter the correct operation\")"
   ]
  },
  {
   "cell_type": "markdown",
   "id": "8dc55503",
   "metadata": {},
   "source": [
    "## Reversing the Vowels in given string"
   ]
  },
  {
   "cell_type": "code",
   "execution_count": 10,
   "id": "d8c546e4",
   "metadata": {},
   "outputs": [],
   "source": [
    "def rev_vowels(ipstr):\n",
    "    li_str = list(ipstr)\n",
    "    vowels = \"aeiouAEIOU\"\n",
    "    v_i = [i for i,v in enumerate(li_str) if v in vowels]\n",
    "    rev_li_str = [li_str[i] for i in v_i[::-1]]\n",
    "    for i,c in zip(v_i,rev_li_str):\n",
    "        li_str[i] = c\n",
    "    final_str = \"\".join(li_str)\n",
    "    return final_str"
   ]
  },
  {
   "cell_type": "code",
   "execution_count": 11,
   "id": "ee35818b",
   "metadata": {},
   "outputs": [
    {
     "name": "stdout",
     "output_type": "stream",
     "text": [
      "Enter the String to reverse vowels: hello\n"
     ]
    },
    {
     "data": {
      "text/plain": [
       "'holle'"
      ]
     },
     "execution_count": 11,
     "metadata": {},
     "output_type": "execute_result"
    }
   ],
   "source": [
    "strng = input(\"Enter the String to reverse vowels: \")\n",
    "rev_vowels(strng)"
   ]
  },
  {
   "cell_type": "code",
   "execution_count": null,
   "id": "a7b38f60",
   "metadata": {},
   "outputs": [],
   "source": []
  }
 ],
 "metadata": {
  "kernelspec": {
   "display_name": "Python 3 (ipykernel)",
   "language": "python",
   "name": "python3"
  },
  "language_info": {
   "codemirror_mode": {
    "name": "ipython",
    "version": 3
   },
   "file_extension": ".py",
   "mimetype": "text/x-python",
   "name": "python",
   "nbconvert_exporter": "python",
   "pygments_lexer": "ipython3",
   "version": "3.10.12"
  }
 },
 "nbformat": 4,
 "nbformat_minor": 5
}
