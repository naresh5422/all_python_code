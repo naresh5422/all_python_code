{
 "cells": [
  {
   "cell_type": "markdown",
   "id": "89d1364b",
   "metadata": {},
   "source": [
    "# Decorators\n",
    "\n",
    "### What are the Decorators?\n",
    "\n",
    "1. it is a powerful feature in python that allows you to modify behavior a function without changing its source code.\n",
    "2. They are essentially functions that takes another function as an arguments and return a new function that wraps the original funation.\n",
    "3. This way, we add some extra functionality to the original without modifying it"
   ]
  },
  {
   "cell_type": "markdown",
   "id": "94773809",
   "metadata": {},
   "source": [
    "#### Function copy"
   ]
  },
  {
   "cell_type": "code",
   "execution_count": 139,
   "id": "85058f22",
   "metadata": {},
   "outputs": [],
   "source": [
    "def wel():\n",
    "    return \"Welcome to DS world\""
   ]
  },
  {
   "cell_type": "code",
   "execution_count": 119,
   "id": "a4dfcee8",
   "metadata": {},
   "outputs": [
    {
     "name": "stdout",
     "output_type": "stream",
     "text": [
      "Welcome to DS world\n"
     ]
    }
   ],
   "source": [
    "a = wel()\n",
    "print(a)"
   ]
  },
  {
   "cell_type": "code",
   "execution_count": 120,
   "id": "86e3a11d",
   "metadata": {},
   "outputs": [
    {
     "data": {
      "text/plain": [
       "'Welcome to DS world'"
      ]
     },
     "execution_count": 120,
     "metadata": {},
     "output_type": "execute_result"
    }
   ],
   "source": [
    "wel()"
   ]
  },
  {
   "cell_type": "code",
   "execution_count": 121,
   "id": "e1df3def",
   "metadata": {},
   "outputs": [],
   "source": [
    "del wel"
   ]
  },
  {
   "cell_type": "markdown",
   "id": "473a6736",
   "metadata": {},
   "source": [
    "When delete the given function after stored it into another variable a.\n",
    "it will deleted initial function, not stored variable is printed same returns"
   ]
  },
  {
   "cell_type": "code",
   "execution_count": 124,
   "id": "64c6f03d",
   "metadata": {},
   "outputs": [
    {
     "name": "stdout",
     "output_type": "stream",
     "text": [
      "Welcome to DS world\n"
     ]
    }
   ],
   "source": [
    "print(a)"
   ]
  },
  {
   "cell_type": "code",
   "execution_count": 125,
   "id": "37d7d371",
   "metadata": {},
   "outputs": [
    {
     "ename": "NameError",
     "evalue": "name 'wel' is not defined",
     "output_type": "error",
     "traceback": [
      "\u001b[0;31m---------------------------------------------------------------------------\u001b[0m",
      "\u001b[0;31mNameError\u001b[0m                                 Traceback (most recent call last)",
      "Cell \u001b[0;32mIn[125], line 1\u001b[0m\n\u001b[0;32m----> 1\u001b[0m \u001b[43mwel\u001b[49m()\n",
      "\u001b[0;31mNameError\u001b[0m: name 'wel' is not defined"
     ]
    }
   ],
   "source": [
    "wel()"
   ]
  },
  {
   "cell_type": "markdown",
   "id": "132020ad",
   "metadata": {},
   "source": [
    "#### Closure"
   ]
  },
  {
   "cell_type": "code",
   "execution_count": 134,
   "id": "1ba97b67",
   "metadata": {},
   "outputs": [],
   "source": [
    "def main_func(msg):\n",
    "    def sub_func():\n",
    "        print(\"Hi, \")\n",
    "        print(msg)\n",
    "        print(\"Welcome to DS and DA\")\n",
    "    return sub_func()"
   ]
  },
  {
   "cell_type": "code",
   "execution_count": 135,
   "id": "33943fe7",
   "metadata": {},
   "outputs": [
    {
     "name": "stdout",
     "output_type": "stream",
     "text": [
      "Hi, \n",
      "Naresh\n",
      "Welcome to DS and DA\n"
     ]
    }
   ],
   "source": [
    "main_func(\"Naresh\")"
   ]
  },
  {
   "cell_type": "markdown",
   "id": "81ec5266",
   "metadata": {},
   "source": [
    "#### Closures and Initial Decorator\n",
    "\n",
    "Instead of calling parameters like msg in previous function and we call function inside the function"
   ]
  },
  {
   "cell_type": "code",
   "execution_count": 152,
   "id": "530b283e",
   "metadata": {},
   "outputs": [],
   "source": [
    "def main_wel(fun):\n",
    "    def sub_wel():\n",
    "        print(\"Hi,\")\n",
    "        print(fun)\n",
    "        print(\"and ML and DA\")\n",
    "    return sub_wel()"
   ]
  },
  {
   "cell_type": "code",
   "execution_count": 147,
   "id": "5d3ddce3",
   "metadata": {},
   "outputs": [
    {
     "name": "stdout",
     "output_type": "stream",
     "text": [
      "Hi,\n",
      "Welcome to DS world\n",
      "and ML and DA\n"
     ]
    }
   ],
   "source": [
    "main_wel(wel())"
   ]
  },
  {
   "cell_type": "markdown",
   "id": "b90cae35",
   "metadata": {},
   "source": [
    "Suppose, we want measure the excutoin time of function with \"time\" module, it calculate the time and calls original function "
   ]
  },
  {
   "cell_type": "code",
   "execution_count": 149,
   "id": "e1c26700",
   "metadata": {},
   "outputs": [],
   "source": [
    "import time\n",
    "\n",
    "def measure_time(func):\n",
    "    def wrapper():\n",
    "        start = time.time()\n",
    "        func\n",
    "        end = time.time()\n",
    "        print(f\"Execution time: {end - start} seconds\")\n",
    "    return wrapper"
   ]
  },
  {
   "cell_type": "code",
   "execution_count": 150,
   "id": "e86190db",
   "metadata": {},
   "outputs": [
    {
     "name": "stdout",
     "output_type": "stream",
     "text": [
      "Hello, welcome\n",
      "<function measure_time.<locals>.wrapper at 0x7fdf2021c310>\n"
     ]
    }
   ],
   "source": [
    "print(measure_time(hello()))"
   ]
  },
  {
   "cell_type": "code",
   "execution_count": 151,
   "id": "b88e891e",
   "metadata": {},
   "outputs": [
    {
     "name": "stdout",
     "output_type": "stream",
     "text": [
      "8.249282836914062e-05\n"
     ]
    }
   ],
   "source": [
    "import time\n",
    "\n",
    "start = time.time()\n",
    "end = time.time()\n",
    "\n",
    "print(end-start)"
   ]
  },
  {
   "cell_type": "code",
   "execution_count": 97,
   "id": "65938feb",
   "metadata": {},
   "outputs": [
    {
     "name": "stdout",
     "output_type": "stream",
     "text": [
      "Hello, welcome\n"
     ]
    }
   ],
   "source": [
    "hello()"
   ]
  },
  {
   "cell_type": "code",
   "execution_count": 106,
   "id": "804095a1",
   "metadata": {},
   "outputs": [],
   "source": [
    "def dec(fun):\n",
    "    name = \"Naresh\"\n",
    "    print(name)\n",
    "    return fun"
   ]
  },
  {
   "cell_type": "code",
   "execution_count": 107,
   "id": "35ed066e",
   "metadata": {},
   "outputs": [
    {
     "name": "stdout",
     "output_type": "stream",
     "text": [
      "Hello, welcome\n",
      "Naresh\n"
     ]
    }
   ],
   "source": [
    "dec(hello())"
   ]
  },
  {
   "cell_type": "markdown",
   "id": "34f9b0c3",
   "metadata": {},
   "source": [
    "#### main decorators"
   ]
  },
  {
   "cell_type": "code",
   "execution_count": 229,
   "id": "007c373c",
   "metadata": {},
   "outputs": [],
   "source": [
    "def sample(func):\n",
    "    print(\"Hello\")\n",
    "    return func"
   ]
  },
  {
   "cell_type": "code",
   "execution_count": 230,
   "id": "2f85a329",
   "metadata": {},
   "outputs": [
    {
     "name": "stdout",
     "output_type": "stream",
     "text": [
      "Hello\n"
     ]
    },
    {
     "data": {
      "text/plain": [
       "<function print>"
      ]
     },
     "execution_count": 230,
     "metadata": {},
     "output_type": "execute_result"
    }
   ],
   "source": [
    "sample(print)"
   ]
  },
  {
   "cell_type": "code",
   "execution_count": 231,
   "id": "7e981638",
   "metadata": {},
   "outputs": [],
   "source": [
    "def fibbonocci(n):\n",
    "#     if n == 0 | n == 1:\n",
    "    if n == 0 or n == 1:\n",
    "        return 1\n",
    "    else:\n",
    "        return n*fibbonocci(n-1)"
   ]
  },
  {
   "cell_type": "code",
   "execution_count": 232,
   "id": "ca0b54b1",
   "metadata": {},
   "outputs": [
    {
     "data": {
      "text/plain": [
       "120"
      ]
     },
     "execution_count": 232,
     "metadata": {},
     "output_type": "execute_result"
    }
   ],
   "source": [
    "fibbonocci(5)"
   ]
  },
  {
   "cell_type": "code",
   "execution_count": 233,
   "id": "f320831d",
   "metadata": {},
   "outputs": [
    {
     "name": "stdout",
     "output_type": "stream",
     "text": [
      "Hello\n"
     ]
    }
   ],
   "source": [
    "@sample\n",
    "def fibbonocci1(n):\n",
    "#     if n == 0 | n == 1:\n",
    "    if n == 0 or n == 1:\n",
    "        return 1\n",
    "    else:\n",
    "        return n*fibbonocci1(n-1)"
   ]
  },
  {
   "cell_type": "code",
   "execution_count": 234,
   "id": "82367341",
   "metadata": {},
   "outputs": [],
   "source": [
    "def make_pretty(func):\n",
    "    # define the inner function \n",
    "    def inner():\n",
    "        # add some additional behavior to decorated function\n",
    "        print(\"I got decorated\")\n",
    "\n",
    "        # call original function\n",
    "        func()\n",
    "    # return the inner function\n",
    "    return inner"
   ]
  },
  {
   "cell_type": "code",
   "execution_count": 235,
   "id": "e7ab9936",
   "metadata": {},
   "outputs": [
    {
     "name": "stdout",
     "output_type": "stream",
     "text": [
      "<function make_pretty.<locals>.inner at 0x7fdf10446950>\n"
     ]
    }
   ],
   "source": [
    "print(make_pretty(fibbonocci1(10)))"
   ]
  },
  {
   "cell_type": "code",
   "execution_count": null,
   "id": "dbdd1b9c",
   "metadata": {},
   "outputs": [],
   "source": []
  }
 ],
 "metadata": {
  "kernelspec": {
   "display_name": "Python 3 (ipykernel)",
   "language": "python",
   "name": "python3"
  },
  "language_info": {
   "codemirror_mode": {
    "name": "ipython",
    "version": 3
   },
   "file_extension": ".py",
   "mimetype": "text/x-python",
   "name": "python",
   "nbconvert_exporter": "python",
   "pygments_lexer": "ipython3",
   "version": "3.10.12"
  }
 },
 "nbformat": 4,
 "nbformat_minor": 5
}
