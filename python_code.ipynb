{
 "cells": [
  {
   "cell_type": "markdown",
   "id": "9e04f3cb",
   "metadata": {},
   "source": [
    "## Find n number of Factorials"
   ]
  },
  {
   "cell_type": "code",
   "execution_count": 1,
   "id": "5e3f257e",
   "metadata": {},
   "outputs": [],
   "source": [
    "def fact(n):\n",
    "    if n<0:\n",
    "        return (f\"Invalid Number\")\n",
    "    elif n == 0:\n",
    "        return 1\n",
    "    elif n == 1:\n",
    "        return 1\n",
    "    else:\n",
    "        return n*fact(n-1)"
   ]
  },
  {
   "cell_type": "code",
   "execution_count": 6,
   "id": "ccc27fef",
   "metadata": {},
   "outputs": [
    {
     "name": "stdout",
     "output_type": "stream",
     "text": [
      "120\n"
     ]
    }
   ],
   "source": [
    "n = 5\n",
    "print(fact(n))"
   ]
  },
  {
   "cell_type": "markdown",
   "id": "65df0173",
   "metadata": {},
   "source": [
    "## Queues"
   ]
  },
  {
   "cell_type": "code",
   "execution_count": 4,
   "id": "80d1a002",
   "metadata": {},
   "outputs": [
    {
     "name": "stdout",
     "output_type": "stream",
     "text": [
      "Select the operation 1. add 2. remove 3. show 4. quit\n",
      "1\n",
      "enter the element: 5\n",
      "5 is added into queue\n",
      "Select the operation 1. add 2. remove 3. show 4. quit\n",
      "1\n",
      "enter the element: 6\n",
      "6 is added into queue\n",
      "Select the operation 1. add 2. remove 3. show 4. quit\n",
      "3\n",
      "[5, 6]\n",
      "Select the operation 1. add 2. remove 3. show 4. quit\n",
      "1\n",
      "enter the element: 1\n",
      "1 is added into queue\n",
      "Select the operation 1. add 2. remove 3. show 4. quit\n",
      "1\n",
      "enter the element: 4\n",
      "4 is added into queue\n",
      "Select the operation 1. add 2. remove 3. show 4. quit\n",
      "1\n",
      "enter the element: 3\n",
      "3 is added into queue\n",
      "Select the operation 1. add 2. remove 3. show 4. quit\n",
      "1\n",
      "enter the element: 8\n",
      "8 is added into queue\n",
      "Select the operation 1. add 2. remove 3. show 4. quit\n",
      "8\n",
      "Enter the correct operation\n",
      "Select the operation 1. add 2. remove 3. show 4. quit\n",
      "1\n",
      "enter the element: 6\n",
      "6 is added into queue\n",
      "Select the operation 1. add 2. remove 3. show 4. quit\n",
      "4\n"
     ]
    }
   ],
   "source": [
    "queue = []\n",
    "def enqueue():\n",
    "    element = int(input(\"enter the element: \"))\n",
    "    queue.append(element)\n",
    "    print(element,\"is added into queue\")\n",
    "def dequeue():\n",
    "    if element not in queue:\n",
    "        print(\"queue is empty\")\n",
    "    else:\n",
    "        element = queue.pop()\n",
    "        print(\"Remove the element from Queue\", element)\n",
    "def display():\n",
    "    print(queue)\n",
    "\n",
    "while True:\n",
    "    print(\"Select the operation 1. add 2. remove 3. show 4. quit\")\n",
    "    choice = int(input())\n",
    "    if choice == 1:\n",
    "        enqueue()\n",
    "    elif choice == 2:\n",
    "        dequeue()\n",
    "    elif choice == 3:\n",
    "        display()\n",
    "    elif choice == 4:\n",
    "        break\n",
    "    else:\n",
    "        print(\"Enter the correct operation\")"
   ]
  },
  {
   "cell_type": "markdown",
   "id": "c2f9ae70",
   "metadata": {},
   "source": [
    "## Reversing the Vowels in given string"
   ]
  },
  {
   "cell_type": "code",
   "execution_count": 10,
   "id": "6dbcaf05",
   "metadata": {},
   "outputs": [],
   "source": [
    "def rev_vowels(ipstr):\n",
    "    li_str = list(ipstr)\n",
    "    vowels = \"aeiouAEIOU\"\n",
    "    v_i = [i for i,v in enumerate(li_str) if v in vowels]\n",
    "    rev_li_str = [li_str[i] for i in v_i[::-1]]\n",
    "    for i,c in zip(v_i,rev_li_str):\n",
    "        li_str[i] = c\n",
    "    final_str = \"\".join(li_str)\n",
    "    return final_str"
   ]
  },
  {
   "cell_type": "code",
   "execution_count": 11,
   "id": "83e6a59a",
   "metadata": {},
   "outputs": [
    {
     "name": "stdout",
     "output_type": "stream",
     "text": [
      "Enter the String to reverse vowels: hello\n"
     ]
    },
    {
     "data": {
      "text/plain": [
       "'holle'"
      ]
     },
     "execution_count": 11,
     "metadata": {},
     "output_type": "execute_result"
    }
   ],
   "source": [
    "strng = input(\"Enter the String to reverse vowels: \")\n",
    "rev_vowels(strng)"
   ]
  },
  {
   "cell_type": "markdown",
   "id": "d3b46b8c",
   "metadata": {},
   "source": [
    "## frequency of elements in given list"
   ]
  },
  {
   "cell_type": "code",
   "execution_count": 24,
   "id": "d680d871",
   "metadata": {},
   "outputs": [],
   "source": [
    "def ele_freq(l):\n",
    "    # Create the empty dictionary to store the key values pair\n",
    "    d = dict()\n",
    "    # iterate the entire given list to count the elements\n",
    "    for i in l:\n",
    "        if i != ',':\n",
    "        # in case, the given element is not in dictionary key\n",
    "        # it will add into dictionary and increase the count\n",
    "            if i not in d.keys():\n",
    "                d[i] = 1\n",
    "            else:\n",
    "                d[i] += 1\n",
    "    return d\n",
    "            \n",
    "        "
   ]
  },
  {
   "cell_type": "code",
   "execution_count": 114,
   "id": "9b03fae7",
   "metadata": {},
   "outputs": [],
   "source": [
    "def freq_list(l):\n",
    "    di = {i: l.count(i) for i in l if i != \",\"}\n",
    "    return di"
   ]
  },
  {
   "cell_type": "code",
   "execution_count": 115,
   "id": "cfe77608",
   "metadata": {},
   "outputs": [
    {
     "name": "stdout",
     "output_type": "stream",
     "text": [
      "Enter the list of values to count the elements: 6,5,4,7,3,6,3,5,3,5,4,7,5,0\n"
     ]
    },
    {
     "data": {
      "text/plain": [
       "{'6': 2, '5': 4, '4': 2, '7': 2, '3': 3, '0': 1}"
      ]
     },
     "execution_count": 115,
     "metadata": {},
     "output_type": "execute_result"
    }
   ],
   "source": [
    "li_ele = list(input(\"Enter the list of values to count the elements: \"))\n",
    "freq_list(li_ele)"
   ]
  },
  {
   "cell_type": "code",
   "execution_count": 25,
   "id": "a497cb87",
   "metadata": {},
   "outputs": [
    {
     "name": "stdout",
     "output_type": "stream",
     "text": [
      "Enter the list of values to count the elements: 2,3,1,2,3,4,2,3,4,5,4,3,2,1,3,2\n"
     ]
    },
    {
     "data": {
      "text/plain": [
       "{'2': 5, '3': 5, '1': 2, '4': 3, '5': 1}"
      ]
     },
     "execution_count": 25,
     "metadata": {},
     "output_type": "execute_result"
    }
   ],
   "source": [
    "li_ele = list(input(\"Enter the list of values to count the elements: \"))\n",
    "ele_freq(li_ele)"
   ]
  },
  {
   "cell_type": "markdown",
   "id": "39aa571e",
   "metadata": {},
   "source": [
    "## Sort the given list of elements without using Built-in function"
   ]
  },
  {
   "cell_type": "code",
   "execution_count": 55,
   "id": "26d71195",
   "metadata": {},
   "outputs": [],
   "source": [
    "l = [2,4,3,5,4,6,4,7,8,3,2,9,0]"
   ]
  },
  {
   "cell_type": "markdown",
   "id": "69c12a71",
   "metadata": {},
   "source": [
    "### Ascending list"
   ]
  },
  {
   "cell_type": "code",
   "execution_count": 98,
   "id": "e31b4ed7",
   "metadata": {},
   "outputs": [],
   "source": [
    "def sort_asc_without_builtin(li):\n",
    "    for i in range(len(li)):\n",
    "        for j in range(0,len(li)-i-1):\n",
    "            if li[j] > li[j+1]:\n",
    "                li[j],li[j+1] = li[j+1],li[j]\n",
    "    l1 = []\n",
    "    for i in li:\n",
    "        if i !=',':\n",
    "            l1.append(i) \n",
    "    return l1"
   ]
  },
  {
   "cell_type": "code",
   "execution_count": 108,
   "id": "0f5faab1",
   "metadata": {},
   "outputs": [
    {
     "name": "stdout",
     "output_type": "stream",
     "text": [
      "Enter the list of values for sorting ASC: 6,2,8,6,9,0\n",
      "\n",
      "Sorted list to ASC: ['0', '2', '6', '6', '8', '9']\n"
     ]
    }
   ],
   "source": [
    "list_values = list(input(\"Enter the list of values for sorting ASC: \"))\n",
    "print()\n",
    "print(f\"Sorted list to ASC: {sort_asc_without_builtin(list_values)}\")"
   ]
  },
  {
   "cell_type": "markdown",
   "id": "61b8e002",
   "metadata": {},
   "source": [
    "### Descending list"
   ]
  },
  {
   "cell_type": "code",
   "execution_count": 105,
   "id": "24a81f20",
   "metadata": {},
   "outputs": [],
   "source": [
    "def sort_desc_without_builtin(li):\n",
    "    for i in range(len(li)):\n",
    "        for j in range(0,len(li)-i-1):\n",
    "            if li[j] < li[j+1]:\n",
    "                li[j],li[j+1] = li[j+1],li[j]\n",
    "    l1 = []\n",
    "    for i in li:\n",
    "        if i !=',':\n",
    "            l1.append(i) \n",
    "    return l1"
   ]
  },
  {
   "cell_type": "code",
   "execution_count": 109,
   "id": "5038dbc2",
   "metadata": {},
   "outputs": [
    {
     "name": "stdout",
     "output_type": "stream",
     "text": [
      "Enter the list of values for sorting DESC: 7,4,1,0,9,3,6\n",
      "\n",
      "Sorted list to DESC: ['9', '7', '6', '4', '3', '1', '0']\n"
     ]
    }
   ],
   "source": [
    "list_values = list(input(\"Enter the list of values for sorting DESC: \"))\n",
    "print()\n",
    "print(f\"Sorted list to DESC: {sort_desc_without_builtin(list_values)}\")"
   ]
  },
  {
   "cell_type": "markdown",
   "id": "1e64883f",
   "metadata": {},
   "source": [
    "## Swapping the variable values"
   ]
  },
  {
   "cell_type": "code",
   "execution_count": 182,
   "id": "7c87b053",
   "metadata": {},
   "outputs": [
    {
     "name": "stdout",
     "output_type": "stream",
     "text": [
      "3 7\n"
     ]
    }
   ],
   "source": [
    "a = 3\n",
    "b = 7\n",
    "print(a,b)"
   ]
  },
  {
   "cell_type": "code",
   "execution_count": 183,
   "id": "c4ab0e7a",
   "metadata": {},
   "outputs": [
    {
     "name": "stdout",
     "output_type": "stream",
     "text": [
      "7 3\n"
     ]
    }
   ],
   "source": [
    "a,b = b,a\n",
    "print(a,b)"
   ]
  },
  {
   "cell_type": "code",
   "execution_count": 184,
   "id": "ed3a3ff2",
   "metadata": {},
   "outputs": [
    {
     "name": "stdout",
     "output_type": "stream",
     "text": [
      "3 7\n"
     ]
    }
   ],
   "source": [
    "a = a+b\n",
    "b = a-b\n",
    "a = a-b\n",
    "print(a,b)"
   ]
  },
  {
   "cell_type": "code",
   "execution_count": 185,
   "id": "0b3f2642",
   "metadata": {},
   "outputs": [
    {
     "name": "stdout",
     "output_type": "stream",
     "text": [
      "7.0 3.0\n"
     ]
    }
   ],
   "source": [
    "a = a*b\n",
    "b = a/b\n",
    "a = a/b\n",
    "print(a,b)"
   ]
  },
  {
   "cell_type": "code",
   "execution_count": 189,
   "id": "fea3d245",
   "metadata": {},
   "outputs": [
    {
     "name": "stdout",
     "output_type": "stream",
     "text": [
      "3.0 7.0\n"
     ]
    }
   ],
   "source": [
    "swap = lambda a,b : [b,a]\n",
    "b,a = swap(a,b)\n",
    "print(a,b)"
   ]
  },
  {
   "cell_type": "code",
   "execution_count": 190,
   "id": "821554cf",
   "metadata": {},
   "outputs": [
    {
     "name": "stdout",
     "output_type": "stream",
     "text": [
      "7.0 3.0\n"
     ]
    }
   ],
   "source": [
    "temp = a\n",
    "a = b\n",
    "b = temp\n",
    "print(a,b)"
   ]
  },
  {
   "cell_type": "markdown",
   "id": "60eacc9f",
   "metadata": {},
   "source": [
    "## Pandas E-Commerce QandA\n",
    "\n",
    "1. Given a DataFrame with customer transactions, identify all customers who have increased their monthly spending by at least 20% compared to their 6 month average.\n",
    "Sample Data: Assume a DataFrame transactions with columns ['CustomerID', 'TransactionDate', 'Amount']."
   ]
  },
  {
   "cell_type": "code",
   "execution_count": 1,
   "id": "31548526",
   "metadata": {},
   "outputs": [],
   "source": [
    "cid = [1,1,1,2,2,2,3,3,3]\n",
    "tdate = ['2023-01-01', '2023-02-01', '2023-03-01',\n",
    "         '2023-01-01', '2023-02-01', '2023-03-01', \n",
    "         '2023-01-01', '2023-02-01', '2023-03-01']\n",
    "amount = [100, 120, 80, 200, 180, 220, 150, 160, 140]"
   ]
  },
  {
   "cell_type": "code",
   "execution_count": 2,
   "id": "8e11c2db",
   "metadata": {},
   "outputs": [],
   "source": [
    "import pandas as pd"
   ]
  },
  {
   "cell_type": "code",
   "execution_count": 38,
   "id": "909f5f35",
   "metadata": {},
   "outputs": [
    {
     "data": {
      "text/html": [
       "<div>\n",
       "<style scoped>\n",
       "    .dataframe tbody tr th:only-of-type {\n",
       "        vertical-align: middle;\n",
       "    }\n",
       "\n",
       "    .dataframe tbody tr th {\n",
       "        vertical-align: top;\n",
       "    }\n",
       "\n",
       "    .dataframe thead th {\n",
       "        text-align: right;\n",
       "    }\n",
       "</style>\n",
       "<table border=\"1\" class=\"dataframe\">\n",
       "  <thead>\n",
       "    <tr style=\"text-align: right;\">\n",
       "      <th></th>\n",
       "      <th>CustomerID</th>\n",
       "      <th>transactionDate</th>\n",
       "      <th>Amount</th>\n",
       "    </tr>\n",
       "  </thead>\n",
       "  <tbody>\n",
       "    <tr>\n",
       "      <th>0</th>\n",
       "      <td>1</td>\n",
       "      <td>2023-01-01</td>\n",
       "      <td>100</td>\n",
       "    </tr>\n",
       "    <tr>\n",
       "      <th>1</th>\n",
       "      <td>1</td>\n",
       "      <td>2023-02-01</td>\n",
       "      <td>120</td>\n",
       "    </tr>\n",
       "    <tr>\n",
       "      <th>2</th>\n",
       "      <td>1</td>\n",
       "      <td>2023-03-01</td>\n",
       "      <td>80</td>\n",
       "    </tr>\n",
       "    <tr>\n",
       "      <th>3</th>\n",
       "      <td>2</td>\n",
       "      <td>2023-01-01</td>\n",
       "      <td>200</td>\n",
       "    </tr>\n",
       "    <tr>\n",
       "      <th>4</th>\n",
       "      <td>2</td>\n",
       "      <td>2023-02-01</td>\n",
       "      <td>180</td>\n",
       "    </tr>\n",
       "    <tr>\n",
       "      <th>5</th>\n",
       "      <td>2</td>\n",
       "      <td>2023-03-01</td>\n",
       "      <td>220</td>\n",
       "    </tr>\n",
       "    <tr>\n",
       "      <th>6</th>\n",
       "      <td>3</td>\n",
       "      <td>2023-01-01</td>\n",
       "      <td>150</td>\n",
       "    </tr>\n",
       "    <tr>\n",
       "      <th>7</th>\n",
       "      <td>3</td>\n",
       "      <td>2023-02-01</td>\n",
       "      <td>160</td>\n",
       "    </tr>\n",
       "    <tr>\n",
       "      <th>8</th>\n",
       "      <td>3</td>\n",
       "      <td>2023-03-01</td>\n",
       "      <td>140</td>\n",
       "    </tr>\n",
       "  </tbody>\n",
       "</table>\n",
       "</div>"
      ],
      "text/plain": [
       "  CustomerID transactionDate Amount\n",
       "0          1      2023-01-01    100\n",
       "1          1      2023-02-01    120\n",
       "2          1      2023-03-01     80\n",
       "3          2      2023-01-01    200\n",
       "4          2      2023-02-01    180\n",
       "5          2      2023-03-01    220\n",
       "6          3      2023-01-01    150\n",
       "7          3      2023-02-01    160\n",
       "8          3      2023-03-01    140"
      ]
     },
     "execution_count": 38,
     "metadata": {},
     "output_type": "execute_result"
    }
   ],
   "source": [
    "pdf = pd.DataFrame([cid, tdate, amount], index = [\"CustomerID\",\"transactionDate\",\"Amount\"]).T\n",
    "pdf"
   ]
  },
  {
   "cell_type": "code",
   "execution_count": 39,
   "id": "29991fd5",
   "metadata": {},
   "outputs": [
    {
     "data": {
      "text/plain": [
       "CustomerID         object\n",
       "transactionDate    object\n",
       "Amount             object\n",
       "dtype: object"
      ]
     },
     "execution_count": 39,
     "metadata": {},
     "output_type": "execute_result"
    }
   ],
   "source": [
    "pdf.dtypes"
   ]
  },
  {
   "cell_type": "code",
   "execution_count": 40,
   "id": "4a4ce62a",
   "metadata": {},
   "outputs": [
    {
     "data": {
      "text/plain": [
       "dtype('O')"
      ]
     },
     "execution_count": 40,
     "metadata": {},
     "output_type": "execute_result"
    }
   ],
   "source": [
    "pdf[\"transactionDate\"].dtype"
   ]
  },
  {
   "cell_type": "code",
   "execution_count": 41,
   "id": "18e8355b",
   "metadata": {},
   "outputs": [
    {
     "data": {
      "text/plain": [
       "CustomerID                 object\n",
       "transactionDate    datetime64[ns]\n",
       "Amount                     object\n",
       "dtype: object"
      ]
     },
     "execution_count": 41,
     "metadata": {},
     "output_type": "execute_result"
    }
   ],
   "source": [
    "pdf[\"transactionDate\"] = pd.to_datetime(pdf[\"transactionDate\"])\n",
    "pdf.dtypes"
   ]
  },
  {
   "cell_type": "code",
   "execution_count": 42,
   "id": "eebff433",
   "metadata": {},
   "outputs": [
    {
     "data": {
      "text/plain": [
       "0    100.0\n",
       "1    110.0\n",
       "2    100.0\n",
       "3    200.0\n",
       "4    190.0\n",
       "5    200.0\n",
       "6    150.0\n",
       "7    155.0\n",
       "8    150.0\n",
       "Name: Amount, dtype: float64"
      ]
     },
     "execution_count": 42,
     "metadata": {},
     "output_type": "execute_result"
    }
   ],
   "source": [
    "# Calculate 6 months average spending\n",
    "\n",
    "grp = pdf.groupby([\"CustomerID\"])[\"Amount\"]\n",
    "roll = grp.rolling(window = 6, min_periods = 1).mean()\n",
    "six_months_avg = roll.reset_index(level = 0, drop = True)\n",
    "six_months_avg"
   ]
  },
  {
   "cell_type": "code",
   "execution_count": 43,
   "id": "2a1424aa",
   "metadata": {},
   "outputs": [
    {
     "data": {
      "text/html": [
       "<div>\n",
       "<style scoped>\n",
       "    .dataframe tbody tr th:only-of-type {\n",
       "        vertical-align: middle;\n",
       "    }\n",
       "\n",
       "    .dataframe tbody tr th {\n",
       "        vertical-align: top;\n",
       "    }\n",
       "\n",
       "    .dataframe thead th {\n",
       "        text-align: right;\n",
       "    }\n",
       "</style>\n",
       "<table border=\"1\" class=\"dataframe\">\n",
       "  <thead>\n",
       "    <tr style=\"text-align: right;\">\n",
       "      <th></th>\n",
       "      <th>CustomerID</th>\n",
       "      <th>transactionDate</th>\n",
       "      <th>Amount</th>\n",
       "      <th>Amount_6m_avg</th>\n",
       "    </tr>\n",
       "  </thead>\n",
       "  <tbody>\n",
       "    <tr>\n",
       "      <th>0</th>\n",
       "      <td>1</td>\n",
       "      <td>2023-01-01</td>\n",
       "      <td>100</td>\n",
       "      <td>110.0</td>\n",
       "    </tr>\n",
       "    <tr>\n",
       "      <th>1</th>\n",
       "      <td>1</td>\n",
       "      <td>2023-02-01</td>\n",
       "      <td>120</td>\n",
       "      <td>110.0</td>\n",
       "    </tr>\n",
       "    <tr>\n",
       "      <th>2</th>\n",
       "      <td>1</td>\n",
       "      <td>2023-03-01</td>\n",
       "      <td>80</td>\n",
       "      <td>110.0</td>\n",
       "    </tr>\n",
       "    <tr>\n",
       "      <th>3</th>\n",
       "      <td>2</td>\n",
       "      <td>2023-01-01</td>\n",
       "      <td>200</td>\n",
       "      <td>100.0</td>\n",
       "    </tr>\n",
       "    <tr>\n",
       "      <th>4</th>\n",
       "      <td>2</td>\n",
       "      <td>2023-02-01</td>\n",
       "      <td>180</td>\n",
       "      <td>100.0</td>\n",
       "    </tr>\n",
       "    <tr>\n",
       "      <th>5</th>\n",
       "      <td>2</td>\n",
       "      <td>2023-03-01</td>\n",
       "      <td>220</td>\n",
       "      <td>100.0</td>\n",
       "    </tr>\n",
       "    <tr>\n",
       "      <th>6</th>\n",
       "      <td>3</td>\n",
       "      <td>2023-01-01</td>\n",
       "      <td>150</td>\n",
       "      <td>200.0</td>\n",
       "    </tr>\n",
       "    <tr>\n",
       "      <th>7</th>\n",
       "      <td>3</td>\n",
       "      <td>2023-02-01</td>\n",
       "      <td>160</td>\n",
       "      <td>200.0</td>\n",
       "    </tr>\n",
       "    <tr>\n",
       "      <th>8</th>\n",
       "      <td>3</td>\n",
       "      <td>2023-03-01</td>\n",
       "      <td>140</td>\n",
       "      <td>200.0</td>\n",
       "    </tr>\n",
       "  </tbody>\n",
       "</table>\n",
       "</div>"
      ],
      "text/plain": [
       "  CustomerID transactionDate Amount  Amount_6m_avg\n",
       "0          1      2023-01-01    100          110.0\n",
       "1          1      2023-02-01    120          110.0\n",
       "2          1      2023-03-01     80          110.0\n",
       "3          2      2023-01-01    200          100.0\n",
       "4          2      2023-02-01    180          100.0\n",
       "5          2      2023-03-01    220          100.0\n",
       "6          3      2023-01-01    150          200.0\n",
       "7          3      2023-02-01    160          200.0\n",
       "8          3      2023-03-01    140          200.0"
      ]
     },
     "execution_count": 43,
     "metadata": {},
     "output_type": "execute_result"
    }
   ],
   "source": [
    "pdf = pdf.join(six_months_avg, rsuffix = \"_6m_avg\", on = \"CustomerID\")\n",
    "pdf"
   ]
  },
  {
   "cell_type": "code",
   "execution_count": 47,
   "id": "fc214c7f",
   "metadata": {},
   "outputs": [
    {
     "name": "stdout",
     "output_type": "stream",
     "text": [
      "[2]\n"
     ]
    }
   ],
   "source": [
    "incr_spend = pdf[pdf[\"Amount\"] >= 1.2 * pdf[\"Amount_6m_avg\"]][\"CustomerID\"].unique()\n",
    "print(incr_spend)"
   ]
  },
  {
   "cell_type": "markdown",
   "id": "63b96bf4",
   "metadata": {},
   "source": [
    "### Count vowels in given string"
   ]
  },
  {
   "cell_type": "code",
   "execution_count": 14,
   "id": "15b66f22",
   "metadata": {},
   "outputs": [],
   "source": [
    "def count_vowels(txt):\n",
    "    vowels = \"AEIOUaeiou\"\n",
    "#     count = 0\n",
    "#     for ch in txt:\n",
    "#         if ch in vowels:\n",
    "#             count += 1\n",
    "            \n",
    "    c = len([i for i in txt if i in vowels])\n",
    "    return f\"The given string of vowels are: {c}\"\n",
    "            "
   ]
  },
  {
   "cell_type": "code",
   "execution_count": 15,
   "id": "c2ca55e6",
   "metadata": {},
   "outputs": [
    {
     "data": {
      "text/plain": [
       "'The given string of vowels are: 13'"
      ]
     },
     "execution_count": 15,
     "metadata": {},
     "output_type": "execute_result"
    }
   ],
   "source": [
    "count_vowels(\"Hello, welcome naresh this is first time right\")"
   ]
  },
  {
   "cell_type": "markdown",
   "id": "894d8e0e",
   "metadata": {},
   "source": [
    "### Add hexadecimal values"
   ]
  },
  {
   "cell_type": "code",
   "execution_count": 47,
   "id": "07417f87",
   "metadata": {},
   "outputs": [],
   "source": [
    "stng1 = \"Hell, \\x44\\x45\\x46\\x47\\x48\""
   ]
  },
  {
   "cell_type": "code",
   "execution_count": 48,
   "id": "fee3647d",
   "metadata": {},
   "outputs": [
    {
     "name": "stdout",
     "output_type": "stream",
     "text": [
      "Hell, DEFGH\n"
     ]
    }
   ],
   "source": [
    "print(stng1)"
   ]
  },
  {
   "cell_type": "code",
   "execution_count": 33,
   "id": "4244a2fe",
   "metadata": {},
   "outputs": [],
   "source": [
    "st1 = \"ABCDE\""
   ]
  },
  {
   "cell_type": "code",
   "execution_count": 38,
   "id": "cfe827eb",
   "metadata": {},
   "outputs": [
    {
     "data": {
      "text/plain": [
       "'61626364'"
      ]
     },
     "execution_count": 38,
     "metadata": {},
     "output_type": "execute_result"
    }
   ],
   "source": [
    "\"abcd\".encode(\"utf-8\").hex()"
   ]
  },
  {
   "cell_type": "code",
   "execution_count": 42,
   "id": "97c7f836",
   "metadata": {},
   "outputs": [
    {
     "data": {
      "text/plain": [
       "'6e6172657368'"
      ]
     },
     "execution_count": 42,
     "metadata": {},
     "output_type": "execute_result"
    }
   ],
   "source": [
    "\"naresh\".encode('utf-8').hex()"
   ]
  },
  {
   "cell_type": "code",
   "execution_count": 43,
   "id": "be33ce2b",
   "metadata": {},
   "outputs": [
    {
     "data": {
      "text/plain": [
       "'41424344'"
      ]
     },
     "execution_count": 43,
     "metadata": {},
     "output_type": "execute_result"
    }
   ],
   "source": [
    "\"ABCD\".encode('utf-8').hex()"
   ]
  },
  {
   "cell_type": "code",
   "execution_count": 46,
   "id": "f499f60f",
   "metadata": {},
   "outputs": [
    {
     "data": {
      "text/plain": [
       "'4142434445'"
      ]
     },
     "execution_count": 46,
     "metadata": {},
     "output_type": "execute_result"
    }
   ],
   "source": [
    "st1.encode(\"utf-8\").hex()"
   ]
  },
  {
   "cell_type": "code",
   "execution_count": 54,
   "id": "8f08d46a",
   "metadata": {},
   "outputs": [
    {
     "name": "stdout",
     "output_type": "stream",
     "text": [
      "\u0001\u0002\u0003\u0004\u0005\u0006\u0007\b\t\u0010\u0011\u0012\u0013\u0014\u0015\u0016\u0017\u0018\u0019 \n",
      "!\"#$%&'()0123456789@\n",
      "ABCDEFGHIPQRSTUVWXY`\n"
     ]
    }
   ],
   "source": [
    "s = \"\"\"\\x01\\x02\\x03\\x04\\x05\\x06\\x07\\x08\\x09\\x10\\x11\\x12\\x13\\x14\\x15\\x16\\x17\\x18\\x19\\x20\n",
    "\\x21\\x22\\x23\\x24\\x25\\x26\\x27\\x28\\x29\\x30\\x31\\x32\\x33\\x34\\x35\\x36\\x37\\x38\\x39\\x40\n",
    "\\x41\\x42\\x43\\x44\\x45\\x46\\x47\\x48\\x49\\x50\\x51\\x52\\x53\\x54\\x55\\x56\\x57\\x58\\x59\\x60\"\"\"\n",
    "print(s)"
   ]
  },
  {
   "cell_type": "code",
   "execution_count": 57,
   "id": "2ab65def",
   "metadata": {},
   "outputs": [
    {
     "name": "stdout",
     "output_type": "stream",
     "text": [
      "I\n"
     ]
    }
   ],
   "source": [
    "print(\"\\x49\")"
   ]
  },
  {
   "cell_type": "code",
   "execution_count": 58,
   "id": "f8002aa9",
   "metadata": {},
   "outputs": [
    {
     "data": {
      "text/plain": [
       "'4a'"
      ]
     },
     "execution_count": 58,
     "metadata": {},
     "output_type": "execute_result"
    }
   ],
   "source": [
    "\"J\".encode(\"utf-8\").hex()"
   ]
  },
  {
   "cell_type": "code",
   "execution_count": 60,
   "id": "220a45cc",
   "metadata": {},
   "outputs": [],
   "source": [
    "s1 = \"\"\"\\x61\\x62\\x63\\x64\\x65\\x66\\x67\\x68\\x69\\x70\n",
    "\\x71\\x72\\x73\\x74\\x75\\x76\\x77\\x78\\x79\\x80\n",
    "\\x81\\x82\\x83\\x84\\x85\\x86\\x87\\x88\\x89\\x90\n",
    "\\x91\\x92\\x93\\x94\\x95\\x96\\x97\\x98\\x99\\x100\"\"\""
   ]
  },
  {
   "cell_type": "code",
   "execution_count": 62,
   "id": "a9807524",
   "metadata": {},
   "outputs": [
    {
     "name": "stdout",
     "output_type": "stream",
     "text": [
      "abcdefghip\n",
      "qrstuvwxy\n",
      "\n",
      "\n",
      "\n",
      "\u00100\n"
     ]
    }
   ],
   "source": [
    "print(s1)"
   ]
  },
  {
   "cell_type": "markdown",
   "id": "00908753",
   "metadata": {},
   "source": [
    "##### Lower Case\n",
    "\n",
    "without \"j,k,l,m,n,o and z\""
   ]
  },
  {
   "cell_type": "code",
   "execution_count": 89,
   "id": "83038813",
   "metadata": {},
   "outputs": [
    {
     "name": "stdout",
     "output_type": "stream",
     "text": [
      "a - y\n"
     ]
    }
   ],
   "source": [
    "print(\"\\x61 - \\x79\")"
   ]
  },
  {
   "cell_type": "code",
   "execution_count": 98,
   "id": "3d4e3237",
   "metadata": {},
   "outputs": [
    {
     "data": {
      "text/plain": [
       "'6a6b6c6d6e6f7a'"
      ]
     },
     "execution_count": 98,
     "metadata": {},
     "output_type": "execute_result"
    }
   ],
   "source": [
    "ns = \"jklmnoz\"\n",
    "ns.encode(\"utf-8\").hex()"
   ]
  },
  {
   "cell_type": "code",
   "execution_count": 99,
   "id": "fdf192f3",
   "metadata": {},
   "outputs": [
    {
     "name": "stdout",
     "output_type": "stream",
     "text": [
      "j - o\n"
     ]
    }
   ],
   "source": [
    "print(\"\\x6a - \\x6f\")"
   ]
  },
  {
   "cell_type": "code",
   "execution_count": 100,
   "id": "52596232",
   "metadata": {},
   "outputs": [
    {
     "name": "stdout",
     "output_type": "stream",
     "text": [
      "z\n"
     ]
    }
   ],
   "source": [
    "print(\"\\x7a\")"
   ]
  },
  {
   "cell_type": "markdown",
   "id": "fc0596f1",
   "metadata": {},
   "source": [
    "##### Upper Case\n",
    "\n",
    "without \"J,K,L,M,N,O and Z\""
   ]
  },
  {
   "cell_type": "code",
   "execution_count": 93,
   "id": "0fbd3a68",
   "metadata": {},
   "outputs": [
    {
     "name": "stdout",
     "output_type": "stream",
     "text": [
      "A - Y\n"
     ]
    }
   ],
   "source": [
    "print(\"\\x41 - \\x59\")"
   ]
  },
  {
   "cell_type": "code",
   "execution_count": 94,
   "id": "03579716",
   "metadata": {},
   "outputs": [
    {
     "data": {
      "text/plain": [
       "'4a4b4c4d4e4f5a'"
      ]
     },
     "execution_count": 94,
     "metadata": {},
     "output_type": "execute_result"
    }
   ],
   "source": [
    "ns = \"JKLMNOZ\"\n",
    "ns.encode(\"utf-8\").hex()"
   ]
  },
  {
   "cell_type": "code",
   "execution_count": 97,
   "id": "67d06129",
   "metadata": {},
   "outputs": [
    {
     "name": "stdout",
     "output_type": "stream",
     "text": [
      "J - O\n"
     ]
    }
   ],
   "source": [
    "print(\"\\x4a - \\x4f\")"
   ]
  },
  {
   "cell_type": "code",
   "execution_count": 96,
   "id": "1c0eea16",
   "metadata": {},
   "outputs": [
    {
     "name": "stdout",
     "output_type": "stream",
     "text": [
      "Z\n"
     ]
    }
   ],
   "source": [
    "print(\"\\x5a\")"
   ]
  },
  {
   "cell_type": "markdown",
   "id": "8b54bea2",
   "metadata": {},
   "source": [
    "##### Numbers Case"
   ]
  },
  {
   "cell_type": "code",
   "execution_count": 86,
   "id": "9da926d4",
   "metadata": {},
   "outputs": [
    {
     "name": "stdout",
     "output_type": "stream",
     "text": [
      "0 - 9\n"
     ]
    }
   ],
   "source": [
    "print(\"\\x30 - \\x39\")"
   ]
  },
  {
   "cell_type": "markdown",
   "id": "0ace87ba",
   "metadata": {},
   "source": [
    "### Time Complexity check\n",
    "#### Comparing execution og Quick Sort and Merge sort Algorithms"
   ]
  },
  {
   "cell_type": "code",
   "execution_count": 69,
   "id": "fbb72c38",
   "metadata": {},
   "outputs": [],
   "source": [
    "import sys\n",
    "import time"
   ]
  },
  {
   "cell_type": "markdown",
   "id": "37b1b53e",
   "metadata": {},
   "source": [
    "##### Timer Function"
   ]
  },
  {
   "cell_type": "code",
   "execution_count": 70,
   "id": "33c92a68",
   "metadata": {},
   "outputs": [],
   "source": [
    "def set_timer(func):\n",
    "    def wrapper(*args,**kwargs):\n",
    "        start = time.time()\n",
    "        result = func(*args, **kwargs)\n",
    "        end = time.time()\n",
    "        duration = end - start\n",
    "        print(f\"The function {func.__name__} took {duration}\")\n",
    "        return result\n",
    "    return wrapper"
   ]
  },
  {
   "cell_type": "markdown",
   "id": "d84f1453",
   "metadata": {},
   "source": [
    "##### Merge Sort"
   ]
  },
  {
   "cell_type": "code",
   "execution_count": 71,
   "id": "98fd02a7",
   "metadata": {},
   "outputs": [],
   "source": [
    "@set_timer\n",
    "def merge_sort(A):\n",
    "    merge_sort_2(A, 0, len(A) - 1)\n",
    "\n",
    "def merge_sort_2(A, first, last):\n",
    "    if first < last:\n",
    "        middle = (first + last)//2\n",
    "        merge_sort_2(A, first, middle)\n",
    "        merge_sort_2(A, middle + 1, last)\n",
    "        merge(A, first, middle, last)\n",
    "\n",
    "def merge(A, first, middle, last):\n",
    "    left = A[first:middle + 1]\n",
    "    right = A[middle + 1:last + 1]\n",
    "    left.append(sys.maxsize)\n",
    "    top_right = top_left = 0\n",
    "\n",
    "    for k in range(first, last + 1):\n",
    "        if left[top_left] < right[top_right]:\n",
    "            A[k] = left[top_left]\n",
    "            top_left += 1\n",
    "        else:\n",
    "            A[k] = right[top_right]\n",
    "            top_right += 1"
   ]
  },
  {
   "cell_type": "markdown",
   "id": "b092ea22",
   "metadata": {},
   "source": [
    "##### Quick Sort"
   ]
  },
  {
   "cell_type": "code",
   "execution_count": 72,
   "id": "a39f1e9c",
   "metadata": {},
   "outputs": [],
   "source": [
    "@set_timer\n",
    "def quickSort(A):\n",
    "    sort(A, 0, len(A) - 1)\n",
    "\n",
    "def partition(A, low, hi):\n",
    "    pivot_index = get_pivot(A, low, hi)\n",
    "    pivot_value = A[pivot_index]\n",
    "    A[pivot_index], A[low] = A[low], A[pivot_index]\n",
    "    border = low\n",
    "\n",
    "    for i in range(low, hi + 1):\n",
    "        if A[i] < pivot_value:\n",
    "            border += 1\n",
    "            A[i], A[border] = A[border], A[i]\n",
    "    A[low], A[border] = A[border], A[low]\n",
    "    return border\n",
    "\n",
    "\n",
    "def get_pivot(A, low, hi):\n",
    "    \"\"\" Pivot is the median of three values\"\"\"\n",
    "    mid = (low + hi)//2\n",
    "    pivot = hi\n",
    "    if A[low] < A[mid]:\n",
    "        if A[mid] < A[hi]:\n",
    "            pivot = mid\n",
    "    elif A[low] < A[hi]:\n",
    "        pivot = low\n",
    "    return pivot\n",
    "\n",
    "def sort(A, low, hi):\n",
    "    if low < hi:\n",
    "        border = partition(A, low, hi)\n",
    "        sort(A, low, border - 1)\n",
    "        sort(A, border + 1, hi)"
   ]
  },
  {
   "cell_type": "markdown",
   "id": "e2e2f99e",
   "metadata": {},
   "source": [
    "##### Comparision"
   ]
  },
  {
   "cell_type": "code",
   "execution_count": 73,
   "id": "19639c5a",
   "metadata": {},
   "outputs": [],
   "source": [
    "import random"
   ]
  },
  {
   "cell_type": "code",
   "execution_count": 82,
   "id": "ce518033",
   "metadata": {},
   "outputs": [],
   "source": [
    "A = random.sample(range(0, 5000), 1000)\n",
    "B = random.sample(range(0, 5000), 1000)"
   ]
  },
  {
   "cell_type": "code",
   "execution_count": 83,
   "id": "40501a5a",
   "metadata": {},
   "outputs": [
    {
     "name": "stdout",
     "output_type": "stream",
     "text": [
      "1000\n"
     ]
    }
   ],
   "source": [
    "print(len(A))"
   ]
  },
  {
   "cell_type": "code",
   "execution_count": 84,
   "id": "eadccf65",
   "metadata": {},
   "outputs": [
    {
     "name": "stdout",
     "output_type": "stream",
     "text": [
      "[3201, 2114, 4143, 3348, 124, 2852, 4628, 2465, 4106, 2459, 4923, 1171, 4892, 4623, 3562, 1767, 1580, 3855, 2002, 1112, 1265, 2359, 2523, 2364, 1031, 62, 1503, 4301, 453, 55, 2412, 927, 2674, 3305, 3174, 510, 2824, 2184, 1657, 3257, 4013, 3341, 1021, 1971, 2818, 3045, 310, 586, 4162, 5, 2479, 793, 4746, 131, 2301, 2750, 673, 4811, 3938, 3315, 842, 410, 609, 2913, 3275, 2051, 4536, 2402, 1844, 3280, 1756, 2823, 304, 3871, 2732, 148, 2350, 3343, 787, 4268, 4360, 4612, 4571, 4898, 1272, 1504, 1574, 4158, 2600, 1039, 3092, 1585, 3024, 2292, 2631, 3763, 3672, 4671, 3898, 3062, 1721, 2174, 2010, 1817, 837, 4074, 2262, 1654, 1838, 683, 1185, 1706, 251, 3848, 2277, 501, 1096, 4103, 3177, 3869, 2806, 1514, 3200, 3558, 248, 3153, 4686, 338, 4725, 1091, 2323, 3059, 3886, 2363, 2582, 2755, 2598, 3740, 1082, 109, 3718, 273, 3634, 2621, 3753, 2428, 1861, 2506, 3279, 738, 2675, 2999, 203, 2698, 3883, 1070, 2696, 869, 3006, 41, 4617, 4568, 4141, 1434, 4217, 627, 2451, 51, 1798, 2259, 892, 1723, 1550, 2248, 325, 1737, 1290, 2825, 116, 3312, 2279, 4637, 1494, 284, 1371, 2882, 398, 4040, 3211, 1912, 3111, 924, 4316, 1647, 4980, 1390, 2630, 2709, 2974, 3438, 2557, 4296, 816, 4667, 2888, 2799, 4386, 2384, 2206, 4399, 2309, 1094, 4952, 972, 4046, 4621, 1061, 906, 2808, 2395, 2742, 2886, 2815, 4710, 3527, 2850, 3968, 4705, 961, 65, 3302, 2343, 139, 2271, 4688, 2021, 2877, 1982, 4481, 871, 3816, 4740, 1008, 1433, 2035, 792, 4413, 904, 2699, 4351, 2113, 2686, 1822, 620, 3636, 719, 1545, 1429, 2977, 3864, 641, 2083, 585, 2319, 3071, 2596, 3805, 1246, 4607, 2195, 4794, 1479, 1558, 2280, 1661, 594, 1742, 525, 4149, 4817, 259, 2111, 3738, 1118, 2273, 2599, 1029, 486, 2469, 1283, 4314, 2085, 828, 1114, 224, 1032, 4845, 2025, 4645, 1463, 245, 2791, 4265, 4429, 515, 4239, 2573, 4639, 3606, 2950, 70, 4878, 3597, 4523, 2871, 2099, 845, 78, 4993, 4721, 4419, 349, 2142, 388, 1536, 2404, 4431, 3701, 3893, 3927, 1088, 477, 684, 1458, 3953, 1537, 2075, 2241, 1964, 3774, 4341, 3771, 716, 3155, 1858, 1101, 3354, 3145, 556, 4504, 4827, 595, 932, 1451, 2284, 4569, 2581, 570, 2757, 3247, 275, 903, 4557, 4073, 2503, 894, 2618, 3697, 3745, 291, 2514, 1502, 1408, 2673, 2647, 545, 1247, 2450, 4767, 2436, 4556, 2375, 3394, 1962, 1590, 1615, 1217, 2295, 764, 4728, 176, 4755, 2919, 2003, 2901, 1852, 127, 714, 13, 3742, 1693, 2928, 868, 2144, 2403, 3309, 4501, 301, 2958, 1195, 409, 2797, 2098, 3569, 1499, 2499, 1846, 2252, 2119, 991, 941, 3298, 4821, 1972, 2415, 3578, 567, 4547, 1511, 617, 3993, 1793, 4736, 661, 4079, 4354, 4169, 1214, 696, 2704, 3949, 3673, 4376, 4300, 2746, 926, 4650, 3664, 4914, 2444, 1055, 4511, 334, 4752, 1202, 3456, 1046, 1958, 2984, 4738, 3105, 1287, 2235, 2257, 4261, 1714, 634, 4211, 1087, 4044, 1812, 2832, 1808, 928, 4904, 2541, 3744, 1432, 1538, 3266, 283, 1776, 2917, 4381, 3270, 3458, 2754, 4759, 864, 1739, 20, 1746, 3648, 994, 2356, 1724, 4596, 1332, 1270, 2204, 32, 3813, 250, 3342, 352, 4897, 3353, 855, 1713, 2125, 3504, 1522, 499, 1048, 3336, 1622, 4039, 3599, 1978, 1807, 4585, 834, 333, 2321, 944, 1850, 3408, 309, 3429, 2492, 3434, 1262, 4198, 2708, 1464, 2811, 49, 3128, 4132, 2001, 933, 1856, 875, 1634, 4700, 4970, 3967, 762, 2187, 2872, 4375, 2049, 2371, 3389, 4919, 3437, 4889, 3995, 2421, 2315, 2720, 2443, 1970, 1953, 1368, 375, 3709, 1507, 4651, 2362, 3789, 2399, 4987, 3987, 2369, 1267, 3350, 1897, 1747, 861, 4723, 3942, 4872, 2339, 3928, 4894, 943, 1887, 494, 1900, 1595, 4236, 2054, 1916, 748, 3228, 4589, 2942, 4799, 4879, 3688, 1943, 4866, 1225, 4519, 4642, 4493, 544, 591, 2407, 435, 773, 1232, 2641, 3642, 1047, 347, 2190, 1208, 4696, 56, 1926, 3283, 4624, 4299, 429, 686, 2953, 4449, 1266, 1419, 3787, 240, 2896, 2676, 3496, 234, 34, 1231, 3261, 4813, 4588, 4896, 3580, 3000, 2178, 2955, 564, 4955, 419, 123, 4070, 3038, 3129, 3490, 3523, 690, 857, 3777, 4054, 2830, 4691, 1913, 80, 2649, 2522, 2525, 4584, 3388, 4364, 452, 4517, 2229, 2017, 3793, 4130, 4840, 306, 1226, 4706, 4672, 3356, 2348, 1804, 2251, 4743, 1871, 4616, 4635, 3365, 3457, 4259, 2894, 4398, 372, 3338, 52, 3572, 1128, 2542, 1489, 2612, 1860, 886, 120, 185, 2854, 1455, 3455, 3052, 3702, 1116, 2466, 2238, 753, 4136, 215, 4625, 4410, 3344, 1983, 3204, 278, 2293, 4648, 916, 3549, 4776, 1213, 1277, 1095, 3832, 2530, 2153, 4114, 432, 3535, 3132, 4739, 2594, 196, 3027, 4792, 3046, 159, 18, 3526, 1930, 3671, 1076, 1610, 3652, 2127, 4608, 1948, 4586, 3390, 2089, 391, 4750, 1312, 3420, 4378, 2773, 1320, 3845, 1909, 1899, 1902, 320, 1769, 1575, 2397, 4981, 4928, 3911, 3545, 1052, 4956, 948, 361, 2133, 3377, 2482, 847, 2467, 4138, 785, 3650, 344, 1879, 10, 2590, 1645, 3750, 216, 2727, 3005, 3079, 4363, 468, 917, 4224, 654, 766, 4310, 2527, 3654, 4436, 910, 188, 2921, 237, 4741, 2502, 1146, 2314, 646, 2211, 9, 174, 2146, 726, 1236, 523, 3809, 3843, 3903, 580, 3905, 1646, 1234, 838, 3769, 2180, 1745, 4068, 3165, 1790, 4312, 3332, 1481, 2048, 4807, 1164, 190, 3858, 2606, 1854, 4466, 3515, 3948, 4745, 4154, 2416, 1616, 2299, 4924, 1941, 1764, 295, 3337, 520, 4370, 132, 467, 2669, 2070, 262, 2498, 1115, 2810, 1187, 1663, 530, 4991, 3194, 1497, 133, 4295, 4277, 1387, 1209, 563, 3207, 1404, 2047, 587, 1718, 3890, 1319, 742, 498, 3478, 94, 883, 1901, 3125, 3175, 3501, 1814, 2640, 1366, 1475, 606, 4788, 4574, 4778, 3653, 1666, 407, 3997, 867, 3432, 865, 3010, 4537, 4484, 3954, 2961, 96, 2820, 2052, 602, 257, 4742, 1898, 3157, 3447, 548, 3979, 3889, 3659, 481, 4951, 436, 1176, 1589, 3570, 272, 354, 1010, 2422, 3271, 3802, 4276, 2819, 711, 4836, 4164, 2786, 4418, 2046, 2920, 2940, 4462, 2008, 3916, 1459, 1551, 1869, 2413, 3499, 4266, 2632, 1121, 3623, 3556, 3727, 2000, 4632, 1961, 1028, 4269, 4121, 1667, 2663, 4768, 2855, 1774, 823, 1997, 685, 2063, 2944, 141, 3926, 3446, 4985, 4812, 92, 3387, 2875, 4936, 1330, 2141, 1233, 2687, 4989, 4744]\n"
     ]
    }
   ],
   "source": [
    "print(A)"
   ]
  },
  {
   "cell_type": "code",
   "execution_count": 85,
   "id": "ac7bc62d",
   "metadata": {},
   "outputs": [
    {
     "name": "stdout",
     "output_type": "stream",
     "text": [
      "1000\n"
     ]
    }
   ],
   "source": [
    "print(len(B))"
   ]
  },
  {
   "cell_type": "code",
   "execution_count": 86,
   "id": "9fcfb5dd",
   "metadata": {},
   "outputs": [
    {
     "name": "stdout",
     "output_type": "stream",
     "text": [
      "[2701, 1896, 2887, 1055, 3184, 136, 4319, 1535, 3093, 3096, 2752, 841, 3928, 4972, 4412, 3382, 2501, 3341, 1041, 577, 3147, 1212, 499, 3365, 1411, 375, 1034, 3312, 676, 466, 2591, 4751, 2483, 319, 2567, 4005, 4933, 4273, 2931, 1580, 3960, 1316, 1994, 2458, 3539, 1775, 803, 2944, 4982, 203, 387, 4474, 2064, 1633, 4089, 2039, 1009, 2613, 2723, 3525, 4122, 1614, 504, 982, 574, 114, 1800, 3460, 2892, 231, 1125, 3289, 995, 1374, 2978, 2091, 3791, 3281, 1349, 3107, 3369, 920, 3013, 2417, 881, 4827, 2456, 2205, 4231, 2387, 3635, 3993, 2321, 1894, 4389, 1541, 583, 3760, 593, 745, 88, 3061, 4368, 1921, 1426, 1062, 289, 4246, 4104, 178, 3167, 4064, 1436, 2622, 3838, 3932, 914, 143, 1414, 109, 3339, 2054, 2403, 4780, 859, 1138, 2934, 116, 3104, 4088, 1253, 873, 2940, 4860, 65, 1092, 4162, 3803, 2633, 3150, 1394, 812, 1527, 2573, 4976, 2536, 4910, 3580, 1544, 1449, 4303, 2075, 628, 3375, 4175, 3649, 3155, 4572, 4169, 967, 566, 4295, 4589, 1156, 3881, 2585, 2577, 756, 4819, 3165, 1836, 2030, 411, 4746, 1113, 4943, 475, 1712, 3753, 3309, 1093, 3239, 3173, 2695, 1629, 2013, 2910, 4508, 1698, 1295, 1785, 3164, 4809, 1001, 3705, 1638, 3832, 4322, 2738, 4244, 923, 3258, 147, 1357, 3820, 4010, 3119, 1942, 3891, 1736, 2720, 4413, 736, 4502, 1073, 3050, 4082, 3653, 1440, 4555, 1619, 1339, 3071, 398, 26, 4423, 2664, 374, 222, 3734, 2177, 3835, 1730, 1238, 3783, 2571, 1542, 3543, 837, 2667, 3350, 3035, 1488, 630, 2424, 3030, 1031, 1794, 4601, 3181, 4393, 4124, 3873, 296, 547, 4721, 4699, 3956, 596, 3798, 3986, 1256, 2301, 722, 1649, 885, 4647, 1777, 4692, 3438, 2367, 4307, 1181, 2018, 2819, 1600, 991, 1189, 1385, 4592, 4212, 3486, 1419, 4765, 4994, 165, 3455, 726, 886, 662, 4495, 4372, 3187, 4112, 4444, 954, 2390, 4238, 316, 931, 3308, 2024, 1451, 148, 2561, 1587, 4947, 852, 1048, 224, 2192, 476, 2427, 2805, 3692, 2320, 2307, 1832, 3112, 743, 2764, 890, 1565, 3036, 416, 4717, 4329, 1625, 2252, 3075, 1962, 4843, 4557, 4026, 2396, 4664, 1568, 177, 3530, 4066, 2629, 1061, 4792, 4377, 4326, 4542, 550, 1822, 4968, 3831, 620, 2510, 2074, 3996, 510, 3861, 675, 1324, 2228, 1244, 3598, 227, 2654, 247, 3423, 4547, 1462, 602, 2899, 4145, 4700, 2225, 2759, 2800, 339, 94, 3054, 962, 4370, 2271, 2246, 1725, 2609, 1466, 1145, 2594, 1220, 2767, 4952, 4044, 4739, 4102, 1204, 3178, 2515, 637, 4482, 1992, 2116, 3721, 1539, 4504, 106, 336, 2126, 1757, 2184, 3490, 1402, 3042, 689, 4720, 1653, 157, 2009, 4882, 2053, 74, 139, 4863, 3650, 3856, 3477, 2462, 3, 1594, 2453, 3691, 2519, 4655, 4333, 4889, 492, 3079, 1057, 1343, 3183, 428, 3148, 781, 1967, 249, 582, 135, 4139, 789, 256, 4297, 1561, 1291, 3450, 4263, 1198, 4408, 480, 2474, 1382, 351, 3449, 3335, 3044, 3555, 4726, 3511, 3743, 3715, 2795, 3496, 3389, 3390, 4395, 4004, 727, 4320, 690, 949, 1699, 311, 4842, 4364, 3984, 1283, 3451, 315, 896, 3948, 3111, 3961, 1634, 405, 3709, 2140, 822, 3447, 1051, 4537, 3779, 3601, 2831, 2454, 2464, 2292, 1184, 1773, 2583, 402, 647, 761, 3078, 3195, 2106, 2962, 4360, 4930, 1677, 1968, 4632, 4944, 1485, 2337, 2854, 4312, 16, 603, 1648, 3761, 2011, 3114, 488, 2190, 2221, 3393, 2222, 3699, 4830, 4328, 4672, 2672, 3532, 4734, 3566, 4598, 1734, 1858, 3134, 2765, 3387, 4208, 2833, 3902, 1613, 4028, 326, 1338, 208, 1131, 4890, 785, 1084, 4702, 1674, 955, 462, 4058, 659, 3686, 3936, 2893, 348, 2473, 1550, 1322, 4314, 2530, 3766, 378, 3521, 2449, 697, 96, 4195, 4935, 4500, 4439, 2397, 4594, 3672, 2520, 1377, 4680, 4661, 2557, 2596, 1201, 3313, 1170, 85, 3889, 141, 3729, 1796, 558, 567, 4706, 2881, 3458, 1705, 2315, 1046, 2803, 2739, 963, 4578, 2727, 1554, 2963, 3019, 3207, 1383, 3911, 2159, 616, 1607, 3742, 720, 4399, 4387, 332, 4463, 1716, 1546, 2488, 4000, 4967, 3346, 270, 435, 283, 2999, 906, 3938, 4817, 1869, 509, 4818, 4217, 783, 4591, 4406, 4871, 4268, 1458, 4130, 3236, 3368, 285, 2303, 2768, 4556, 4344, 1302, 4202, 687, 4228, 3132, 1021, 2556, 1109, 2345, 4038, 2700, 1285, 1019, 2492, 2810, 4219, 1620, 1202, 248, 3051, 4353, 191, 4922, 4805, 1641, 1953, 1091, 737, 3171, 2227, 209, 4902, 3945, 3623, 1391, 4770, 2616, 3209, 3102, 2401, 4652, 3193, 3057, 2365, 4711, 274, 1010, 2181, 4887, 4, 37, 128, 4316, 1400, 4795, 876, 2878, 2032, 1803, 1413, 845, 404, 2094, 2339, 3725, 4659, 4287, 1162, 241, 4946, 3675, 2574, 1664, 819, 1924, 2603, 708, 3319, 2036, 103, 4481, 3205, 1185, 3220, 4864, 1498, 1929, 3534, 3032, 3685, 414, 471, 3321, 3639, 278, 3561, 1747, 2206, 3221, 3100, 2422, 1845, 2631, 120, 4908, 784, 4106, 4472, 1321, 3710, 612, 269, 4062, 3324, 782, 3912, 2472, 554, 2825, 3514, 4071, 400, 3133, 968, 2312, 1039, 1428, 668, 4230, 4264, 2130, 3010, 1336, 3118, 1261, 18, 3971, 4467, 2516, 1861, 3987, 4401, 3968, 3797, 2220, 2385, 2309, 3202, 1334, 1658, 1795, 2997, 23, 1064, 851, 1420, 1687, 3415, 806, 4880, 223, 2006, 2349, 1624, 1275, 4418, 4031, 4204, 4530, 1006, 4240, 3520, 2340, 3857, 413, 3839, 3124, 2347, 4561, 1556, 4541, 4516, 634, 169, 4638, 2466, 2640, 4801, 1228, 2344, 3651, 4024, 2697, 3959, 699, 2798, 1086, 671, 1435, 1936, 3829, 3505, 4724, 809, 1562, 2518, 2564, 624, 3659, 2547, 1675, 4035, 1731, 1722, 3298, 1399, 1487, 3128, 298, 1409, 392, 3251, 211, 2254, 2197, 1999, 3106, 2702, 2559, 883, 3538, 3827, 531, 576, 484, 2647, 4338, 4639, 439, 1150, 2196, 2605, 891, 1802, 4468, 2402, 3454, 2853, 4690, 2911, 3781, 3967, 3349, 2393, 494, 3262, 4199, 4321, 2082, 565, 4086, 438, 740, 1074, 3407, 1708, 3337, 3491, 2413, 267, 2411, 2357, 2964, 2146, 66, 4648, 977, 1456, 2626, 4080, 3727, 1144, 324, 2845, 4533, 646, 1503, 1867, 420, 4293, 3261, 730, 2732, 4571, 2829, 4379, 3813, 4158, 4349, 3421, 2696, 2779, 3583, 3245, 4173, 443, 1395, 1408, 957, 2170, 516, 1366, 3015, 3231, 2511, 2745, 1193, 30, 1489, 2476, 916, 3401, 3336, 4077, 2675, 4456, 4503, 4382, 2937, 1029, 4630, 3255, 3801, 0, 1576, 3359, 2193, 4108, 3726, 1769]\n"
     ]
    }
   ],
   "source": [
    "print(B)"
   ]
  },
  {
   "cell_type": "code",
   "execution_count": null,
   "id": "4692c07b",
   "metadata": {},
   "outputs": [],
   "source": [
    "# merge_sort(B)\n",
    "quickSort(A)"
   ]
  },
  {
   "cell_type": "markdown",
   "id": "eb3aae2b",
   "metadata": {},
   "source": [
    "### Reversing the list with diffrent ways"
   ]
  },
  {
   "cell_type": "code",
   "execution_count": 21,
   "id": "2cf44460",
   "metadata": {},
   "outputs": [],
   "source": [
    "li = [1,2,3,4,5,6,7]"
   ]
  },
  {
   "cell_type": "code",
   "execution_count": 6,
   "id": "6bb3525d",
   "metadata": {},
   "outputs": [
    {
     "data": {
      "text/plain": [
       "[7, 6, 5, 4, 3, 2, 1]"
      ]
     },
     "execution_count": 6,
     "metadata": {},
     "output_type": "execute_result"
    }
   ],
   "source": [
    "li[::-1]"
   ]
  },
  {
   "cell_type": "code",
   "execution_count": 9,
   "id": "ba9a2501",
   "metadata": {},
   "outputs": [
    {
     "name": "stdout",
     "output_type": "stream",
     "text": [
      "[7, 6, 5, 4, 3, 2, 1]\n"
     ]
    }
   ],
   "source": [
    "my_list = []\n",
    "for i in range(len(li)-1,-1,-1):\n",
    "    my_list.append(li[i])\n",
    "    \n",
    "print(my_list)"
   ]
  },
  {
   "cell_type": "code",
   "execution_count": 13,
   "id": "e27ddd35",
   "metadata": {},
   "outputs": [
    {
     "name": "stdout",
     "output_type": "stream",
     "text": [
      "[7, 6, 5, 4, 3, 2, 1]\n"
     ]
    }
   ],
   "source": [
    "mylist = []\n",
    "for i in li:\n",
    "    mylist.insert(0,i)\n",
    "print(mylist)"
   ]
  },
  {
   "cell_type": "code",
   "execution_count": 18,
   "id": "b765156d",
   "metadata": {},
   "outputs": [
    {
     "data": {
      "text/plain": [
       "[7, 6, 5, 4, 3, 2, 1]"
      ]
     },
     "execution_count": 18,
     "metadata": {},
     "output_type": "execute_result"
    }
   ],
   "source": [
    "mli = []\n",
    "for i in reversed(li):\n",
    "    mli.append(i)\n",
    "    \n",
    "mli"
   ]
  },
  {
   "cell_type": "code",
   "execution_count": 23,
   "id": "58ef13fc",
   "metadata": {},
   "outputs": [
    {
     "data": {
      "text/plain": [
       "[7, 6, 5, 4, 3, 2, 1]"
      ]
     },
     "execution_count": 23,
     "metadata": {},
     "output_type": "execute_result"
    }
   ],
   "source": [
    "list(reversed(li))"
   ]
  },
  {
   "cell_type": "markdown",
   "id": "32667c09",
   "metadata": {},
   "source": [
    "### Count UpperCase and LowerCase in string"
   ]
  },
  {
   "cell_type": "code",
   "execution_count": null,
   "id": "0a03d030",
   "metadata": {},
   "outputs": [],
   "source": [
    "import os"
   ]
  },
  {
   "cell_type": "code",
   "execution_count": 22,
   "id": "b7e81538",
   "metadata": {},
   "outputs": [],
   "source": [
    "def count_capital_lower_case_letters_list(strng):\n",
    "    lower = []\n",
    "    upper = []\n",
    "    num = []\n",
    "    punct = []\n",
    "    for l in strng:\n",
    "        if l.isupper():\n",
    "            upper.append(l)\n",
    "        elif l.islower():\n",
    "            lower.append(l)\n",
    "        elif l.isnumeric():\n",
    "            num.append(l)\n",
    "        else:\n",
    "            punct.append(l)\n",
    "\n",
    "    print(lower)\n",
    "    print(upper)\n",
    "    print(num)\n",
    "    print(punct)"
   ]
  },
  {
   "cell_type": "code",
   "execution_count": 29,
   "id": "cf0eac0c",
   "metadata": {},
   "outputs": [],
   "source": [
    "def count_capital_lower_case_letters_dict(strng):\n",
    "    d = {\"lower\" : 0, \"upper\" : 0, \"num\" : 0, \"punct\" : 0}\n",
    "    for l in strng:\n",
    "        if l.isupper():\n",
    "            d[\"upper\"] += 1\n",
    "        elif l.islower():\n",
    "            d[\"lower\"] += 1\n",
    "        elif l.isnumeric():\n",
    "            d[\"num\"] += 1\n",
    "        else:\n",
    "            d[\"punct\"] += 1\n",
    "\n",
    "    return d"
   ]
  },
  {
   "cell_type": "code",
   "execution_count": 30,
   "id": "f372bd28",
   "metadata": {},
   "outputs": [
    {
     "data": {
      "text/plain": [
       "{'lower': 13, 'upper': 4, 'num': 6, 'punct': 7}"
      ]
     },
     "execution_count": 30,
     "metadata": {},
     "output_type": "execute_result"
    }
   ],
   "source": [
    "count_capital_lower_case_letters_dict(\"Hi Naresh Kumar )9.0 0023 Tata\")"
   ]
  },
  {
   "cell_type": "markdown",
   "id": "945ffc2d",
   "metadata": {},
   "source": [
    "###"
   ]
  },
  {
   "cell_type": "markdown",
   "id": "58a1e976",
   "metadata": {},
   "source": [
    "#### Interchange first and last elements in list"
   ]
  },
  {
   "cell_type": "code",
   "execution_count": 8,
   "id": "1e72391e",
   "metadata": {},
   "outputs": [],
   "source": [
    "li = [1,2,3,4,5,6,7]"
   ]
  },
  {
   "cell_type": "code",
   "execution_count": 9,
   "id": "b37238a5",
   "metadata": {},
   "outputs": [
    {
     "data": {
      "text/plain": [
       "7"
      ]
     },
     "execution_count": 9,
     "metadata": {},
     "output_type": "execute_result"
    }
   ],
   "source": [
    "li[-1]"
   ]
  },
  {
   "cell_type": "code",
   "execution_count": 10,
   "id": "e15754a8",
   "metadata": {},
   "outputs": [
    {
     "data": {
      "text/plain": [
       "1"
      ]
     },
     "execution_count": 10,
     "metadata": {},
     "output_type": "execute_result"
    }
   ],
   "source": [
    "li[0]"
   ]
  },
  {
   "cell_type": "code",
   "execution_count": 11,
   "id": "b23ce514",
   "metadata": {},
   "outputs": [],
   "source": [
    "temp = li[-1]\n",
    "li[-1] = li[0]\n",
    "li[0] = temp\n"
   ]
  },
  {
   "cell_type": "code",
   "execution_count": 12,
   "id": "4765fb4b",
   "metadata": {},
   "outputs": [
    {
     "data": {
      "text/plain": [
       "[7, 2, 3, 4, 5, 6, 1]"
      ]
     },
     "execution_count": 12,
     "metadata": {},
     "output_type": "execute_result"
    }
   ],
   "source": [
    "li"
   ]
  },
  {
   "cell_type": "code",
   "execution_count": 24,
   "id": "bbf77ab5",
   "metadata": {},
   "outputs": [
    {
     "data": {
      "text/plain": [
       "['N', 'a', 'r', 'e', 's', 'H']"
      ]
     },
     "execution_count": 24,
     "metadata": {},
     "output_type": "execute_result"
    }
   ],
   "source": [
    "strng = \"NaresH\"\n",
    "strng = list(strng)\n",
    "strng"
   ]
  },
  {
   "cell_type": "code",
   "execution_count": 26,
   "id": "97361a3d",
   "metadata": {},
   "outputs": [],
   "source": [
    "\n",
    "strng[0], strng[-1] = strng[-1], strng[0]"
   ]
  },
  {
   "cell_type": "code",
   "execution_count": 29,
   "id": "cf8b60ae",
   "metadata": {},
   "outputs": [
    {
     "name": "stdout",
     "output_type": "stream",
     "text": [
      "HaresN\n"
     ]
    }
   ],
   "source": [
    "strng = \"\".join(strng)\n",
    "print(strng)"
   ]
  },
  {
   "cell_type": "code",
   "execution_count": 11,
   "id": "5562ec5b",
   "metadata": {},
   "outputs": [],
   "source": [
    "def fun(a, l = []):\n",
    "    l.append(a)\n",
    "    return l"
   ]
  },
  {
   "cell_type": "code",
   "execution_count": 12,
   "id": "2ab6cbbc",
   "metadata": {},
   "outputs": [],
   "source": [
    "for i in range(1,4):\n",
    "    fun(i)"
   ]
  },
  {
   "cell_type": "code",
   "execution_count": 20,
   "id": "446b74ff",
   "metadata": {},
   "outputs": [
    {
     "data": {
      "text/plain": [
       "[1, 2, 3, 4, 4, 4, 4, 4, 4, 4, 4]"
      ]
     },
     "execution_count": 20,
     "metadata": {},
     "output_type": "execute_result"
    }
   ],
   "source": [
    "fun(4)"
   ]
  }
 ],
 "metadata": {
  "kernelspec": {
   "display_name": "Python 3 (ipykernel)",
   "language": "python",
   "name": "python3"
  },
  "language_info": {
   "codemirror_mode": {
    "name": "ipython",
    "version": 3
   },
   "file_extension": ".py",
   "mimetype": "text/x-python",
   "name": "python",
   "nbconvert_exporter": "python",
   "pygments_lexer": "ipython3",
   "version": "3.10.12"
  }
 },
 "nbformat": 4,
 "nbformat_minor": 5
}
