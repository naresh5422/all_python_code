{
  "nbformat": 4,
  "nbformat_minor": 0,
  "metadata": {
    "colab": {
      "provenance": []
    },
    "kernelspec": {
      "name": "python3",
      "display_name": "Python 3"
    },
    "language_info": {
      "name": "python"
    }
  },
  "cells": [
    {
      "cell_type": "code",
      "source": [
        "import nltk\n",
        "from nltk import word_tokenize, pos_tag, chunk\n",
        "from nltk.corpus import treebank\n",
        "nltk.download('punkt')"
      ],
      "metadata": {
        "colab": {
          "base_uri": "https://localhost:8080/"
        },
        "id": "FzamG4f9y9k5",
        "outputId": "907f978e-b0e1-4310-f03d-ad991cfe1dd8"
      },
      "execution_count": null,
      "outputs": [
        {
          "output_type": "stream",
          "name": "stderr",
          "text": [
            "[nltk_data] Downloading package punkt to /root/nltk_data...\n",
            "[nltk_data]   Unzipping tokenizers/punkt.zip.\n"
          ]
        },
        {
          "output_type": "execute_result",
          "data": {
            "text/plain": [
              "True"
            ]
          },
          "metadata": {},
          "execution_count": 10
        }
      ]
    },
    {
      "cell_type": "code",
      "source": [
        "nltk.download('averaged_perceptron_tagger')"
      ],
      "metadata": {
        "colab": {
          "base_uri": "https://localhost:8080/"
        },
        "id": "m0b2e2J-0Qyl",
        "outputId": "826f13ad-9f45-479e-8ad0-6eec6629b348"
      },
      "execution_count": null,
      "outputs": [
        {
          "output_type": "stream",
          "name": "stderr",
          "text": [
            "[nltk_data] Downloading package averaged_perceptron_tagger to\n",
            "[nltk_data]     /root/nltk_data...\n",
            "[nltk_data]   Unzipping taggers/averaged_perceptron_tagger.zip.\n"
          ]
        },
        {
          "output_type": "execute_result",
          "data": {
            "text/plain": [
              "True"
            ]
          },
          "metadata": {},
          "execution_count": 14
        }
      ]
    },
    {
      "cell_type": "code",
      "execution_count": null,
      "metadata": {
        "id": "aO-hIPnyfUgQ"
      },
      "outputs": [],
      "source": [
        "txt = \"welcome to NLP tutorial naresh 12032000 23:54:00 PM\""
      ]
    },
    {
      "cell_type": "code",
      "source": [
        "#It create tokens\n",
        "tokens = word_tokenize(txt)\n",
        "print(tokens)"
      ],
      "metadata": {
        "colab": {
          "base_uri": "https://localhost:8080/"
        },
        "id": "NFVT-hLbgrEX",
        "outputId": "b87103b2-bbe0-4171-822c-185d85862b1e"
      },
      "execution_count": null,
      "outputs": [
        {
          "output_type": "stream",
          "name": "stdout",
          "text": [
            "['welcome', 'to', 'NLP', 'tutorial', 'naresh', '12032000', '23:54:00', 'PM']\n"
          ]
        }
      ]
    },
    {
      "cell_type": "code",
      "source": [
        "# It creates parts of speech tag\n",
        "tags = pos_tag(tokens)\n",
        "print(tags)"
      ],
      "metadata": {
        "colab": {
          "base_uri": "https://localhost:8080/"
        },
        "id": "lj80Qhsmz90K",
        "outputId": "9e4e180c-d040-43ae-910b-daff8ad0c3c7"
      },
      "execution_count": null,
      "outputs": [
        {
          "output_type": "stream",
          "name": "stdout",
          "text": [
            "[('welcome', 'NN'), ('to', 'TO'), ('NLP', 'NNP'), ('tutorial', 'JJ'), ('naresh', 'JJ'), ('12032000', 'CD'), ('23:54:00', 'CD'), ('PM', 'NN')]\n"
          ]
        }
      ]
    },
    {
      "cell_type": "code",
      "source": [
        "nltk.download('maxent_ne_chunker')"
      ],
      "metadata": {
        "colab": {
          "base_uri": "https://localhost:8080/"
        },
        "id": "U_AgovMA1IWc",
        "outputId": "5d61e5f9-eaa8-4ea0-f496-c2975a092eb7"
      },
      "execution_count": null,
      "outputs": [
        {
          "output_type": "stream",
          "name": "stderr",
          "text": [
            "[nltk_data] Downloading package maxent_ne_chunker to\n",
            "[nltk_data]     /root/nltk_data...\n",
            "[nltk_data]   Unzipping chunkers/maxent_ne_chunker.zip.\n"
          ]
        },
        {
          "output_type": "execute_result",
          "data": {
            "text/plain": [
              "True"
            ]
          },
          "metadata": {},
          "execution_count": 21
        }
      ]
    },
    {
      "cell_type": "code",
      "source": [
        "nltk.download('words')"
      ],
      "metadata": {
        "colab": {
          "base_uri": "https://localhost:8080/"
        },
        "id": "PxZvnbrZ1PA6",
        "outputId": "b3ce2caa-bad2-4000-eceb-f1f1ea5b0c7c"
      },
      "execution_count": null,
      "outputs": [
        {
          "output_type": "stream",
          "name": "stderr",
          "text": [
            "[nltk_data] Downloading package words to /root/nltk_data...\n",
            "[nltk_data]   Package words is already up-to-date!\n"
          ]
        },
        {
          "output_type": "execute_result",
          "data": {
            "text/plain": [
              "True"
            ]
          },
          "metadata": {},
          "execution_count": 25
        }
      ]
    },
    {
      "cell_type": "code",
      "source": [
        "pip install svgling"
      ],
      "metadata": {
        "colab": {
          "base_uri": "https://localhost:8080/"
        },
        "id": "CXV7bMVB2GTD",
        "outputId": "1ee9f597-7809-4207-b9a8-251e2a139149"
      },
      "execution_count": null,
      "outputs": [
        {
          "output_type": "stream",
          "name": "stdout",
          "text": [
            "Collecting svgling\n",
            "  Downloading svgling-0.3.1-py3-none-any.whl (21 kB)\n",
            "Collecting svgwrite (from svgling)\n",
            "  Downloading svgwrite-1.4.3-py3-none-any.whl (67 kB)\n",
            "\u001b[2K     \u001b[90m━━━━━━━━━━━━━━━━━━━━━━━━━━━━━━━━━━━━━━━━\u001b[0m \u001b[32m67.1/67.1 kB\u001b[0m \u001b[31m2.8 MB/s\u001b[0m eta \u001b[36m0:00:00\u001b[0m\n",
            "\u001b[?25hInstalling collected packages: svgwrite, svgling\n",
            "Successfully installed svgling-0.3.1 svgwrite-1.4.3\n"
          ]
        }
      ]
    },
    {
      "cell_type": "code",
      "source": [
        "import svgling"
      ],
      "metadata": {
        "id": "CN3FHBmX2Bjb"
      },
      "execution_count": null,
      "outputs": []
    },
    {
      "cell_type": "code",
      "source": [],
      "metadata": {
        "colab": {
          "base_uri": "https://localhost:8080/"
        },
        "id": "PSQrTemV0ygx",
        "outputId": "137a2313-c066-428a-ea02-664d09b12103"
      },
      "execution_count": null,
      "outputs": [
        {
          "output_type": "stream",
          "name": "stdout",
          "text": [
            "(S\n",
            "  welcome/NN\n",
            "  to/TO\n",
            "  (ORGANIZATION NLP/NNP)\n",
            "  tutorial/JJ\n",
            "  naresh/JJ\n",
            "  12032000/CD\n",
            "  23:54:00/CD\n",
            "  PM/NN)\n"
          ]
        }
      ]
    },
    {
      "cell_type": "code",
      "source": [
        "nltk.download('treebank')"
      ],
      "metadata": {
        "colab": {
          "base_uri": "https://localhost:8080/"
        },
        "id": "knD_rAqW2kpU",
        "outputId": "4b7fabcd-6322-4181-bd70-bd58b25d08d9"
      },
      "execution_count": null,
      "outputs": [
        {
          "output_type": "stream",
          "name": "stderr",
          "text": [
            "[nltk_data] Downloading package treebank to /root/nltk_data...\n",
            "[nltk_data]   Package treebank is already up-to-date!\n"
          ]
        },
        {
          "output_type": "execute_result",
          "data": {
            "text/plain": [
              "True"
            ]
          },
          "metadata": {},
          "execution_count": 35
        }
      ]
    },
    {
      "cell_type": "code",
      "source": [
        "entities = chunk.ne_chunk(tags)\n",
        "print(entities)"
      ],
      "metadata": {
        "colab": {
          "base_uri": "https://localhost:8080/"
        },
        "id": "P_EuIMIB2rmM",
        "outputId": "b53e67f3-d9c5-4604-a769-acd2778d5d92"
      },
      "execution_count": null,
      "outputs": [
        {
          "output_type": "stream",
          "name": "stdout",
          "text": [
            "(S\n",
            "  welcome/NN\n",
            "  to/TO\n",
            "  (ORGANIZATION NLP/NNP)\n",
            "  tutorial/JJ\n",
            "  naresh/JJ\n",
            "  12032000/CD\n",
            "  23:54:00/CD\n",
            "  PM/NN)\n"
          ]
        }
      ]
    },
    {
      "cell_type": "markdown",
      "source": [
        "#### Handling Text"
      ],
      "metadata": {
        "id": "IojCPvyz3zXB"
      }
    },
    {
      "cell_type": "code",
      "source": [
        "# Split text into characters\n",
        "list(txt)"
      ],
      "metadata": {
        "colab": {
          "base_uri": "https://localhost:8080/"
        },
        "id": "JWXnMcui1Clg",
        "outputId": "4e8ecd3d-4727-4ee3-f5c5-f5861827826c"
      },
      "execution_count": null,
      "outputs": [
        {
          "output_type": "execute_result",
          "data": {
            "text/plain": [
              "['w',\n",
              " 'e',\n",
              " 'l',\n",
              " 'c',\n",
              " 'o',\n",
              " 'm',\n",
              " 'e',\n",
              " ' ',\n",
              " 't',\n",
              " 'o',\n",
              " ' ',\n",
              " 'N',\n",
              " 'L',\n",
              " 'P',\n",
              " ' ',\n",
              " 't',\n",
              " 'u',\n",
              " 't',\n",
              " 'o',\n",
              " 'r',\n",
              " 'i',\n",
              " 'a',\n",
              " 'l',\n",
              " ' ',\n",
              " 'n',\n",
              " 'a',\n",
              " 'r',\n",
              " 'e',\n",
              " 's',\n",
              " 'h',\n",
              " ' ',\n",
              " '1',\n",
              " '2',\n",
              " '0',\n",
              " '3',\n",
              " '2',\n",
              " '0',\n",
              " '0',\n",
              " '0',\n",
              " ' ',\n",
              " '2',\n",
              " '3',\n",
              " ':',\n",
              " '5',\n",
              " '4',\n",
              " ':',\n",
              " '0',\n",
              " '0',\n",
              " ' ',\n",
              " 'P',\n",
              " 'M']"
            ]
          },
          "metadata": {},
          "execution_count": 40
        }
      ]
    },
    {
      "cell_type": "code",
      "source": [
        "# Give unique tokens\n",
        "set(txt)"
      ],
      "metadata": {
        "colab": {
          "base_uri": "https://localhost:8080/"
        },
        "id": "C9hguNXY2tiy",
        "outputId": "e8294b01-8784-44fb-8454-b1e323045b5f"
      },
      "execution_count": null,
      "outputs": [
        {
          "output_type": "execute_result",
          "data": {
            "text/plain": [
              "{' ',\n",
              " '0',\n",
              " '1',\n",
              " '2',\n",
              " '3',\n",
              " '4',\n",
              " '5',\n",
              " ':',\n",
              " 'L',\n",
              " 'M',\n",
              " 'N',\n",
              " 'P',\n",
              " 'a',\n",
              " 'c',\n",
              " 'e',\n",
              " 'h',\n",
              " 'i',\n",
              " 'l',\n",
              " 'm',\n",
              " 'n',\n",
              " 'o',\n",
              " 'r',\n",
              " 's',\n",
              " 't',\n",
              " 'u',\n",
              " 'w'}"
            ]
          },
          "metadata": {},
          "execution_count": 42
        }
      ]
    },
    {
      "cell_type": "code",
      "source": [
        "# Number of Characters in text\n",
        "len(txt)"
      ],
      "metadata": {
        "colab": {
          "base_uri": "https://localhost:8080/"
        },
        "id": "-2rGIHja3Xuo",
        "outputId": "2b3bb8bf-d6f7-46d5-91fa-a9770bccb80f"
      },
      "execution_count": null,
      "outputs": [
        {
          "output_type": "execute_result",
          "data": {
            "text/plain": [
              "51"
            ]
          },
          "metadata": {},
          "execution_count": 43
        }
      ]
    },
    {
      "cell_type": "code",
      "source": [],
      "metadata": {
        "id": "nufynvri3uDQ"
      },
      "execution_count": null,
      "outputs": []
    },
    {
      "cell_type": "markdown",
      "source": [
        "### Accessing corpoa and lexical resources"
      ],
      "metadata": {
        "id": "tECgGoV04E9o"
      }
    },
    {
      "cell_type": "code",
      "source": [
        "# Import Corpus reader object\n",
        "from nltk.corpus import brown"
      ],
      "metadata": {
        "id": "nowMXilW4MCY"
      },
      "execution_count": null,
      "outputs": []
    },
    {
      "cell_type": "code",
      "source": [
        "nltk.download('brown')"
      ],
      "metadata": {
        "colab": {
          "base_uri": "https://localhost:8080/"
        },
        "id": "JMMlEun74smQ",
        "outputId": "02227ed0-fd47-4517-a1ec-a9ca759787c4"
      },
      "execution_count": null,
      "outputs": [
        {
          "output_type": "stream",
          "name": "stderr",
          "text": [
            "[nltk_data] Downloading package brown to /root/nltk_data...\n",
            "[nltk_data]   Unzipping corpora/brown.zip.\n"
          ]
        },
        {
          "output_type": "execute_result",
          "data": {
            "text/plain": [
              "True"
            ]
          },
          "metadata": {},
          "execution_count": 46
        }
      ]
    },
    {
      "cell_type": "code",
      "source": [
        "# Return tokenised of words\n",
        "brown.words()"
      ],
      "metadata": {
        "colab": {
          "base_uri": "https://localhost:8080/"
        },
        "id": "NDuZKc2R4d-Z",
        "outputId": "6caeef44-94bc-4c11-dbb3-86e1d6f82b71"
      },
      "execution_count": null,
      "outputs": [
        {
          "output_type": "execute_result",
          "data": {
            "text/plain": [
              "['The', 'Fulton', 'County', 'Grand', 'Jury', 'said', ...]"
            ]
          },
          "metadata": {},
          "execution_count": 50
        }
      ]
    },
    {
      "cell_type": "code",
      "source": [
        "brown.fileids()"
      ],
      "metadata": {
        "colab": {
          "base_uri": "https://localhost:8080/"
        },
        "id": "2LH9T0T54nzy",
        "outputId": "f48a0709-90b7-4ebd-9d2c-e8081b42c83c"
      },
      "execution_count": null,
      "outputs": [
        {
          "output_type": "execute_result",
          "data": {
            "text/plain": [
              "['ca01',\n",
              " 'ca02',\n",
              " 'ca03',\n",
              " 'ca04',\n",
              " 'ca05',\n",
              " 'ca06',\n",
              " 'ca07',\n",
              " 'ca08',\n",
              " 'ca09',\n",
              " 'ca10',\n",
              " 'ca11',\n",
              " 'ca12',\n",
              " 'ca13',\n",
              " 'ca14',\n",
              " 'ca15',\n",
              " 'ca16',\n",
              " 'ca17',\n",
              " 'ca18',\n",
              " 'ca19',\n",
              " 'ca20',\n",
              " 'ca21',\n",
              " 'ca22',\n",
              " 'ca23',\n",
              " 'ca24',\n",
              " 'ca25',\n",
              " 'ca26',\n",
              " 'ca27',\n",
              " 'ca28',\n",
              " 'ca29',\n",
              " 'ca30',\n",
              " 'ca31',\n",
              " 'ca32',\n",
              " 'ca33',\n",
              " 'ca34',\n",
              " 'ca35',\n",
              " 'ca36',\n",
              " 'ca37',\n",
              " 'ca38',\n",
              " 'ca39',\n",
              " 'ca40',\n",
              " 'ca41',\n",
              " 'ca42',\n",
              " 'ca43',\n",
              " 'ca44',\n",
              " 'cb01',\n",
              " 'cb02',\n",
              " 'cb03',\n",
              " 'cb04',\n",
              " 'cb05',\n",
              " 'cb06',\n",
              " 'cb07',\n",
              " 'cb08',\n",
              " 'cb09',\n",
              " 'cb10',\n",
              " 'cb11',\n",
              " 'cb12',\n",
              " 'cb13',\n",
              " 'cb14',\n",
              " 'cb15',\n",
              " 'cb16',\n",
              " 'cb17',\n",
              " 'cb18',\n",
              " 'cb19',\n",
              " 'cb20',\n",
              " 'cb21',\n",
              " 'cb22',\n",
              " 'cb23',\n",
              " 'cb24',\n",
              " 'cb25',\n",
              " 'cb26',\n",
              " 'cb27',\n",
              " 'cc01',\n",
              " 'cc02',\n",
              " 'cc03',\n",
              " 'cc04',\n",
              " 'cc05',\n",
              " 'cc06',\n",
              " 'cc07',\n",
              " 'cc08',\n",
              " 'cc09',\n",
              " 'cc10',\n",
              " 'cc11',\n",
              " 'cc12',\n",
              " 'cc13',\n",
              " 'cc14',\n",
              " 'cc15',\n",
              " 'cc16',\n",
              " 'cc17',\n",
              " 'cd01',\n",
              " 'cd02',\n",
              " 'cd03',\n",
              " 'cd04',\n",
              " 'cd05',\n",
              " 'cd06',\n",
              " 'cd07',\n",
              " 'cd08',\n",
              " 'cd09',\n",
              " 'cd10',\n",
              " 'cd11',\n",
              " 'cd12',\n",
              " 'cd13',\n",
              " 'cd14',\n",
              " 'cd15',\n",
              " 'cd16',\n",
              " 'cd17',\n",
              " 'ce01',\n",
              " 'ce02',\n",
              " 'ce03',\n",
              " 'ce04',\n",
              " 'ce05',\n",
              " 'ce06',\n",
              " 'ce07',\n",
              " 'ce08',\n",
              " 'ce09',\n",
              " 'ce10',\n",
              " 'ce11',\n",
              " 'ce12',\n",
              " 'ce13',\n",
              " 'ce14',\n",
              " 'ce15',\n",
              " 'ce16',\n",
              " 'ce17',\n",
              " 'ce18',\n",
              " 'ce19',\n",
              " 'ce20',\n",
              " 'ce21',\n",
              " 'ce22',\n",
              " 'ce23',\n",
              " 'ce24',\n",
              " 'ce25',\n",
              " 'ce26',\n",
              " 'ce27',\n",
              " 'ce28',\n",
              " 'ce29',\n",
              " 'ce30',\n",
              " 'ce31',\n",
              " 'ce32',\n",
              " 'ce33',\n",
              " 'ce34',\n",
              " 'ce35',\n",
              " 'ce36',\n",
              " 'cf01',\n",
              " 'cf02',\n",
              " 'cf03',\n",
              " 'cf04',\n",
              " 'cf05',\n",
              " 'cf06',\n",
              " 'cf07',\n",
              " 'cf08',\n",
              " 'cf09',\n",
              " 'cf10',\n",
              " 'cf11',\n",
              " 'cf12',\n",
              " 'cf13',\n",
              " 'cf14',\n",
              " 'cf15',\n",
              " 'cf16',\n",
              " 'cf17',\n",
              " 'cf18',\n",
              " 'cf19',\n",
              " 'cf20',\n",
              " 'cf21',\n",
              " 'cf22',\n",
              " 'cf23',\n",
              " 'cf24',\n",
              " 'cf25',\n",
              " 'cf26',\n",
              " 'cf27',\n",
              " 'cf28',\n",
              " 'cf29',\n",
              " 'cf30',\n",
              " 'cf31',\n",
              " 'cf32',\n",
              " 'cf33',\n",
              " 'cf34',\n",
              " 'cf35',\n",
              " 'cf36',\n",
              " 'cf37',\n",
              " 'cf38',\n",
              " 'cf39',\n",
              " 'cf40',\n",
              " 'cf41',\n",
              " 'cf42',\n",
              " 'cf43',\n",
              " 'cf44',\n",
              " 'cf45',\n",
              " 'cf46',\n",
              " 'cf47',\n",
              " 'cf48',\n",
              " 'cg01',\n",
              " 'cg02',\n",
              " 'cg03',\n",
              " 'cg04',\n",
              " 'cg05',\n",
              " 'cg06',\n",
              " 'cg07',\n",
              " 'cg08',\n",
              " 'cg09',\n",
              " 'cg10',\n",
              " 'cg11',\n",
              " 'cg12',\n",
              " 'cg13',\n",
              " 'cg14',\n",
              " 'cg15',\n",
              " 'cg16',\n",
              " 'cg17',\n",
              " 'cg18',\n",
              " 'cg19',\n",
              " 'cg20',\n",
              " 'cg21',\n",
              " 'cg22',\n",
              " 'cg23',\n",
              " 'cg24',\n",
              " 'cg25',\n",
              " 'cg26',\n",
              " 'cg27',\n",
              " 'cg28',\n",
              " 'cg29',\n",
              " 'cg30',\n",
              " 'cg31',\n",
              " 'cg32',\n",
              " 'cg33',\n",
              " 'cg34',\n",
              " 'cg35',\n",
              " 'cg36',\n",
              " 'cg37',\n",
              " 'cg38',\n",
              " 'cg39',\n",
              " 'cg40',\n",
              " 'cg41',\n",
              " 'cg42',\n",
              " 'cg43',\n",
              " 'cg44',\n",
              " 'cg45',\n",
              " 'cg46',\n",
              " 'cg47',\n",
              " 'cg48',\n",
              " 'cg49',\n",
              " 'cg50',\n",
              " 'cg51',\n",
              " 'cg52',\n",
              " 'cg53',\n",
              " 'cg54',\n",
              " 'cg55',\n",
              " 'cg56',\n",
              " 'cg57',\n",
              " 'cg58',\n",
              " 'cg59',\n",
              " 'cg60',\n",
              " 'cg61',\n",
              " 'cg62',\n",
              " 'cg63',\n",
              " 'cg64',\n",
              " 'cg65',\n",
              " 'cg66',\n",
              " 'cg67',\n",
              " 'cg68',\n",
              " 'cg69',\n",
              " 'cg70',\n",
              " 'cg71',\n",
              " 'cg72',\n",
              " 'cg73',\n",
              " 'cg74',\n",
              " 'cg75',\n",
              " 'ch01',\n",
              " 'ch02',\n",
              " 'ch03',\n",
              " 'ch04',\n",
              " 'ch05',\n",
              " 'ch06',\n",
              " 'ch07',\n",
              " 'ch08',\n",
              " 'ch09',\n",
              " 'ch10',\n",
              " 'ch11',\n",
              " 'ch12',\n",
              " 'ch13',\n",
              " 'ch14',\n",
              " 'ch15',\n",
              " 'ch16',\n",
              " 'ch17',\n",
              " 'ch18',\n",
              " 'ch19',\n",
              " 'ch20',\n",
              " 'ch21',\n",
              " 'ch22',\n",
              " 'ch23',\n",
              " 'ch24',\n",
              " 'ch25',\n",
              " 'ch26',\n",
              " 'ch27',\n",
              " 'ch28',\n",
              " 'ch29',\n",
              " 'ch30',\n",
              " 'cj01',\n",
              " 'cj02',\n",
              " 'cj03',\n",
              " 'cj04',\n",
              " 'cj05',\n",
              " 'cj06',\n",
              " 'cj07',\n",
              " 'cj08',\n",
              " 'cj09',\n",
              " 'cj10',\n",
              " 'cj11',\n",
              " 'cj12',\n",
              " 'cj13',\n",
              " 'cj14',\n",
              " 'cj15',\n",
              " 'cj16',\n",
              " 'cj17',\n",
              " 'cj18',\n",
              " 'cj19',\n",
              " 'cj20',\n",
              " 'cj21',\n",
              " 'cj22',\n",
              " 'cj23',\n",
              " 'cj24',\n",
              " 'cj25',\n",
              " 'cj26',\n",
              " 'cj27',\n",
              " 'cj28',\n",
              " 'cj29',\n",
              " 'cj30',\n",
              " 'cj31',\n",
              " 'cj32',\n",
              " 'cj33',\n",
              " 'cj34',\n",
              " 'cj35',\n",
              " 'cj36',\n",
              " 'cj37',\n",
              " 'cj38',\n",
              " 'cj39',\n",
              " 'cj40',\n",
              " 'cj41',\n",
              " 'cj42',\n",
              " 'cj43',\n",
              " 'cj44',\n",
              " 'cj45',\n",
              " 'cj46',\n",
              " 'cj47',\n",
              " 'cj48',\n",
              " 'cj49',\n",
              " 'cj50',\n",
              " 'cj51',\n",
              " 'cj52',\n",
              " 'cj53',\n",
              " 'cj54',\n",
              " 'cj55',\n",
              " 'cj56',\n",
              " 'cj57',\n",
              " 'cj58',\n",
              " 'cj59',\n",
              " 'cj60',\n",
              " 'cj61',\n",
              " 'cj62',\n",
              " 'cj63',\n",
              " 'cj64',\n",
              " 'cj65',\n",
              " 'cj66',\n",
              " 'cj67',\n",
              " 'cj68',\n",
              " 'cj69',\n",
              " 'cj70',\n",
              " 'cj71',\n",
              " 'cj72',\n",
              " 'cj73',\n",
              " 'cj74',\n",
              " 'cj75',\n",
              " 'cj76',\n",
              " 'cj77',\n",
              " 'cj78',\n",
              " 'cj79',\n",
              " 'cj80',\n",
              " 'ck01',\n",
              " 'ck02',\n",
              " 'ck03',\n",
              " 'ck04',\n",
              " 'ck05',\n",
              " 'ck06',\n",
              " 'ck07',\n",
              " 'ck08',\n",
              " 'ck09',\n",
              " 'ck10',\n",
              " 'ck11',\n",
              " 'ck12',\n",
              " 'ck13',\n",
              " 'ck14',\n",
              " 'ck15',\n",
              " 'ck16',\n",
              " 'ck17',\n",
              " 'ck18',\n",
              " 'ck19',\n",
              " 'ck20',\n",
              " 'ck21',\n",
              " 'ck22',\n",
              " 'ck23',\n",
              " 'ck24',\n",
              " 'ck25',\n",
              " 'ck26',\n",
              " 'ck27',\n",
              " 'ck28',\n",
              " 'ck29',\n",
              " 'cl01',\n",
              " 'cl02',\n",
              " 'cl03',\n",
              " 'cl04',\n",
              " 'cl05',\n",
              " 'cl06',\n",
              " 'cl07',\n",
              " 'cl08',\n",
              " 'cl09',\n",
              " 'cl10',\n",
              " 'cl11',\n",
              " 'cl12',\n",
              " 'cl13',\n",
              " 'cl14',\n",
              " 'cl15',\n",
              " 'cl16',\n",
              " 'cl17',\n",
              " 'cl18',\n",
              " 'cl19',\n",
              " 'cl20',\n",
              " 'cl21',\n",
              " 'cl22',\n",
              " 'cl23',\n",
              " 'cl24',\n",
              " 'cm01',\n",
              " 'cm02',\n",
              " 'cm03',\n",
              " 'cm04',\n",
              " 'cm05',\n",
              " 'cm06',\n",
              " 'cn01',\n",
              " 'cn02',\n",
              " 'cn03',\n",
              " 'cn04',\n",
              " 'cn05',\n",
              " 'cn06',\n",
              " 'cn07',\n",
              " 'cn08',\n",
              " 'cn09',\n",
              " 'cn10',\n",
              " 'cn11',\n",
              " 'cn12',\n",
              " 'cn13',\n",
              " 'cn14',\n",
              " 'cn15',\n",
              " 'cn16',\n",
              " 'cn17',\n",
              " 'cn18',\n",
              " 'cn19',\n",
              " 'cn20',\n",
              " 'cn21',\n",
              " 'cn22',\n",
              " 'cn23',\n",
              " 'cn24',\n",
              " 'cn25',\n",
              " 'cn26',\n",
              " 'cn27',\n",
              " 'cn28',\n",
              " 'cn29',\n",
              " 'cp01',\n",
              " 'cp02',\n",
              " 'cp03',\n",
              " 'cp04',\n",
              " 'cp05',\n",
              " 'cp06',\n",
              " 'cp07',\n",
              " 'cp08',\n",
              " 'cp09',\n",
              " 'cp10',\n",
              " 'cp11',\n",
              " 'cp12',\n",
              " 'cp13',\n",
              " 'cp14',\n",
              " 'cp15',\n",
              " 'cp16',\n",
              " 'cp17',\n",
              " 'cp18',\n",
              " 'cp19',\n",
              " 'cp20',\n",
              " 'cp21',\n",
              " 'cp22',\n",
              " 'cp23',\n",
              " 'cp24',\n",
              " 'cp25',\n",
              " 'cp26',\n",
              " 'cp27',\n",
              " 'cp28',\n",
              " 'cp29',\n",
              " 'cr01',\n",
              " 'cr02',\n",
              " 'cr03',\n",
              " 'cr04',\n",
              " 'cr05',\n",
              " 'cr06',\n",
              " 'cr07',\n",
              " 'cr08',\n",
              " 'cr09']"
            ]
          },
          "metadata": {},
          "execution_count": 51
        }
      ]
    },
    {
      "cell_type": "code",
      "source": [
        "brown.categories()"
      ],
      "metadata": {
        "colab": {
          "base_uri": "https://localhost:8080/"
        },
        "id": "7TV6pEM65JRA",
        "outputId": "ff3db1e1-cf32-4ce7-f999-30b4ec3489dc"
      },
      "execution_count": null,
      "outputs": [
        {
          "output_type": "execute_result",
          "data": {
            "text/plain": [
              "['adventure',\n",
              " 'belles_lettres',\n",
              " 'editorial',\n",
              " 'fiction',\n",
              " 'government',\n",
              " 'hobbies',\n",
              " 'humor',\n",
              " 'learned',\n",
              " 'lore',\n",
              " 'mystery',\n",
              " 'news',\n",
              " 'religion',\n",
              " 'reviews',\n",
              " 'romance',\n",
              " 'science_fiction']"
            ]
          },
          "metadata": {},
          "execution_count": 52
        }
      ]
    },
    {
      "cell_type": "code",
      "source": [
        "# Split by space\n",
        "txt.split()"
      ],
      "metadata": {
        "colab": {
          "base_uri": "https://localhost:8080/"
        },
        "id": "g6kGV10-5Otw",
        "outputId": "39918336-18b6-4cf3-c489-e985e9851d30"
      },
      "execution_count": null,
      "outputs": [
        {
          "output_type": "execute_result",
          "data": {
            "text/plain": [
              "['welcome', 'to', 'NLP', 'tutorial', 'naresh', '12032000', '23:54:00', 'PM']"
            ]
          },
          "metadata": {},
          "execution_count": 54
        }
      ]
    },
    {
      "cell_type": "code",
      "source": [
        "# nltk in built word tokenizer\n",
        "nltk.word_tokenize(txt)"
      ],
      "metadata": {
        "colab": {
          "base_uri": "https://localhost:8080/"
        },
        "id": "fXenJt6o5U5J",
        "outputId": "dff16b66-c866-41df-b9d8-aa07cfdca2cd"
      },
      "execution_count": null,
      "outputs": [
        {
          "output_type": "execute_result",
          "data": {
            "text/plain": [
              "['welcome', 'to', 'NLP', 'tutorial', 'naresh', '12032000', '23:54:00', 'PM']"
            ]
          },
          "metadata": {},
          "execution_count": 55
        }
      ]
    },
    {
      "cell_type": "code",
      "source": [
        "nltk.sent_tokenize(txt)"
      ],
      "metadata": {
        "colab": {
          "base_uri": "https://localhost:8080/"
        },
        "id": "PfXzpIA_5lI4",
        "outputId": "f4d76a84-52ea-433f-acb4-4eed6b22e1b8"
      },
      "execution_count": null,
      "outputs": [
        {
          "output_type": "execute_result",
          "data": {
            "text/plain": [
              "['welcome to NLP tutorial naresh 12032000 23:54:00 PM']"
            ]
          },
          "metadata": {},
          "execution_count": 60
        }
      ]
    },
    {
      "cell_type": "code",
      "source": [
        "ip = 'List listed lists listing listings'"
      ],
      "metadata": {
        "id": "eT61v4Am6Tbp"
      },
      "execution_count": null,
      "outputs": []
    },
    {
      "cell_type": "code",
      "source": [
        " words = ip.lower().split(' ')\n",
        " print(words)"
      ],
      "metadata": {
        "colab": {
          "base_uri": "https://localhost:8080/"
        },
        "id": "U6oVjhb86xmB",
        "outputId": "66eb4bf1-78e0-421e-d53b-8119e6608d73"
      },
      "execution_count": null,
      "outputs": [
        {
          "output_type": "stream",
          "name": "stdout",
          "text": [
            "['list', 'listed', 'lists', 'listing', 'listings']\n"
          ]
        }
      ]
    },
    {
      "cell_type": "code",
      "source": [
        "porter = nltk.PorterStemmer()"
      ],
      "metadata": {
        "id": "-D_vs3pi68_A",
        "outputId": "2895621f-c715-4824-fa86-a847aa9082d4",
        "colab": {
          "base_uri": "https://localhost:8080/"
        }
      },
      "execution_count": null,
      "outputs": [
        {
          "output_type": "error",
          "ename": "NameError",
          "evalue": "ignored",
          "traceback": [
            "\u001b[0;31m---------------------------------------------------------------------------\u001b[0m",
            "\u001b[0;31mNameError\u001b[0m                                 Traceback (most recent call last)",
            "\u001b[0;32m<ipython-input-1-9b3dd7cecfc7>\u001b[0m in \u001b[0;36m<cell line: 1>\u001b[0;34m()\u001b[0m\n\u001b[0;32m----> 1\u001b[0;31m \u001b[0mporter\u001b[0m \u001b[0;34m=\u001b[0m \u001b[0mnltk\u001b[0m\u001b[0;34m.\u001b[0m\u001b[0mPorterStemmer\u001b[0m\u001b[0;34m(\u001b[0m\u001b[0;34m)\u001b[0m\u001b[0;34m\u001b[0m\u001b[0;34m\u001b[0m\u001b[0m\n\u001b[0m",
            "\u001b[0;31mNameError\u001b[0m: name 'nltk' is not defined"
          ]
        }
      ]
    },
    {
      "cell_type": "code",
      "source": [],
      "metadata": {
        "colab": {
          "base_uri": "https://localhost:8080/",
          "height": 304
        },
        "id": "eKVVRm8I7Eyo",
        "outputId": "fbe80794-2600-45b9-fa35-b0e9b8102adc"
      },
      "execution_count": null,
      "outputs": [
        {
          "output_type": "error",
          "ename": "AttributeError",
          "evalue": "ignored",
          "traceback": [
            "\u001b[0;31m---------------------------------------------------------------------------\u001b[0m",
            "\u001b[0;31mAttributeError\u001b[0m                            Traceback (most recent call last)",
            "\u001b[0;32m<ipython-input-70-76667c5bdd96>\u001b[0m in \u001b[0;36m<cell line: 1>\u001b[0;34m()\u001b[0m\n\u001b[1;32m      1\u001b[0m \u001b[0;32mfor\u001b[0m \u001b[0mi\u001b[0m \u001b[0;32min\u001b[0m \u001b[0mwords\u001b[0m\u001b[0;34m:\u001b[0m\u001b[0;34m\u001b[0m\u001b[0;34m\u001b[0m\u001b[0m\n\u001b[0;32m----> 2\u001b[0;31m   \u001b[0mporter\u001b[0m\u001b[0;34m.\u001b[0m\u001b[0mstem\u001b[0m\u001b[0;34m(\u001b[0m\u001b[0mi\u001b[0m\u001b[0;34m,\u001b[0m \u001b[0;36m1\u001b[0m\u001b[0;34m)\u001b[0m\u001b[0;34m\u001b[0m\u001b[0;34m\u001b[0m\u001b[0m\n\u001b[0m",
            "\u001b[0;32m/usr/local/lib/python3.10/dist-packages/nltk/stem/porter.py\u001b[0m in \u001b[0;36mstem\u001b[0;34m(self, word, to_lowercase)\u001b[0m\n\u001b[1;32m    656\u001b[0m         \u001b[0;34m:\u001b[0m\u001b[0mparam\u001b[0m \u001b[0mto_lowercase\u001b[0m\u001b[0;34m:\u001b[0m \u001b[0;32mif\u001b[0m\u001b[0;31m \u001b[0m\u001b[0;31m`\u001b[0m\u001b[0mto_lowercase\u001b[0m\u001b[0;34m=\u001b[0m\u001b[0;32mTrue\u001b[0m\u001b[0;31m`\u001b[0m \u001b[0mthe\u001b[0m \u001b[0mword\u001b[0m \u001b[0malways\u001b[0m \u001b[0mlowercase\u001b[0m\u001b[0;34m\u001b[0m\u001b[0;34m\u001b[0m\u001b[0m\n\u001b[1;32m    657\u001b[0m         \"\"\"\n\u001b[0;32m--> 658\u001b[0;31m         \u001b[0mstem\u001b[0m \u001b[0;34m=\u001b[0m \u001b[0mword\u001b[0m\u001b[0;34m.\u001b[0m\u001b[0mlower\u001b[0m\u001b[0;34m(\u001b[0m\u001b[0;34m)\u001b[0m \u001b[0;32mif\u001b[0m \u001b[0mto_lowercase\u001b[0m \u001b[0;32melse\u001b[0m \u001b[0mword\u001b[0m\u001b[0;34m\u001b[0m\u001b[0;34m\u001b[0m\u001b[0m\n\u001b[0m\u001b[1;32m    659\u001b[0m \u001b[0;34m\u001b[0m\u001b[0m\n\u001b[1;32m    660\u001b[0m         \u001b[0;32mif\u001b[0m \u001b[0mself\u001b[0m\u001b[0;34m.\u001b[0m\u001b[0mmode\u001b[0m \u001b[0;34m==\u001b[0m \u001b[0mself\u001b[0m\u001b[0;34m.\u001b[0m\u001b[0mNLTK_EXTENSIONS\u001b[0m \u001b[0;32mand\u001b[0m \u001b[0mword\u001b[0m \u001b[0;32min\u001b[0m \u001b[0mself\u001b[0m\u001b[0;34m.\u001b[0m\u001b[0mpool\u001b[0m\u001b[0;34m:\u001b[0m\u001b[0;34m\u001b[0m\u001b[0;34m\u001b[0m\u001b[0m\n",
            "\u001b[0;31mAttributeError\u001b[0m: 'int' object has no attribute 'lower'"
          ]
        }
      ]
    },
    {
      "cell_type": "code",
      "source": [],
      "metadata": {
        "id": "Z_gzH8o57MSY"
      },
      "execution_count": null,
      "outputs": []
    }
  ]
}