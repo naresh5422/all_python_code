{
 "cells": [
  {
   "cell_type": "markdown",
   "id": "6ecf5a5e",
   "metadata": {},
   "source": [
    "# Decorators\n",
    "\n",
    "### What are the Decorators?\n",
    "\n",
    "1. it is a powerful feature in python that allows you to modify behavior a function without changing its source code.\n",
    "2. They are essentially functions that takes another function as an arguments and return a new function that wraps the original funation.\n",
    "3. This way, we add some extra functionality to the original without modifying it"
   ]
  },
  {
   "cell_type": "markdown",
   "id": "d85cbc52",
   "metadata": {},
   "source": [
    "#### Function copy"
   ]
  },
  {
   "cell_type": "code",
   "execution_count": 139,
   "id": "7eb80a84",
   "metadata": {},
   "outputs": [],
   "source": [
    "def wel():\n",
    "    return \"Welcome to DS world\""
   ]
  },
  {
   "cell_type": "code",
   "execution_count": 119,
   "id": "22795754",
   "metadata": {},
   "outputs": [
    {
     "name": "stdout",
     "output_type": "stream",
     "text": [
      "Welcome to DS world\n"
     ]
    }
   ],
   "source": [
    "a = wel()\n",
    "print(a)"
   ]
  },
  {
   "cell_type": "code",
   "execution_count": 120,
   "id": "9daa7306",
   "metadata": {},
   "outputs": [
    {
     "data": {
      "text/plain": [
       "'Welcome to DS world'"
      ]
     },
     "execution_count": 120,
     "metadata": {},
     "output_type": "execute_result"
    }
   ],
   "source": [
    "wel()"
   ]
  },
  {
   "cell_type": "code",
   "execution_count": 121,
   "id": "a8182755",
   "metadata": {},
   "outputs": [],
   "source": [
    "del wel"
   ]
  },
  {
   "cell_type": "markdown",
   "id": "267f8f14",
   "metadata": {},
   "source": [
    "When delete the given function after stored it into another variable a.\n",
    "it will deleted initial function, not stored variable is printed same returns"
   ]
  },
  {
   "cell_type": "code",
   "execution_count": 124,
   "id": "93eff302",
   "metadata": {},
   "outputs": [
    {
     "name": "stdout",
     "output_type": "stream",
     "text": [
      "Welcome to DS world\n"
     ]
    }
   ],
   "source": [
    "print(a)"
   ]
  },
  {
   "cell_type": "code",
   "execution_count": 125,
   "id": "ccffc756",
   "metadata": {},
   "outputs": [
    {
     "ename": "NameError",
     "evalue": "name 'wel' is not defined",
     "output_type": "error",
     "traceback": [
      "\u001b[0;31m---------------------------------------------------------------------------\u001b[0m",
      "\u001b[0;31mNameError\u001b[0m                                 Traceback (most recent call last)",
      "Cell \u001b[0;32mIn[125], line 1\u001b[0m\n\u001b[0;32m----> 1\u001b[0m \u001b[43mwel\u001b[49m()\n",
      "\u001b[0;31mNameError\u001b[0m: name 'wel' is not defined"
     ]
    }
   ],
   "source": [
    "wel()"
   ]
  },
  {
   "cell_type": "markdown",
   "id": "0691ca49",
   "metadata": {},
   "source": [
    "#### Closure"
   ]
  },
  {
   "cell_type": "code",
   "execution_count": 134,
   "id": "6335499e",
   "metadata": {},
   "outputs": [],
   "source": [
    "def main_func(msg):\n",
    "    def sub_func():\n",
    "        print(\"Hi, \")\n",
    "        print(msg)\n",
    "        print(\"Welcome to DS and DA\")\n",
    "    return sub_func()"
   ]
  },
  {
   "cell_type": "code",
   "execution_count": 135,
   "id": "84a9989d",
   "metadata": {},
   "outputs": [
    {
     "name": "stdout",
     "output_type": "stream",
     "text": [
      "Hi, \n",
      "Naresh\n",
      "Welcome to DS and DA\n"
     ]
    }
   ],
   "source": [
    "main_func(\"Naresh\")"
   ]
  },
  {
   "cell_type": "markdown",
   "id": "f4b85f23",
   "metadata": {},
   "source": [
    "#### Closures and Initial Decorator\n",
    "\n",
    "Instead of calling parameters like msg in previous function and we call function inside the function"
   ]
  },
  {
   "cell_type": "code",
   "execution_count": 152,
   "id": "a01b3e8d",
   "metadata": {},
   "outputs": [],
   "source": [
    "def main_wel(fun):\n",
    "    def sub_wel():\n",
    "        print(\"Hi,\")\n",
    "        print(fun)\n",
    "        print(\"and ML and DA\")\n",
    "    return sub_wel()"
   ]
  },
  {
   "cell_type": "code",
   "execution_count": 147,
   "id": "ffe7ec49",
   "metadata": {},
   "outputs": [
    {
     "name": "stdout",
     "output_type": "stream",
     "text": [
      "Hi,\n",
      "Welcome to DS world\n",
      "and ML and DA\n"
     ]
    }
   ],
   "source": [
    "main_wel(wel())"
   ]
  },
  {
   "cell_type": "markdown",
   "id": "c682546a",
   "metadata": {},
   "source": [
    "Suppose, we want measure the excutoin time of function with \"time\" module, it calculate the time and calls original function "
   ]
  },
  {
   "cell_type": "code",
   "execution_count": 149,
   "id": "f81be4b1",
   "metadata": {},
   "outputs": [],
   "source": [
    "import time\n",
    "\n",
    "def measure_time(func):\n",
    "    def wrapper():\n",
    "        start = time.time()\n",
    "        func\n",
    "        end = time.time()\n",
    "        print(f\"Execution time: {end - start} seconds\")\n",
    "    return wrapper"
   ]
  },
  {
   "cell_type": "code",
   "execution_count": 150,
   "id": "461c1b44",
   "metadata": {},
   "outputs": [
    {
     "name": "stdout",
     "output_type": "stream",
     "text": [
      "Hello, welcome\n",
      "<function measure_time.<locals>.wrapper at 0x7fdf2021c310>\n"
     ]
    }
   ],
   "source": [
    "print(measure_time(hello()))"
   ]
  },
  {
   "cell_type": "code",
   "execution_count": 151,
   "id": "c0944e73",
   "metadata": {},
   "outputs": [
    {
     "name": "stdout",
     "output_type": "stream",
     "text": [
      "8.249282836914062e-05\n"
     ]
    }
   ],
   "source": [
    "import time\n",
    "\n",
    "start = time.time()\n",
    "end = time.time()\n",
    "\n",
    "print(end-start)"
   ]
  },
  {
   "cell_type": "code",
   "execution_count": 97,
   "id": "68ef6944",
   "metadata": {},
   "outputs": [
    {
     "name": "stdout",
     "output_type": "stream",
     "text": [
      "Hello, welcome\n"
     ]
    }
   ],
   "source": [
    "hello()"
   ]
  },
  {
   "cell_type": "code",
   "execution_count": 106,
   "id": "3d39827d",
   "metadata": {},
   "outputs": [],
   "source": [
    "def dec(fun):\n",
    "    name = \"Naresh\"\n",
    "    print(name)\n",
    "    return fun"
   ]
  },
  {
   "cell_type": "code",
   "execution_count": 107,
   "id": "b231ddef",
   "metadata": {},
   "outputs": [
    {
     "name": "stdout",
     "output_type": "stream",
     "text": [
      "Hello, welcome\n",
      "Naresh\n"
     ]
    }
   ],
   "source": [
    "dec(hello())"
   ]
  },
  {
   "cell_type": "markdown",
   "id": "3c4ccc63",
   "metadata": {},
   "source": [
    "#### main decorators"
   ]
  },
  {
   "cell_type": "code",
   "execution_count": 270,
   "id": "fca3a7b7",
   "metadata": {},
   "outputs": [],
   "source": [
    "def sample(func):\n",
    "    print(\"Hello\")\n",
    "    return func"
   ]
  },
  {
   "cell_type": "code",
   "execution_count": 271,
   "id": "d69a2907",
   "metadata": {},
   "outputs": [
    {
     "name": "stdout",
     "output_type": "stream",
     "text": [
      "Hello\n"
     ]
    },
    {
     "data": {
      "text/plain": [
       "<function print>"
      ]
     },
     "execution_count": 271,
     "metadata": {},
     "output_type": "execute_result"
    }
   ],
   "source": [
    "sample(print)"
   ]
  },
  {
   "cell_type": "code",
   "execution_count": 272,
   "id": "fce7ed89",
   "metadata": {},
   "outputs": [],
   "source": [
    "def fact(n):\n",
    "#     if n == 0 | n == 1:\n",
    "    if n == 0 or n == 1:\n",
    "        return 1\n",
    "    else:\n",
    "        return n*fact(n-1)"
   ]
  },
  {
   "cell_type": "code",
   "execution_count": 273,
   "id": "66612edd",
   "metadata": {},
   "outputs": [
    {
     "data": {
      "text/plain": [
       "120"
      ]
     },
     "execution_count": 273,
     "metadata": {},
     "output_type": "execute_result"
    }
   ],
   "source": [
    "fact(5)"
   ]
  },
  {
   "cell_type": "code",
   "execution_count": 274,
   "id": "6fbb40b7",
   "metadata": {},
   "outputs": [],
   "source": [
    "from functools import wraps"
   ]
  },
  {
   "cell_type": "code",
   "execution_count": 275,
   "id": "8dc7dba2",
   "metadata": {},
   "outputs": [],
   "source": [
    "def memoize(func):\n",
    "    cache = {}\n",
    "    print(\"Hi\")\n",
    "    @wraps(func)\n",
    "    def wrapper(*args):\n",
    "        if args in cache:\n",
    "            return cache[args]\n",
    "        else:\n",
    "            res = func(*args)\n",
    "            cache[args] = res\n",
    "            return res\n",
    "    return wrapper"
   ]
  },
  {
   "cell_type": "code",
   "execution_count": 276,
   "id": "466953ec",
   "metadata": {},
   "outputs": [
    {
     "name": "stdout",
     "output_type": "stream",
     "text": [
      "Hi\n"
     ]
    }
   ],
   "source": [
    "@memoize\n",
    "def fact(n):\n",
    "#     if n == 0 | n == 1:\n",
    "    if n == 0 or n == 1:\n",
    "        return 1\n",
    "    else:\n",
    "        return n*fact(n-1)"
   ]
  },
  {
   "cell_type": "code",
   "execution_count": 277,
   "id": "5c1b5a3d",
   "metadata": {},
   "outputs": [],
   "source": [
    "# def make_pretty(func):\n",
    "#     # define the inner function \n",
    "#     def inner():\n",
    "#         # add some additional behavior to decorated function\n",
    "#         print(\"I got decorated\")\n",
    "\n",
    "#         # call original function\n",
    "#         func()\n",
    "#     # return the inner function\n",
    "#     return inner()"
   ]
  },
  {
   "cell_type": "code",
   "execution_count": 278,
   "id": "dff44d52",
   "metadata": {},
   "outputs": [
    {
     "data": {
      "text/plain": [
       "120"
      ]
     },
     "execution_count": 278,
     "metadata": {},
     "output_type": "execute_result"
    }
   ],
   "source": [
    "fact(5)"
   ]
  },
  {
   "cell_type": "markdown",
   "id": "634bbd5c",
   "metadata": {},
   "source": [
    "### calculate total and average"
   ]
  },
  {
   "cell_type": "code",
   "execution_count": 5,
   "id": "3c33f347",
   "metadata": {},
   "outputs": [],
   "source": [
    "def cal_total(*args):\n",
    "    tot = 0\n",
    "    for n in args:\n",
    "        tot = tot +  n\n",
    "    return tot"
   ]
  },
  {
   "cell_type": "code",
   "execution_count": 6,
   "id": "de5d3925",
   "metadata": {},
   "outputs": [],
   "source": [
    "def cal_avg(*args):\n",
    "    tot = cal_total(*args)\n",
    "    avg = tot/len(args)\n",
    "    return avg"
   ]
  },
  {
   "cell_type": "code",
   "execution_count": 17,
   "id": "5456ebe9",
   "metadata": {},
   "outputs": [],
   "source": [
    "li = [6,6,6,6,6]"
   ]
  },
  {
   "cell_type": "code",
   "execution_count": 18,
   "id": "d1bd223e",
   "metadata": {},
   "outputs": [
    {
     "data": {
      "text/plain": [
       "30"
      ]
     },
     "execution_count": 18,
     "metadata": {},
     "output_type": "execute_result"
    }
   ],
   "source": [
    "cal_total(*li)"
   ]
  },
  {
   "cell_type": "code",
   "execution_count": 19,
   "id": "ecb46a7b",
   "metadata": {},
   "outputs": [
    {
     "data": {
      "text/plain": [
       "6.0"
      ]
     },
     "execution_count": 19,
     "metadata": {},
     "output_type": "execute_result"
    }
   ],
   "source": [
    "round(cal_avg(*li),2)"
   ]
  },
  {
   "cell_type": "markdown",
   "id": "574fda97",
   "metadata": {},
   "source": [
    "### Polymorphism"
   ]
  },
  {
   "cell_type": "code",
   "execution_count": 20,
   "id": "9d66fb32",
   "metadata": {},
   "outputs": [],
   "source": [
    "class Bird:\n",
    "    def intro(self):\n",
    "        print(\"There are many types of birds on Tree\")\n",
    "    def flying(self):\n",
    "        print(\"Most of the birds are flying but some cannot fly\")\n"
   ]
  },
  {
   "cell_type": "code",
   "execution_count": 21,
   "id": "9f391e0a",
   "metadata": {},
   "outputs": [],
   "source": [
    "class sparrow(Bird):\n",
    "    def flying(self):\n",
    "        print(\"Sparorws can flying. \")\n"
   ]
  },
  {
   "cell_type": "code",
   "execution_count": 22,
   "id": "25489810",
   "metadata": {},
   "outputs": [],
   "source": [
    "class ostrich(Bird):\n",
    "    def flying(self):\n",
    "        print(\"Ostrich cannot fly. \")"
   ]
  },
  {
   "cell_type": "code",
   "execution_count": 28,
   "id": "d310e44e",
   "metadata": {},
   "outputs": [],
   "source": [
    "B_obj = Bird()\n",
    "S_obj = sparrow()\n",
    "O_obj = ostrich()"
   ]
  },
  {
   "cell_type": "code",
   "execution_count": 31,
   "id": "f658fc4d",
   "metadata": {},
   "outputs": [
    {
     "name": "stdout",
     "output_type": "stream",
     "text": [
      "There are many types of birds on Tree\n",
      "There are many types of birds on Tree\n",
      "There are many types of birds on Tree\n"
     ]
    },
    {
     "data": {
      "text/plain": [
       "(None, None, None)"
      ]
     },
     "execution_count": 31,
     "metadata": {},
     "output_type": "execute_result"
    }
   ],
   "source": [
    "B_obj.intro(), S_obj.intro(), O_obj.intro()"
   ]
  },
  {
   "cell_type": "code",
   "execution_count": 34,
   "id": "61bafdc5",
   "metadata": {},
   "outputs": [
    {
     "name": "stdout",
     "output_type": "stream",
     "text": [
      "Most of the birds are flying but some cannot fly\n",
      "Sparorws can flying. \n",
      "Ostrich cannot fly. \n"
     ]
    },
    {
     "data": {
      "text/plain": [
       "(None, None, None)"
      ]
     },
     "execution_count": 34,
     "metadata": {},
     "output_type": "execute_result"
    }
   ],
   "source": [
    "B_obj.flying(), S_obj.flying(), O_obj.flying()"
   ]
  },
  {
   "cell_type": "markdown",
   "id": "064c7bc1",
   "metadata": {},
   "source": [
    "### BMI Calculator"
   ]
  },
  {
   "cell_type": "code",
   "execution_count": 40,
   "id": "30d3c8d3",
   "metadata": {},
   "outputs": [],
   "source": [
    "class bmi_calculator:\n",
    "    def __init__(self, name, weight, height):\n",
    "        self.name = name\n",
    "        self.weight = weight\n",
    "        self.height = height\n",
    "    def count_bmi(self):\n",
    "        bmi = self.weight/self.height\n",
    "        print(f\"BMI of weight {self.weight} and {self.height} is: {round(bmi, 3)}\")\n",
    "        \n",
    "    def get_bmi(self):\n",
    "        bmi = self.weight/self.height \n",
    "        if bmi <= 25:\n",
    "            print(self.name+ \" \" + \"is not over weight\")\n",
    "        else:\n",
    "            print(self.name+ \" \" + \"is over weight\")"
   ]
  },
  {
   "cell_type": "code",
   "execution_count": 41,
   "id": "fed81bd5",
   "metadata": {},
   "outputs": [],
   "source": [
    "a_bmi = bmi_calculator(\"Naresh\", 75, 5.4)\n",
    "b_bmi = bmi_calculator(\"sulochana\", 52, 5.2)"
   ]
  },
  {
   "cell_type": "code",
   "execution_count": 46,
   "id": "41387783",
   "metadata": {},
   "outputs": [
    {
     "name": "stdout",
     "output_type": "stream",
     "text": [
      "BMI of weight 75 and 5.4 is: 13.889\n",
      "BMI of weight 52 and 5.2 is: 10.0\n"
     ]
    },
    {
     "data": {
      "text/plain": [
       "(None, None)"
      ]
     },
     "execution_count": 46,
     "metadata": {},
     "output_type": "execute_result"
    }
   ],
   "source": [
    "a_bmi.count_bmi(), b_bmi.count_bmi()"
   ]
  },
  {
   "cell_type": "code",
   "execution_count": 47,
   "id": "983bb1a5",
   "metadata": {},
   "outputs": [
    {
     "name": "stdout",
     "output_type": "stream",
     "text": [
      "Naresh is not over weight\n",
      "sulochana is not over weight\n"
     ]
    },
    {
     "data": {
      "text/plain": [
       "(None, None)"
      ]
     },
     "execution_count": 47,
     "metadata": {},
     "output_type": "execute_result"
    }
   ],
   "source": [
    "a_bmi.get_bmi(), b_bmi.get_bmi()"
   ]
  },
  {
   "cell_type": "code",
   "execution_count": 39,
   "id": "53417f0d",
   "metadata": {},
   "outputs": [],
   "source": [
    "import time\n",
    "itera = 1000000"
   ]
  },
  {
   "cell_type": "code",
   "execution_count": 40,
   "id": "0d0a68d6",
   "metadata": {},
   "outputs": [
    {
     "name": "stdout",
     "output_type": "stream",
     "text": [
      "0.16747450828552246\n"
     ]
    }
   ],
   "source": [
    "start = time.time()\n",
    "li = []\n",
    "for i in range(itera):\n",
    "    if i%2==0:\n",
    "        li.append(i)\n",
    "end = time.time()\n",
    "duration = end-start\n",
    "print(duration)\n"
   ]
  },
  {
   "cell_type": "code",
   "execution_count": 41,
   "id": "3de22b21",
   "metadata": {},
   "outputs": [
    {
     "name": "stdout",
     "output_type": "stream",
     "text": [
      "0.08377814292907715\n"
     ]
    }
   ],
   "source": [
    "start = time.time()\n",
    "li = [i for i in range(itera) if i%2==0]\n",
    "end = time.time()\n",
    "duration = end-start\n",
    "print(duration)"
   ]
  },
  {
   "cell_type": "markdown",
   "id": "4e0ab126",
   "metadata": {},
   "source": []
  },
  {
   "cell_type": "code",
   "execution_count": null,
   "id": "e14e9793",
   "metadata": {},
   "outputs": [],
   "source": []
  },
  {
   "cell_type": "code",
   "execution_count": null,
   "id": "f72cd1f7",
   "metadata": {},
   "outputs": [],
   "source": [
    "### define the function to get start and end coordinates with time duration\n"
   ]
  }
 ],
 "metadata": {
  "kernelspec": {
   "display_name": "Python 3 (ipykernel)",
   "language": "python",
   "name": "python3"
  },
  "language_info": {
   "codemirror_mode": {
    "name": "ipython",
    "version": 3
   },
   "file_extension": ".py",
   "mimetype": "text/x-python",
   "name": "python",
   "nbconvert_exporter": "python",
   "pygments_lexer": "ipython3",
   "version": "3.10.12"
  }
 },
 "nbformat": 4,
 "nbformat_minor": 5
}
