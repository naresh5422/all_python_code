{
 "cells": [
  {
   "cell_type": "markdown",
   "id": "d20c8972",
   "metadata": {},
   "source": [
    "### QRCode generate"
   ]
  },
  {
   "cell_type": "code",
   "execution_count": 1,
   "id": "1369428f",
   "metadata": {},
   "outputs": [
    {
     "name": "stdout",
     "output_type": "stream",
     "text": [
      "Defaulting to user installation because normal site-packages is not writeable\n",
      "Requirement already satisfied: pyqrcode in /home/cdot/.local/lib/python3.10/site-packages (1.2.1)\n",
      "\u001b[33mDEPRECATION: devscripts 2.22.1ubuntu1 has a non-standard version number. pip 24.0 will enforce this behaviour change. A possible replacement is to upgrade to a newer version of devscripts or contact the author to suggest that they release a version with a conforming version number. Discussion can be found at https://github.com/pypa/pip/issues/12063\u001b[0m\u001b[33m\n",
      "\u001b[0mNote: you may need to restart the kernel to use updated packages.\n"
     ]
    }
   ],
   "source": [
    "pip install pyqrcode"
   ]
  },
  {
   "cell_type": "code",
   "execution_count": 2,
   "id": "1dbb3f31",
   "metadata": {},
   "outputs": [
    {
     "name": "stdout",
     "output_type": "stream",
     "text": [
      "Defaulting to user installation because normal site-packages is not writeable\n",
      "Requirement already satisfied: pypng in /home/cdot/.local/lib/python3.10/site-packages (0.20220715.0)\n",
      "\u001b[33mDEPRECATION: devscripts 2.22.1ubuntu1 has a non-standard version number. pip 24.0 will enforce this behaviour change. A possible replacement is to upgrade to a newer version of devscripts or contact the author to suggest that they release a version with a conforming version number. Discussion can be found at https://github.com/pypa/pip/issues/12063\u001b[0m\u001b[33m\n",
      "\u001b[0mNote: you may need to restart the kernel to use updated packages.\n"
     ]
    }
   ],
   "source": [
    "pip install pypng"
   ]
  },
  {
   "cell_type": "code",
   "execution_count": 3,
   "id": "9d8509c0",
   "metadata": {},
   "outputs": [],
   "source": [
    "import pyqrcode as qr\n",
    "import png\n",
    "from pyqrcode import QRCode"
   ]
  },
  {
   "cell_type": "code",
   "execution_count": 4,
   "id": "1aa33563",
   "metadata": {},
   "outputs": [
    {
     "name": "stdout",
     "output_type": "stream",
     "text": [
      "QRCode(content=b'https://github.com/naresh5422?tab=repositories', error='H', version=6, mode='binary')\n"
     ]
    }
   ],
   "source": [
    "# String which representing the QR code\n",
    "s = \"https://github.com/naresh5422?tab=repositories\"\n",
    "\n",
    "# Generate a QR code\n",
    "url = qr.create(s)\n",
    "print(url)"
   ]
  },
  {
   "cell_type": "code",
   "execution_count": 5,
   "id": "8f7c8025",
   "metadata": {},
   "outputs": [],
   "source": [
    "url.svg(\"myGitRepoQR.svg\",scale = 8)"
   ]
  },
  {
   "cell_type": "code",
   "execution_count": 6,
   "id": "3c220be9",
   "metadata": {},
   "outputs": [],
   "source": [
    "url.png(\"myGitRepoQR.png\", scale = 6)"
   ]
  },
  {
   "cell_type": "markdown",
   "id": "e52debd1",
   "metadata": {},
   "source": [
    "### Convert Image to PDF"
   ]
  },
  {
   "cell_type": "code",
   "execution_count": 7,
   "id": "751c445e",
   "metadata": {},
   "outputs": [
    {
     "name": "stdout",
     "output_type": "stream",
     "text": [
      "Defaulting to user installation because normal site-packages is not writeable\n",
      "Requirement already satisfied: fpdf in /home/cdot/.local/lib/python3.10/site-packages (1.7.2)\n",
      "\u001b[33mDEPRECATION: devscripts 2.22.1ubuntu1 has a non-standard version number. pip 24.0 will enforce this behaviour change. A possible replacement is to upgrade to a newer version of devscripts or contact the author to suggest that they release a version with a conforming version number. Discussion can be found at https://github.com/pypa/pip/issues/12063\u001b[0m\u001b[33m\n",
      "\u001b[0mNote: you may need to restart the kernel to use updated packages.\n"
     ]
    }
   ],
   "source": [
    "pip install fpdf"
   ]
  },
  {
   "cell_type": "code",
   "execution_count": 8,
   "id": "51b518a3",
   "metadata": {},
   "outputs": [],
   "source": [
    "from fpdf import FPDF"
   ]
  },
  {
   "cell_type": "code",
   "execution_count": 9,
   "id": "05bd17e2",
   "metadata": {},
   "outputs": [
    {
     "name": "stdout",
     "output_type": "stream",
     "text": [
      "<fpdf.fpdf.FPDF object at 0x7fca287ae5c0>\n"
     ]
    }
   ],
   "source": [
    "pdf = FPDF()\n",
    "print(pdf)"
   ]
  },
  {
   "cell_type": "code",
   "execution_count": 10,
   "id": "3aed6202",
   "metadata": {},
   "outputs": [],
   "source": [
    "# ## Image list is the list with all image filenames\n",
    "# imagelist = [\"imagent.png\"]\n",
    "# for img in imagelist:\n",
    "#     print(pdf.add_page())\n",
    "#     pdf.image(img,x,y,w,h)\n",
    "#     pdf.output(\"image.pdf\")"
   ]
  },
  {
   "cell_type": "markdown",
   "id": "7afeaec6",
   "metadata": {},
   "source": [
    "### Laguage Detection"
   ]
  },
  {
   "cell_type": "code",
   "execution_count": 11,
   "id": "54ed01f0",
   "metadata": {},
   "outputs": [
    {
     "name": "stdout",
     "output_type": "stream",
     "text": [
      "Defaulting to user installation because normal site-packages is not writeable\n",
      "Requirement already satisfied: langdetect in /home/cdot/.local/lib/python3.10/site-packages (1.0.9)\n",
      "Requirement already satisfied: six in /usr/lib/python3/dist-packages (from langdetect) (1.16.0)\n",
      "\u001b[33mDEPRECATION: devscripts 2.22.1ubuntu1 has a non-standard version number. pip 24.0 will enforce this behaviour change. A possible replacement is to upgrade to a newer version of devscripts or contact the author to suggest that they release a version with a conforming version number. Discussion can be found at https://github.com/pypa/pip/issues/12063\u001b[0m\u001b[33m\n",
      "\u001b[0mNote: you may need to restart the kernel to use updated packages.\n"
     ]
    }
   ],
   "source": [
    "pip install langdetect"
   ]
  },
  {
   "cell_type": "code",
   "execution_count": 12,
   "id": "34f8c710",
   "metadata": {},
   "outputs": [],
   "source": [
    "from langdetect import detect"
   ]
  },
  {
   "cell_type": "code",
   "execution_count": 13,
   "id": "8c5f938f",
   "metadata": {},
   "outputs": [
    {
     "name": "stdout",
     "output_type": "stream",
     "text": [
      "Enter the any text in any language: Hello\n",
      "fi\n"
     ]
    }
   ],
   "source": [
    "text = input(\"Enter the any text in any language: \")\n",
    "print(detect(text))"
   ]
  },
  {
   "cell_type": "markdown",
   "id": "c024ac30",
   "metadata": {},
   "source": [
    "### Youtube video downloaded"
   ]
  },
  {
   "cell_type": "code",
   "execution_count": 14,
   "id": "daca0a69",
   "metadata": {},
   "outputs": [
    {
     "name": "stdout",
     "output_type": "stream",
     "text": [
      "Defaulting to user installation because normal site-packages is not writeable\n",
      "Requirement already satisfied: pytube in /home/cdot/.local/lib/python3.10/site-packages (15.0.0)\n",
      "\u001b[33mDEPRECATION: devscripts 2.22.1ubuntu1 has a non-standard version number. pip 24.0 will enforce this behaviour change. A possible replacement is to upgrade to a newer version of devscripts or contact the author to suggest that they release a version with a conforming version number. Discussion can be found at https://github.com/pypa/pip/issues/12063\u001b[0m\u001b[33m\n",
      "\u001b[0mNote: you may need to restart the kernel to use updated packages.\n"
     ]
    }
   ],
   "source": [
    "pip install pytube"
   ]
  },
  {
   "cell_type": "code",
   "execution_count": 15,
   "id": "b0490ad0",
   "metadata": {},
   "outputs": [],
   "source": [
    "import pytube"
   ]
  },
  {
   "cell_type": "code",
   "execution_count": 16,
   "id": "be5a783a",
   "metadata": {},
   "outputs": [
    {
     "name": "stdout",
     "output_type": "stream",
     "text": [
      "enter the youtube URL: https://www.youtube.com/shorts/FK5_Vc0Hrqg\n",
      "Downloded https://www.youtube.com/shorts/FK5_Vc0Hrqg\n"
     ]
    }
   ],
   "source": [
    "link = input(\"enter the youtube URL: \")\n",
    "yt = pytube.YouTube(link)\n",
    "yt.streams.first().download()\n",
    "print(\"Downloded\", link)"
   ]
  },
  {
   "cell_type": "markdown",
   "id": "348e9b96",
   "metadata": {},
   "source": [
    "### Send Emails with python coding"
   ]
  },
  {
   "cell_type": "code",
   "execution_count": 17,
   "id": "fb1f4380",
   "metadata": {},
   "outputs": [],
   "source": [
    "import smtplib"
   ]
  },
  {
   "cell_type": "code",
   "execution_count": 18,
   "id": "50047f89",
   "metadata": {},
   "outputs": [],
   "source": [
    "# mail_id = \"t.naresh5422@gmail.com\"\n",
    "# pswd = \"password\"\n",
    "# conn = smtplib.SMTP(\"smtp.gmail.com\", 465)\n",
    "# conn.starttls()\n",
    "# conn.login(user = mail_id, password = pswd)\n",
    "\n",
    "# conn.sendmail(from_addr = email_id, to_addr = \"naresh09022cm023@gmail.com\", msg = \"Hello Naresh\")\n",
    "# conn.close()"
   ]
  },
  {
   "cell_type": "code",
   "execution_count": 19,
   "id": "f1b274ca",
   "metadata": {},
   "outputs": [],
   "source": [
    "# import smtplib, ssl\n",
    "\n",
    "# port = 465  # For SSL\n",
    "# smtp_server = \"smtp.gmail.com\"\n",
    "# sender_email = \"t.naresh5422@gmail.com\"  # Enter your address\n",
    "# receiver_email = \"naresh09022cm023@gmail.com\"  # Enter receiver address\n",
    "# password = input(\"Type your password and press enter: \")\n",
    "# message = \"\"\"\\\n",
    "# Subject: Hi there\n",
    "\n",
    "# This message is sent from Python.\"\"\"\n",
    "\n",
    "# context = ssl.create_default_context()\n",
    "# with smtplib.SMTP_SSL(smtp_server, port, context=context) as server:\n",
    "#     server.login(sender_email, password)\n",
    "#     server.sendmail(sender_email, receiver_email, message)"
   ]
  },
  {
   "cell_type": "code",
   "execution_count": null,
   "id": "8acdcb8d",
   "metadata": {},
   "outputs": [],
   "source": []
  }
 ],
 "metadata": {
  "kernelspec": {
   "display_name": "Python 3 (ipykernel)",
   "language": "python",
   "name": "python3"
  },
  "language_info": {
   "codemirror_mode": {
    "name": "ipython",
    "version": 3
   },
   "file_extension": ".py",
   "mimetype": "text/x-python",
   "name": "python",
   "nbconvert_exporter": "python",
   "pygments_lexer": "ipython3",
   "version": "3.10.12"
  }
 },
 "nbformat": 4,
 "nbformat_minor": 5
}
