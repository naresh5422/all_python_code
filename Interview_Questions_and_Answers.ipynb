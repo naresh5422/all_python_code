{
 "cells": [
  {
   "cell_type": "markdown",
   "id": "9e04f3cb",
   "metadata": {},
   "source": [
    "## Find n number of Factorials"
   ]
  },
  {
   "cell_type": "code",
   "execution_count": 1,
   "id": "5e3f257e",
   "metadata": {},
   "outputs": [],
   "source": [
    "def fact(n):\n",
    "    if n<0:\n",
    "        return (f\"Invalid Number\")\n",
    "    elif n == 0:\n",
    "        return 1\n",
    "    elif n == 1:\n",
    "        return 1\n",
    "    else:\n",
    "        return n*fact(n-1)"
   ]
  },
  {
   "cell_type": "code",
   "execution_count": 6,
   "id": "ccc27fef",
   "metadata": {},
   "outputs": [
    {
     "name": "stdout",
     "output_type": "stream",
     "text": [
      "120\n"
     ]
    }
   ],
   "source": [
    "n = 5\n",
    "print(fact(n))"
   ]
  },
  {
   "cell_type": "markdown",
   "id": "65df0173",
   "metadata": {},
   "source": [
    "## Queues"
   ]
  },
  {
   "cell_type": "code",
   "execution_count": 4,
   "id": "80d1a002",
   "metadata": {},
   "outputs": [
    {
     "name": "stdout",
     "output_type": "stream",
     "text": [
      "Select the operation 1. add 2. remove 3. show 4. quit\n",
      "1\n",
      "enter the element: 5\n",
      "5 is added into queue\n",
      "Select the operation 1. add 2. remove 3. show 4. quit\n",
      "1\n",
      "enter the element: 6\n",
      "6 is added into queue\n",
      "Select the operation 1. add 2. remove 3. show 4. quit\n",
      "3\n",
      "[5, 6]\n",
      "Select the operation 1. add 2. remove 3. show 4. quit\n",
      "1\n",
      "enter the element: 1\n",
      "1 is added into queue\n",
      "Select the operation 1. add 2. remove 3. show 4. quit\n",
      "1\n",
      "enter the element: 4\n",
      "4 is added into queue\n",
      "Select the operation 1. add 2. remove 3. show 4. quit\n",
      "1\n",
      "enter the element: 3\n",
      "3 is added into queue\n",
      "Select the operation 1. add 2. remove 3. show 4. quit\n",
      "1\n",
      "enter the element: 8\n",
      "8 is added into queue\n",
      "Select the operation 1. add 2. remove 3. show 4. quit\n",
      "8\n",
      "Enter the correct operation\n",
      "Select the operation 1. add 2. remove 3. show 4. quit\n",
      "1\n",
      "enter the element: 6\n",
      "6 is added into queue\n",
      "Select the operation 1. add 2. remove 3. show 4. quit\n",
      "4\n"
     ]
    }
   ],
   "source": [
    "queue = []\n",
    "def enqueue():\n",
    "    element = int(input(\"enter the element: \"))\n",
    "    queue.append(element)\n",
    "    print(element,\"is added into queue\")\n",
    "def dequeue():\n",
    "    if element not in queue:\n",
    "        print(\"queue is empty\")\n",
    "    else:\n",
    "        element = queue.pop()\n",
    "        print(\"Remove the element from Queue\", element)\n",
    "def display():\n",
    "    print(queue)\n",
    "\n",
    "while True:\n",
    "    print(\"Select the operation 1. add 2. remove 3. show 4. quit\")\n",
    "    choice = int(input())\n",
    "    if choice == 1:\n",
    "        enqueue()\n",
    "    elif choice == 2:\n",
    "        dequeue()\n",
    "    elif choice == 3:\n",
    "        display()\n",
    "    elif choice == 4:\n",
    "        break\n",
    "    else:\n",
    "        print(\"Enter the correct operation\")"
   ]
  },
  {
   "cell_type": "markdown",
   "id": "c2f9ae70",
   "metadata": {},
   "source": [
    "## Reversing the Vowels in given string"
   ]
  },
  {
   "cell_type": "code",
   "execution_count": 10,
   "id": "6dbcaf05",
   "metadata": {},
   "outputs": [],
   "source": [
    "def rev_vowels(ipstr):\n",
    "    li_str = list(ipstr)\n",
    "    vowels = \"aeiouAEIOU\"\n",
    "    v_i = [i for i,v in enumerate(li_str) if v in vowels]\n",
    "    rev_li_str = [li_str[i] for i in v_i[::-1]]\n",
    "    for i,c in zip(v_i,rev_li_str):\n",
    "        li_str[i] = c\n",
    "    final_str = \"\".join(li_str)\n",
    "    return final_str"
   ]
  },
  {
   "cell_type": "code",
   "execution_count": 11,
   "id": "83e6a59a",
   "metadata": {},
   "outputs": [
    {
     "name": "stdout",
     "output_type": "stream",
     "text": [
      "Enter the String to reverse vowels: hello\n"
     ]
    },
    {
     "data": {
      "text/plain": [
       "'holle'"
      ]
     },
     "execution_count": 11,
     "metadata": {},
     "output_type": "execute_result"
    }
   ],
   "source": [
    "strng = input(\"Enter the String to reverse vowels: \")\n",
    "rev_vowels(strng)"
   ]
  },
  {
   "cell_type": "markdown",
   "id": "d3b46b8c",
   "metadata": {},
   "source": [
    "## frequency of elements in given list"
   ]
  },
  {
   "cell_type": "code",
   "execution_count": 24,
   "id": "d680d871",
   "metadata": {},
   "outputs": [],
   "source": [
    "def ele_freq(l):\n",
    "    # Create the empty dictionary to store the key values pair\n",
    "    d = dict()\n",
    "    # iterate the entire given list to count the elements\n",
    "    for i in l:\n",
    "        if i != ',':\n",
    "        # in case, the given element is not in dictionary key\n",
    "        # it will add into dictionary and increase the count\n",
    "            if i not in d.keys():\n",
    "                d[i] = 1\n",
    "            else:\n",
    "                d[i] += 1\n",
    "    return d\n",
    "            \n",
    "        "
   ]
  },
  {
   "cell_type": "code",
   "execution_count": 114,
   "id": "9b03fae7",
   "metadata": {},
   "outputs": [],
   "source": [
    "def freq_list(l):\n",
    "    di = {i: l.count(i) for i in l if i != \",\"}\n",
    "    return di"
   ]
  },
  {
   "cell_type": "code",
   "execution_count": 115,
   "id": "cfe77608",
   "metadata": {},
   "outputs": [
    {
     "name": "stdout",
     "output_type": "stream",
     "text": [
      "Enter the list of values to count the elements: 6,5,4,7,3,6,3,5,3,5,4,7,5,0\n"
     ]
    },
    {
     "data": {
      "text/plain": [
       "{'6': 2, '5': 4, '4': 2, '7': 2, '3': 3, '0': 1}"
      ]
     },
     "execution_count": 115,
     "metadata": {},
     "output_type": "execute_result"
    }
   ],
   "source": [
    "li_ele = list(input(\"Enter the list of values to count the elements: \"))\n",
    "freq_list(li_ele)"
   ]
  },
  {
   "cell_type": "code",
   "execution_count": 25,
   "id": "a497cb87",
   "metadata": {},
   "outputs": [
    {
     "name": "stdout",
     "output_type": "stream",
     "text": [
      "Enter the list of values to count the elements: 2,3,1,2,3,4,2,3,4,5,4,3,2,1,3,2\n"
     ]
    },
    {
     "data": {
      "text/plain": [
       "{'2': 5, '3': 5, '1': 2, '4': 3, '5': 1}"
      ]
     },
     "execution_count": 25,
     "metadata": {},
     "output_type": "execute_result"
    }
   ],
   "source": [
    "li_ele = list(input(\"Enter the list of values to count the elements: \"))\n",
    "ele_freq(li_ele)"
   ]
  },
  {
   "cell_type": "markdown",
   "id": "39aa571e",
   "metadata": {},
   "source": [
    "## Sort the given list of elements without using Built-in function"
   ]
  },
  {
   "cell_type": "code",
   "execution_count": 55,
   "id": "26d71195",
   "metadata": {},
   "outputs": [],
   "source": [
    "l = [2,4,3,5,4,6,4,7,8,3,2,9,0]"
   ]
  },
  {
   "cell_type": "markdown",
   "id": "69c12a71",
   "metadata": {},
   "source": [
    "### Ascending list"
   ]
  },
  {
   "cell_type": "code",
   "execution_count": 98,
   "id": "e31b4ed7",
   "metadata": {},
   "outputs": [],
   "source": [
    "def sort_asc_without_builtin(li):\n",
    "    for i in range(len(li)):\n",
    "        for j in range(0,len(li)-i-1):\n",
    "            if li[j] > li[j+1]:\n",
    "                li[j],li[j+1] = li[j+1],li[j]\n",
    "    l1 = []\n",
    "    for i in li:\n",
    "        if i !=',':\n",
    "            l1.append(i) \n",
    "    return l1"
   ]
  },
  {
   "cell_type": "code",
   "execution_count": 108,
   "id": "0f5faab1",
   "metadata": {},
   "outputs": [
    {
     "name": "stdout",
     "output_type": "stream",
     "text": [
      "Enter the list of values for sorting ASC: 6,2,8,6,9,0\n",
      "\n",
      "Sorted list to ASC: ['0', '2', '6', '6', '8', '9']\n"
     ]
    }
   ],
   "source": [
    "list_values = list(input(\"Enter the list of values for sorting ASC: \"))\n",
    "print()\n",
    "print(f\"Sorted list to ASC: {sort_asc_without_builtin(list_values)}\")"
   ]
  },
  {
   "cell_type": "markdown",
   "id": "61b8e002",
   "metadata": {},
   "source": [
    "### Descending list"
   ]
  },
  {
   "cell_type": "code",
   "execution_count": 105,
   "id": "24a81f20",
   "metadata": {},
   "outputs": [],
   "source": [
    "def sort_desc_without_builtin(li):\n",
    "    for i in range(len(li)):\n",
    "        for j in range(0,len(li)-i-1):\n",
    "            if li[j] < li[j+1]:\n",
    "                li[j],li[j+1] = li[j+1],li[j]\n",
    "    l1 = []\n",
    "    for i in li:\n",
    "        if i !=',':\n",
    "            l1.append(i) \n",
    "    return l1"
   ]
  },
  {
   "cell_type": "code",
   "execution_count": 109,
   "id": "5038dbc2",
   "metadata": {},
   "outputs": [
    {
     "name": "stdout",
     "output_type": "stream",
     "text": [
      "Enter the list of values for sorting DESC: 7,4,1,0,9,3,6\n",
      "\n",
      "Sorted list to DESC: ['9', '7', '6', '4', '3', '1', '0']\n"
     ]
    }
   ],
   "source": [
    "list_values = list(input(\"Enter the list of values for sorting DESC: \"))\n",
    "print()\n",
    "print(f\"Sorted list to DESC: {sort_desc_without_builtin(list_values)}\")"
   ]
  },
  {
   "cell_type": "markdown",
   "id": "1e64883f",
   "metadata": {},
   "source": [
    "## Swapping the variable values"
   ]
  },
  {
   "cell_type": "code",
   "execution_count": 182,
   "id": "7c87b053",
   "metadata": {},
   "outputs": [
    {
     "name": "stdout",
     "output_type": "stream",
     "text": [
      "3 7\n"
     ]
    }
   ],
   "source": [
    "a = 3\n",
    "b = 7\n",
    "print(a,b)"
   ]
  },
  {
   "cell_type": "code",
   "execution_count": 183,
   "id": "c4ab0e7a",
   "metadata": {},
   "outputs": [
    {
     "name": "stdout",
     "output_type": "stream",
     "text": [
      "7 3\n"
     ]
    }
   ],
   "source": [
    "a,b = b,a\n",
    "print(a,b)"
   ]
  },
  {
   "cell_type": "code",
   "execution_count": 184,
   "id": "ed3a3ff2",
   "metadata": {},
   "outputs": [
    {
     "name": "stdout",
     "output_type": "stream",
     "text": [
      "3 7\n"
     ]
    }
   ],
   "source": [
    "a = a+b\n",
    "b = a-b\n",
    "a = a-b\n",
    "print(a,b)"
   ]
  },
  {
   "cell_type": "code",
   "execution_count": 185,
   "id": "0b3f2642",
   "metadata": {},
   "outputs": [
    {
     "name": "stdout",
     "output_type": "stream",
     "text": [
      "7.0 3.0\n"
     ]
    }
   ],
   "source": [
    "a = a*b\n",
    "b = a/b\n",
    "a = a/b\n",
    "print(a,b)"
   ]
  },
  {
   "cell_type": "code",
   "execution_count": 189,
   "id": "fea3d245",
   "metadata": {},
   "outputs": [
    {
     "name": "stdout",
     "output_type": "stream",
     "text": [
      "3.0 7.0\n"
     ]
    }
   ],
   "source": [
    "swap = lambda a,b : [b,a]\n",
    "b,a = swap(a,b)\n",
    "print(a,b)"
   ]
  },
  {
   "cell_type": "code",
   "execution_count": 190,
   "id": "821554cf",
   "metadata": {},
   "outputs": [
    {
     "name": "stdout",
     "output_type": "stream",
     "text": [
      "7.0 3.0\n"
     ]
    }
   ],
   "source": [
    "temp = a\n",
    "a = b\n",
    "b = temp\n",
    "print(a,b)"
   ]
  },
  {
   "cell_type": "code",
   "execution_count": null,
   "id": "fd00f63c",
   "metadata": {},
   "outputs": [],
   "source": []
  }
 ],
 "metadata": {
  "kernelspec": {
   "display_name": "Python 3 (ipykernel)",
   "language": "python",
   "name": "python3"
  },
  "language_info": {
   "codemirror_mode": {
    "name": "ipython",
    "version": 3
   },
   "file_extension": ".py",
   "mimetype": "text/x-python",
   "name": "python",
   "nbconvert_exporter": "python",
   "pygments_lexer": "ipython3",
   "version": "3.10.12"
  }
 },
 "nbformat": 4,
 "nbformat_minor": 5
}
