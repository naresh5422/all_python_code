{
 "cells": [
  {
   "cell_type": "markdown",
   "id": "2ee80e7b",
   "metadata": {},
   "source": [
    "# Decorators\n",
    "\n",
    "### What are the Decorators?\n",
    "\n",
    "1. it is a powerful feature in python that allows you to modify behavior a function without changing its source code.\n",
    "2. They are essentially functions that takes another function as an arguments and return a new function that wraps the original funation.\n",
    "3. This way, we add some extra functionality to the original without modifying it"
   ]
  },
  {
   "cell_type": "markdown",
   "id": "29ff16aa",
   "metadata": {},
   "source": [
    "#### Function copy"
   ]
  },
  {
   "cell_type": "code",
   "execution_count": 139,
   "id": "33ce109f",
   "metadata": {},
   "outputs": [],
   "source": [
    "def wel():\n",
    "    return \"Welcome to DS world\""
   ]
  },
  {
   "cell_type": "code",
   "execution_count": 119,
   "id": "8611b499",
   "metadata": {},
   "outputs": [
    {
     "name": "stdout",
     "output_type": "stream",
     "text": [
      "Welcome to DS world\n"
     ]
    }
   ],
   "source": [
    "a = wel()\n",
    "print(a)"
   ]
  },
  {
   "cell_type": "code",
   "execution_count": 120,
   "id": "29be910a",
   "metadata": {},
   "outputs": [
    {
     "data": {
      "text/plain": [
       "'Welcome to DS world'"
      ]
     },
     "execution_count": 120,
     "metadata": {},
     "output_type": "execute_result"
    }
   ],
   "source": [
    "wel()"
   ]
  },
  {
   "cell_type": "code",
   "execution_count": 121,
   "id": "e413b346",
   "metadata": {},
   "outputs": [],
   "source": [
    "del wel"
   ]
  },
  {
   "cell_type": "markdown",
   "id": "d8b6e6c9",
   "metadata": {},
   "source": [
    "When delete the given function after stored it into another variable a.\n",
    "it will deleted initial function, not stored variable is printed same returns"
   ]
  },
  {
   "cell_type": "code",
   "execution_count": 124,
   "id": "e79f6284",
   "metadata": {},
   "outputs": [
    {
     "name": "stdout",
     "output_type": "stream",
     "text": [
      "Welcome to DS world\n"
     ]
    }
   ],
   "source": [
    "print(a)"
   ]
  },
  {
   "cell_type": "code",
   "execution_count": 125,
   "id": "28747349",
   "metadata": {},
   "outputs": [
    {
     "ename": "NameError",
     "evalue": "name 'wel' is not defined",
     "output_type": "error",
     "traceback": [
      "\u001b[0;31m---------------------------------------------------------------------------\u001b[0m",
      "\u001b[0;31mNameError\u001b[0m                                 Traceback (most recent call last)",
      "Cell \u001b[0;32mIn[125], line 1\u001b[0m\n\u001b[0;32m----> 1\u001b[0m \u001b[43mwel\u001b[49m()\n",
      "\u001b[0;31mNameError\u001b[0m: name 'wel' is not defined"
     ]
    }
   ],
   "source": [
    "wel()"
   ]
  },
  {
   "cell_type": "markdown",
   "id": "02a5d6a9",
   "metadata": {},
   "source": [
    "#### Closure"
   ]
  },
  {
   "cell_type": "code",
   "execution_count": 134,
   "id": "da2adc45",
   "metadata": {},
   "outputs": [],
   "source": [
    "def main_func(msg):\n",
    "    def sub_func():\n",
    "        print(\"Hi, \")\n",
    "        print(msg)\n",
    "        print(\"Welcome to DS and DA\")\n",
    "    return sub_func()"
   ]
  },
  {
   "cell_type": "code",
   "execution_count": 135,
   "id": "a99332f8",
   "metadata": {},
   "outputs": [
    {
     "name": "stdout",
     "output_type": "stream",
     "text": [
      "Hi, \n",
      "Naresh\n",
      "Welcome to DS and DA\n"
     ]
    }
   ],
   "source": [
    "main_func(\"Naresh\")"
   ]
  },
  {
   "cell_type": "markdown",
   "id": "1ad5c7dc",
   "metadata": {},
   "source": [
    "#### Closures and Initial Decorator\n",
    "\n",
    "Instead of calling parameters like msg in previous function and we call function inside the function"
   ]
  },
  {
   "cell_type": "code",
   "execution_count": 152,
   "id": "ebd7e483",
   "metadata": {},
   "outputs": [],
   "source": [
    "def main_wel(fun):\n",
    "    def sub_wel():\n",
    "        print(\"Hi,\")\n",
    "        print(fun)\n",
    "        print(\"and ML and DA\")\n",
    "    return sub_wel()"
   ]
  },
  {
   "cell_type": "code",
   "execution_count": 147,
   "id": "3e20fdbd",
   "metadata": {},
   "outputs": [
    {
     "name": "stdout",
     "output_type": "stream",
     "text": [
      "Hi,\n",
      "Welcome to DS world\n",
      "and ML and DA\n"
     ]
    }
   ],
   "source": [
    "main_wel(wel())"
   ]
  },
  {
   "cell_type": "markdown",
   "id": "c4b7ec31",
   "metadata": {},
   "source": [
    "Suppose, we want measure the excutoin time of function with \"time\" module, it calculate the time and calls original function "
   ]
  },
  {
   "cell_type": "code",
   "execution_count": 149,
   "id": "2e162786",
   "metadata": {},
   "outputs": [],
   "source": [
    "import time\n",
    "\n",
    "def measure_time(func):\n",
    "    def wrapper():\n",
    "        start = time.time()\n",
    "        func\n",
    "        end = time.time()\n",
    "        print(f\"Execution time: {end - start} seconds\")\n",
    "    return wrapper"
   ]
  },
  {
   "cell_type": "code",
   "execution_count": 150,
   "id": "ef146a4c",
   "metadata": {},
   "outputs": [
    {
     "name": "stdout",
     "output_type": "stream",
     "text": [
      "Hello, welcome\n",
      "<function measure_time.<locals>.wrapper at 0x7fdf2021c310>\n"
     ]
    }
   ],
   "source": [
    "print(measure_time(hello()))"
   ]
  },
  {
   "cell_type": "code",
   "execution_count": 151,
   "id": "43bf40d4",
   "metadata": {},
   "outputs": [
    {
     "name": "stdout",
     "output_type": "stream",
     "text": [
      "8.249282836914062e-05\n"
     ]
    }
   ],
   "source": [
    "import time\n",
    "\n",
    "start = time.time()\n",
    "end = time.time()\n",
    "\n",
    "print(end-start)"
   ]
  },
  {
   "cell_type": "code",
   "execution_count": 97,
   "id": "93596b74",
   "metadata": {},
   "outputs": [
    {
     "name": "stdout",
     "output_type": "stream",
     "text": [
      "Hello, welcome\n"
     ]
    }
   ],
   "source": [
    "hello()"
   ]
  },
  {
   "cell_type": "code",
   "execution_count": 106,
   "id": "a9d46673",
   "metadata": {},
   "outputs": [],
   "source": [
    "def dec(fun):\n",
    "    name = \"Naresh\"\n",
    "    print(name)\n",
    "    return fun"
   ]
  },
  {
   "cell_type": "code",
   "execution_count": 107,
   "id": "0f249ac2",
   "metadata": {},
   "outputs": [
    {
     "name": "stdout",
     "output_type": "stream",
     "text": [
      "Hello, welcome\n",
      "Naresh\n"
     ]
    }
   ],
   "source": [
    "dec(hello())"
   ]
  },
  {
   "cell_type": "markdown",
   "id": "0acab7dc",
   "metadata": {},
   "source": [
    "#### main decorators"
   ]
  },
  {
   "cell_type": "code",
   "execution_count": 229,
   "id": "31c8f1ce",
   "metadata": {},
   "outputs": [],
   "source": [
    "def sample(func):\n",
    "    print(\"Hello\")\n",
    "    return func"
   ]
  },
  {
   "cell_type": "code",
   "execution_count": 230,
   "id": "ae647401",
   "metadata": {},
   "outputs": [
    {
     "name": "stdout",
     "output_type": "stream",
     "text": [
      "Hello\n"
     ]
    },
    {
     "data": {
      "text/plain": [
       "<function print>"
      ]
     },
     "execution_count": 230,
     "metadata": {},
     "output_type": "execute_result"
    }
   ],
   "source": [
    "sample(print)"
   ]
  },
  {
   "cell_type": "code",
   "execution_count": 262,
   "id": "e94bee01",
   "metadata": {},
   "outputs": [],
   "source": [
    "def fact(n):\n",
    "#     if n == 0 | n == 1:\n",
    "    if n == 0 or n == 1:\n",
    "        return 1\n",
    "    else:\n",
    "        return n*fact(n-1)"
   ]
  },
  {
   "cell_type": "code",
   "execution_count": 263,
   "id": "2391eea5",
   "metadata": {},
   "outputs": [
    {
     "data": {
      "text/plain": [
       "120"
      ]
     },
     "execution_count": 263,
     "metadata": {},
     "output_type": "execute_result"
    }
   ],
   "source": [
    "fibbonocci(5)"
   ]
  },
  {
   "cell_type": "code",
   "execution_count": 264,
   "id": "617e2ed6",
   "metadata": {},
   "outputs": [],
   "source": [
    "from functools import wraps"
   ]
  },
  {
   "cell_type": "code",
   "execution_count": 265,
   "id": "17216507",
   "metadata": {},
   "outputs": [],
   "source": [
    "def memoize(func):\n",
    "    cache = {}\n",
    "    print(\"Hi\")\n",
    "    @wraps(func)\n",
    "    def wrapper(*args):\n",
    "        if args in cache:\n",
    "            return cache[args]\n",
    "        else:\n",
    "            res = func(*args)\n",
    "            cache[args] = res\n",
    "            return res\n",
    "    return wrapper"
   ]
  },
  {
   "cell_type": "code",
   "execution_count": 266,
   "id": "03a2058c",
   "metadata": {},
   "outputs": [
    {
     "name": "stdout",
     "output_type": "stream",
     "text": [
      "Hi\n"
     ]
    }
   ],
   "source": [
    "@memoize\n",
    "def fact(n):\n",
    "#     if n == 0 | n == 1:\n",
    "    if n == 0 or n == 1:\n",
    "        return 1\n",
    "    else:\n",
    "        return n*fact(n-1)"
   ]
  },
  {
   "cell_type": "code",
   "execution_count": 260,
   "id": "3dd6124f",
   "metadata": {},
   "outputs": [],
   "source": [
    "# def make_pretty(func):\n",
    "#     # define the inner function \n",
    "#     def inner():\n",
    "#         # add some additional behavior to decorated function\n",
    "#         print(\"I got decorated\")\n",
    "\n",
    "#         # call original function\n",
    "#         func()\n",
    "#     # return the inner function\n",
    "#     return inner()"
   ]
  },
  {
   "cell_type": "code",
   "execution_count": 261,
   "id": "df3122b0",
   "metadata": {},
   "outputs": [
    {
     "data": {
      "text/plain": [
       "120"
      ]
     },
     "execution_count": 261,
     "metadata": {},
     "output_type": "execute_result"
    }
   ],
   "source": [
    "fibbonocci1(5)"
   ]
  },
  {
   "cell_type": "code",
   "execution_count": null,
   "id": "b47cd458",
   "metadata": {},
   "outputs": [],
   "source": []
  }
 ],
 "metadata": {
  "kernelspec": {
   "display_name": "Python 3 (ipykernel)",
   "language": "python",
   "name": "python3"
  },
  "language_info": {
   "codemirror_mode": {
    "name": "ipython",
    "version": 3
   },
   "file_extension": ".py",
   "mimetype": "text/x-python",
   "name": "python",
   "nbconvert_exporter": "python",
   "pygments_lexer": "ipython3",
   "version": "3.10.12"
  }
 },
 "nbformat": 4,
 "nbformat_minor": 5
}
