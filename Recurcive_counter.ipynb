{
  "nbformat": 4,
  "nbformat_minor": 0,
  "metadata": {
    "colab": {
      "provenance": []
    },
    "kernelspec": {
      "name": "python3",
      "display_name": "Python 3"
    },
    "language_info": {
      "name": "python"
    }
  },
  "cells": [
    {
      "cell_type": "code",
      "execution_count": null,
      "metadata": {
        "id": "1BJYb0B5WFR8"
      },
      "outputs": [],
      "source": [
        "import numpy as np"
      ]
    },
    {
      "cell_type": "code",
      "source": [
        "x = np.arange(1,51)\n",
        "y = 2*x + 2"
      ],
      "metadata": {
        "id": "f_593vBPWHb8"
      },
      "execution_count": null,
      "outputs": []
    },
    {
      "cell_type": "code",
      "source": [
        "print(x)"
      ],
      "metadata": {
        "colab": {
          "base_uri": "https://localhost:8080/"
        },
        "id": "HzdeLR3OWRTh",
        "outputId": "fee9ff91-5164-4b4e-f34f-bac8c5897b11"
      },
      "execution_count": null,
      "outputs": [
        {
          "output_type": "stream",
          "name": "stdout",
          "text": [
            "[ 1  2  3  4  5  6  7  8  9 10 11 12 13 14 15 16 17 18 19 20 21 22 23 24\n",
            " 25 26 27 28 29 30 31 32 33 34 35 36 37 38 39 40 41 42 43 44 45 46 47 48\n",
            " 49 50]\n"
          ]
        }
      ]
    },
    {
      "cell_type": "code",
      "source": [
        "print(y)"
      ],
      "metadata": {
        "colab": {
          "base_uri": "https://localhost:8080/"
        },
        "id": "QNW7tBdGWURI",
        "outputId": "bf1761c5-2823-497e-8d13-dc2211ce692b"
      },
      "execution_count": null,
      "outputs": [
        {
          "output_type": "stream",
          "name": "stdout",
          "text": [
            "[  4   6   8  10  12  14  16  18  20  22  24  26  28  30  32  34  36  38\n",
            "  40  42  44  46  48  50  52  54  56  58  60  62  64  66  68  70  72  74\n",
            "  76  78  80  82  84  86  88  90  92  94  96  98 100 102]\n"
          ]
        }
      ]
    },
    {
      "cell_type": "code",
      "source": [
        "# Create the function for weights and Bias\n",
        "def func(w,b):\n",
        "  y_pred = (w*x + b)\n",
        "  return np.sum((y-y_pred)**2)/len(x)"
      ],
      "metadata": {
        "id": "WorOCLmsWg6Y"
      },
      "execution_count": null,
      "outputs": []
    },
    {
      "cell_type": "code",
      "source": [
        "# Create the Gradients function\n",
        "def gradients(w,b):\n",
        "  pred = (w*x+b)\n",
        "  weights = -2*(x.T).dot(y - pred)/len(x)\n",
        "  bias = -2*np.sum(y-pred)/len(x)\n",
        "  li = [weights, bias]\n",
        "  return li"
      ],
      "metadata": {
        "id": "cHGR-o9VW5a4"
      },
      "execution_count": null,
      "outputs": []
    },
    {
      "cell_type": "code",
      "source": [
        "func(0.1,0.5)"
      ],
      "metadata": {
        "colab": {
          "base_uri": "https://localhost:8080/"
        },
        "id": "MEt8UiADXs1p",
        "outputId": "7275f850-1e5c-4b33-d48e-d1a91dde08aa"
      },
      "execution_count": null,
      "outputs": [
        {
          "output_type": "execute_result",
          "data": {
            "text/plain": [
              "3246.785"
            ]
          },
          "metadata": {},
          "execution_count": 10
        }
      ]
    },
    {
      "cell_type": "code",
      "source": [
        "gradients(0.1,0.5)"
      ],
      "metadata": {
        "colab": {
          "base_uri": "https://localhost:8080/"
        },
        "id": "OqautE7NaQOk",
        "outputId": "7c3b1ece-43bb-4636-b342-5d2d639d5199"
      },
      "execution_count": null,
      "outputs": [
        {
          "output_type": "execute_result",
          "data": {
            "text/plain": [
              "[-3338.8, -99.9]"
            ]
          },
          "metadata": {},
          "execution_count": 11
        }
      ]
    },
    {
      "cell_type": "markdown",
      "source": [
        "### Recurcive counter function creation"
      ],
      "metadata": {
        "id": "-BxCkrhSAU_Z"
      }
    },
    {
      "cell_type": "code",
      "source": [
        "def counter(start = 0):\n",
        "  count = start\n",
        "  def increament():\n",
        "    nonlocal count\n",
        "    count += 1\n",
        "    if count <= 20:\n",
        "      return count\n",
        "  return increament"
      ],
      "metadata": {
        "id": "kgL31JjsaeQa"
      },
      "execution_count": null,
      "outputs": []
    },
    {
      "cell_type": "code",
      "source": [
        "c3 = counter(5)\n",
        "c4 = counter()"
      ],
      "metadata": {
        "id": "9P-HnWRRApjh"
      },
      "execution_count": null,
      "outputs": []
    },
    {
      "cell_type": "code",
      "source": [
        "c3()"
      ],
      "metadata": {
        "colab": {
          "base_uri": "https://localhost:8080/"
        },
        "id": "vsQ42l2RAuIv",
        "outputId": "90c68dc2-4710-4392-eef4-0ab388ee6deb"
      },
      "execution_count": null,
      "outputs": [
        {
          "output_type": "execute_result",
          "data": {
            "text/plain": [
              "6"
            ]
          },
          "metadata": {},
          "execution_count": 43
        }
      ]
    },
    {
      "cell_type": "code",
      "source": [
        "c4()"
      ],
      "metadata": {
        "id": "zs5Xs2DQAwUN"
      },
      "execution_count": null,
      "outputs": []
    },
    {
      "cell_type": "code",
      "source": [
        "r = c3()+c4()\n",
        "\n",
        "print(r)"
      ],
      "metadata": {
        "id": "BesytTlRAwvV"
      },
      "execution_count": null,
      "outputs": []
    },
    {
      "cell_type": "code",
      "source": [],
      "metadata": {
        "id": "eDtjFNkuBLJw"
      },
      "execution_count": null,
      "outputs": []
    }
  ]
}