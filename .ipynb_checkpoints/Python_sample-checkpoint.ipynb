{
 "cells": [
  {
   "cell_type": "markdown",
   "metadata": {
    "id": "yaK0GkP8Oeo7"
   },
   "source": [
    "### Reverse the given string vowels"
   ]
  },
  {
   "cell_type": "code",
   "execution_count": 1,
   "metadata": {
    "id": "cD-8Xs4dCsFU"
   },
   "outputs": [],
   "source": [
    "def reverse_str_vowels(input_str):\n",
    "    input_str_list = list(input_str)\n",
    "    vowel = 'aeiouAEIOU'\n",
    "\n",
    "    vowel_index = [i for i,c in enumerate(input_str_list) if c in vowel]\n",
    "    vowel_reverse = [input_str_list[i] for i in vowel_index[::-1]]\n",
    "\n",
    "    for i, c in zip(vowel_index, vowel_reverse):\n",
    "        input_str_list[i] = c\n",
    "\n",
    "    return ''.join(input_str_list)\n",
    "\n",
    "\n"
   ]
  },
  {
   "cell_type": "code",
   "execution_count": 2,
   "metadata": {
    "colab": {
     "base_uri": "https://localhost:8080/"
    },
    "id": "ycWa3I63EM6p",
    "outputId": "6df03c61-d04d-435d-fc9c-c3a51199008a"
   },
   "outputs": [
    {
     "name": "stdout",
     "output_type": "stream",
     "text": [
      "Nerash\n"
     ]
    }
   ],
   "source": [
    "rev_str = reverse_str_vowels(\"Naresh\")\n",
    "print(rev_str)"
   ]
  },
  {
   "cell_type": "code",
   "execution_count": 3,
   "metadata": {
    "colab": {
     "base_uri": "https://localhost:8080/",
     "height": 36
    },
    "id": "ySYu3jcgEX8_",
    "outputId": "6eb5858d-5b10-4d22-8f63-06acd740584b"
   },
   "outputs": [
    {
     "data": {
      "text/plain": [
       "'Naresh'"
      ]
     },
     "execution_count": 3,
     "metadata": {},
     "output_type": "execute_result"
    }
   ],
   "source": [
    "reverse_str_vowels(rev_str)"
   ]
  },
  {
   "cell_type": "code",
   "execution_count": null,
   "metadata": {
    "id": "eMoszMiIMQ-F"
   },
   "outputs": [],
   "source": []
  },
  {
   "cell_type": "markdown",
   "metadata": {
    "id": "Ph_PNX1_MR6G"
   },
   "source": [
    "### Reverse the given list of number without built-in functions"
   ]
  },
  {
   "cell_type": "code",
   "execution_count": null,
   "metadata": {
    "colab": {
     "base_uri": "https://localhost:8080/"
    },
    "id": "g4s9axG6Gu2B",
    "outputId": "855fcd3b-c6b1-4879-9354-8ef9d32ac5c3"
   },
   "outputs": [
    {
     "name": "stdout",
     "output_type": "stream",
     "text": [
      "[1, 1, 1, 2, 2, 2, 2, 3, 4, 6, 7, 7, 8]\n"
     ]
    }
   ],
   "source": [
    "num = [4,2,1,2,6,2,1,7,1,2,3,7,8]\n",
    "\n",
    "for i in range(len(num)):\n",
    "  for j in range(0, len(num)-i-1):\n",
    "    if num[j] > num[j+1]:\n",
    "      num[j], num[j+1] = num[j+1], num[j]\n",
    "print(num)\n"
   ]
  },
  {
   "cell_type": "code",
   "execution_count": null,
   "metadata": {
    "id": "pHbOEXc4H0sx"
   },
   "outputs": [],
   "source": [
    "def reverse_asc_number_list(l_num):\n",
    "  for i in range(len(l_num)):\n",
    "    for j in range(0, len(l_num) - i - 1):\n",
    "      if l_num[j]>l_num[j+1]:\n",
    "        l_num[j], l_num[j+1] = l_num[j+1], l_num[j]\n",
    "  return l_num"
   ]
  },
  {
   "cell_type": "code",
   "execution_count": null,
   "metadata": {
    "colab": {
     "base_uri": "https://localhost:8080/"
    },
    "id": "xwk1TsJGNUoi",
    "outputId": "ba32fb9b-6d47-4a2a-f9c2-b2d9c16b4466"
   },
   "outputs": [
    {
     "data": {
      "text/plain": [
       "[1, 2, 2, 3, 3, 4, 5, 5, 7, 8]"
      ]
     },
     "execution_count": 133,
     "metadata": {},
     "output_type": "execute_result"
    }
   ],
   "source": [
    "reverse_asc_number_list([2,4,3,1,5,7,8,3,5,2])"
   ]
  },
  {
   "cell_type": "code",
   "execution_count": null,
   "metadata": {
    "id": "QusJ0j4cNbp2"
   },
   "outputs": [],
   "source": [
    "def reverse_desc_number_list(l_num):\n",
    "  for i in range(len(l_num)):\n",
    "    for j in range(0, len(l_num)-i-1):\n",
    "      if l_num[j]<l_num[j+1]:\n",
    "        l_num[j], l_num[j+1] = l_num[j+1], l_num[j]\n",
    "  return l_num"
   ]
  },
  {
   "cell_type": "code",
   "execution_count": null,
   "metadata": {
    "colab": {
     "base_uri": "https://localhost:8080/"
    },
    "id": "YPelF4blOGij",
    "outputId": "bb06ea8e-47b5-4bc6-e548-45156f50faa9"
   },
   "outputs": [
    {
     "data": {
      "text/plain": [
       "[9, 8, 6, 5, 5, 4, 3, 3, 2, 1, 0]"
      ]
     },
     "execution_count": 135,
     "metadata": {},
     "output_type": "execute_result"
    }
   ],
   "source": [
    "reverse_desc_number_list([5,4,3,6,2,1,3,5,8,9,0])"
   ]
  },
  {
   "cell_type": "markdown",
   "metadata": {
    "id": "SWzCZP83RQi4"
   },
   "source": [
    "#### Create Class object"
   ]
  },
  {
   "cell_type": "code",
   "execution_count": null,
   "metadata": {
    "id": "oZuLkBckOLT5"
   },
   "outputs": [],
   "source": [
    "class order_list:\n",
    "  def __int__(self, l_num):\n",
    "    self.l_num = l_num\n",
    "  def reverse_asc_number_list(self, l_num):\n",
    "    for i in range(len(l_num)):\n",
    "      for j in range(0, len(l_num) - i - 1):\n",
    "        if l_num[j]>l_num[j+1]:\n",
    "          l_num[j], l_num[j+1] = l_num[j+1], l_num[j]\n",
    "    return l_num\n",
    "\n",
    "\n",
    "  def reverse_desc_number_list(self, l_num):\n",
    "    for i in range(len(l_num)):\n",
    "      for j in range(0, range(l_num)-i-1):\n",
    "        if l_num[j] < l_num[j+1]:\n",
    "          l_num[j], l_num[j+1] = l_num[j+1], l_num[j]\n",
    "\n",
    "    return l_num\n"
   ]
  },
  {
   "cell_type": "code",
   "execution_count": null,
   "metadata": {
    "colab": {
     "base_uri": "https://localhost:8080/"
    },
    "id": "TlihtBHmQADP",
    "outputId": "d4df2c2e-7354-41a2-83a2-fb687448312e"
   },
   "outputs": [
    {
     "name": "stdout",
     "output_type": "stream",
     "text": [
      "<bound method order_list.reverse_asc_number_list of <__main__.order_list object at 0x7a764fa6b580>>\n"
     ]
    }
   ],
   "source": [
    "obj = order_list()\n",
    "print(obj.reverse_asc_number_list)"
   ]
  },
  {
   "cell_type": "code",
   "execution_count": null,
   "metadata": {
    "colab": {
     "base_uri": "https://localhost:8080/"
    },
    "id": "08Mx0QDDQI3S",
    "outputId": "5e8d4ddd-00b2-4a2c-e787-a52c15aa2100"
   },
   "outputs": [
    {
     "name": "stdout",
     "output_type": "stream",
     "text": [
      "[0, 1, 1, 2, 4, 4, 4, 6, 7, 8, 8, 8, 9]\n"
     ]
    }
   ],
   "source": [
    "ranl = obj.reverse_asc_number_list([6,4,7,2,8,1,8,9,4,0,4,1,8])\n",
    "print(ranl)"
   ]
  },
  {
   "cell_type": "code",
   "execution_count": null,
   "metadata": {
    "id": "4U8TSFTCQwsz"
   },
   "outputs": [],
   "source": []
  },
  {
   "cell_type": "markdown",
   "metadata": {
    "id": "ia7oQV41Rbwa"
   },
   "source": [
    "### Sort it up for HackerEarth"
   ]
  },
  {
   "cell_type": "code",
   "execution_count": 1,
   "metadata": {
    "id": "a8CYdHZ1RdkO"
   },
   "outputs": [],
   "source": [
    "def sort_it_up(n, arr):\n",
    "    l_b = 0\n",
    "    r_b = n-1\n",
    "    i = 0\n",
    "\n",
    "    while i <= r_b:\n",
    "        if arr[i] == 2:\n",
    "            arr[i] = arr[r_b]\n",
    "            arr[r_b] = 2\n",
    "            r_b -= 1\n",
    "        elif arr[i] == 1:\n",
    "            i += 1\n",
    "        else:\n",
    "            arr[i] = arr[l_b]\n",
    "            arr[l_b] = 0\n",
    "            l_b += 1\n",
    "            i += 1\n",
    "\n",
    "    return arr\n"
   ]
  },
  {
   "cell_type": "code",
   "execution_count": 2,
   "metadata": {
    "colab": {
     "base_uri": "https://localhost:8080/"
    },
    "id": "JwuNUWsOUXO5",
    "outputId": "2d78e8a5-2fbf-4cbc-d49d-8c1ffc2d636e"
   },
   "outputs": [
    {
     "data": {
      "text/plain": [
       "[0, 0, 1, 1, 2, 0, 2]"
      ]
     },
     "execution_count": 2,
     "metadata": {},
     "output_type": "execute_result"
    }
   ],
   "source": [
    "sort_it_up(5, [3,2,1,0,1,0,2])"
   ]
  },
  {
   "cell_type": "code",
   "execution_count": null,
   "metadata": {
    "id": "swlHk8uuUeYK"
   },
   "outputs": [],
   "source": []
  },
  {
   "cell_type": "markdown",
   "metadata": {
    "id": "HI0_2dyjhJTr"
   },
   "source": [
    "### Q"
   ]
  },
  {
   "cell_type": "code",
   "execution_count": null,
   "metadata": {
    "colab": {
     "background_save": true,
     "base_uri": "https://localhost:8080/"
    },
    "id": "nqAgjFtKhLtU",
    "outputId": "b8292605-44a2-4818-f43d-18398d2b0817"
   },
   "outputs": [
    {
     "name": "stdout",
     "output_type": "stream",
     "text": [
      "6\n",
      "3\n"
     ]
    }
   ],
   "source": [
    "def count_valid_numbers(N):\n",
    "    def is_valid_rotation(n):\n",
    "        rotation_map = {'0': '0', '1': '1', '6': '9', '8': '8', '9': '6'}\n",
    "        rotated = []\n",
    "        original_str = str(n)\n",
    "        for digit in original_str:\n",
    "            if digit not in rotation_map:\n",
    "                return False\n",
    "            rotated.append(rotation_map[digit])\n",
    "        rotated_str = ''.join(rotated)[::-1]\n",
    "        return rotated_str != original_str\n",
    "\n",
    "    count = 0\n",
    "    for i in range(1, N + 1):\n",
    "        if is_valid_rotation(i):\n",
    "            count += 1\n",
    "    return count\n",
    "\n",
    "# Test cases\n",
    "print(count_valid_numbers(20))        # Output: 6\n",
    "print(count_valid_numbers(15))        # Output: 3\n",
    "print(count_valid_numbers(999999999)) # Output: 1950626\n"
   ]
  },
  {
   "cell_type": "markdown",
   "metadata": {
    "id": "y3jQzF5ThfUB"
   },
   "source": [
    "Write a program to remove the suffixes \"ing\",\"ly\",\"al\" from a given sentence.\n",
    "If after removing the suffix the length of the word is more than 8 characters \n",
    "then take the first 8 characters.\n",
    "There should not be any word in the sentence which should have greater than \n",
    "8 characters\n"
   ]
  },
  {
   "cell_type": "markdown",
   "metadata": {},
   "source": [
    "###### Sample Input\n",
    "\"People were going unhesitatingly to see the coastal island which was full of cockroaches\"\n",
    "\n",
    "###### Sample Output\n",
    "\"People were go unhesita to see the coast island which was full of cockroac\""
   ]
  },
  {
   "cell_type": "code",
   "execution_count": null,
   "metadata": {},
   "outputs": [],
   "source": [
    "ip = \"People were going unhesitatingly to see the coastal island which was full of cockroaches\""
   ]
  },
  {
   "cell_type": "code",
   "execution_count": null,
   "metadata": {},
   "outputs": [],
   "source": [
    "for w in ip.split(\" \"):\n",
    "    if not w.endswith((\"ing\",\"ly\",\"al\")):\n",
    "        if len(w) <= 8:\n",
    "            print(w)"
   ]
  },
  {
   "cell_type": "code",
   "execution_count": null,
   "metadata": {},
   "outputs": [],
   "source": [
    "def process_word(word):\n",
    "    suffixes = [\"ing\", \"ly\", \"al\"]\n",
    "    \n",
    "    for suffix in suffixes:\n",
    "        if word.endswith(suffix):\n",
    "            word = word[: -len(suffix)]\n",
    "    \n",
    "    return word[:8]"
   ]
  },
  {
   "cell_type": "code",
   "execution_count": null,
   "metadata": {},
   "outputs": [],
   "source": [
    "\n",
    "def process_sentence(sentence):\n",
    "    words = sentence.split()\n",
    "    \n",
    "    processed_words = [process_word(word) for word in words]\n",
    "    \n",
    "    processed_sentence = ' '.join(processed_words)\n",
    "    \n",
    "    return processed_sentence"
   ]
  },
  {
   "cell_type": "code",
   "execution_count": null,
   "metadata": {},
   "outputs": [],
   "source": [
    "\n",
    "# Sample Input\n",
    "input_sentence = \"People were going unhesitatingly to see the coastal island which was full of cockroaches\""
   ]
  },
  {
   "cell_type": "code",
   "execution_count": null,
   "metadata": {},
   "outputs": [],
   "source": [
    "# Process the sentence\n",
    "output_sentence = process_sentence(input_sentence)"
   ]
  },
  {
   "cell_type": "code",
   "execution_count": null,
   "metadata": {},
   "outputs": [],
   "source": [
    "# Display the result\n",
    "print(\"Sample Input:\", input_sentence)"
   ]
  },
  {
   "cell_type": "code",
   "execution_count": 23,
   "metadata": {},
   "outputs": [
    {
     "name": "stdout",
     "output_type": "stream",
     "text": [
      "Sample Output: ['People', 'were', 'go', 'unhesita', 'to', 'see', 'the', 'coast', 'island', 'which', 'was', 'full', 'of', 'cockroac']\n"
     ]
    }
   ],
   "source": [
    "print(\"Sample Output:\", output_sentence.split(\" \"))"
   ]
  },
  {
   "cell_type": "code",
   "execution_count": 24,
   "metadata": {},
   "outputs": [
    {
     "data": {
      "text/plain": [
       "['People',\n",
       " 'were',\n",
       " 'go',\n",
       " 'unhesita',\n",
       " 'to',\n",
       " 'see',\n",
       " 'the',\n",
       " 'coast',\n",
       " 'island',\n",
       " 'which',\n",
       " 'was',\n",
       " 'full',\n",
       " 'of',\n",
       " 'cockroac']"
      ]
     },
     "execution_count": 24,
     "metadata": {},
     "output_type": "execute_result"
    }
   ],
   "source": [
    "output_sentence.split(\" \")"
   ]
  },
  {
   "cell_type": "code",
   "execution_count": 2,
   "metadata": {},
   "outputs": [
    {
     "name": "stdout",
     "output_type": "stream",
     "text": [
      "Defaulting to user installation because normal site-packages is not writeable\n",
      "Requirement already satisfied: fastapi in /home/cdot/.local/lib/python3.10/site-packages (0.100.0)\n",
      "Requirement already satisfied: pydantic!=1.8,!=1.8.1,!=2.0.0,!=2.0.1,<3.0.0,>=1.7.4 in /home/cdot/.local/lib/python3.10/site-packages (from fastapi) (2.5.3)\n",
      "Requirement already satisfied: starlette<0.28.0,>=0.27.0 in /home/cdot/.local/lib/python3.10/site-packages (from fastapi) (0.27.0)\n",
      "Requirement already satisfied: typing-extensions>=4.5.0 in /home/cdot/.local/lib/python3.10/site-packages (from fastapi) (4.9.0)\n",
      "Requirement already satisfied: annotated-types>=0.4.0 in /home/cdot/.local/lib/python3.10/site-packages (from pydantic!=1.8,!=1.8.1,!=2.0.0,!=2.0.1,<3.0.0,>=1.7.4->fastapi) (0.5.0)\n",
      "Requirement already satisfied: pydantic-core==2.14.6 in /home/cdot/.local/lib/python3.10/site-packages (from pydantic!=1.8,!=1.8.1,!=2.0.0,!=2.0.1,<3.0.0,>=1.7.4->fastapi) (2.14.6)\n",
      "Requirement already satisfied: anyio<5,>=3.4.0 in /home/cdot/.local/lib/python3.10/site-packages (from starlette<0.28.0,>=0.27.0->fastapi) (3.7.1)\n",
      "Requirement already satisfied: idna>=2.8 in /usr/lib/python3/dist-packages (from anyio<5,>=3.4.0->starlette<0.28.0,>=0.27.0->fastapi) (3.3)\n",
      "Requirement already satisfied: sniffio>=1.1 in /home/cdot/.local/lib/python3.10/site-packages (from anyio<5,>=3.4.0->starlette<0.28.0,>=0.27.0->fastapi) (1.3.0)\n",
      "Requirement already satisfied: exceptiongroup in /home/cdot/.local/lib/python3.10/site-packages (from anyio<5,>=3.4.0->starlette<0.28.0,>=0.27.0->fastapi) (1.1.2)\n",
      "Note: you may need to restart the kernel to use updated packages.\n"
     ]
    }
   ],
   "source": [
    "pip install fastapi"
   ]
  },
  {
   "cell_type": "code",
   "execution_count": 5,
   "metadata": {},
   "outputs": [],
   "source": [
    "from dataclasses import dataclass\n",
    "from fastapi import FastAPI"
   ]
  },
  {
   "cell_type": "code",
   "execution_count": 6,
   "metadata": {},
   "outputs": [],
   "source": [
    "@dataclass\n",
    "class User:\n",
    "    username: str"
   ]
  },
  {
   "cell_type": "code",
   "execution_count": 7,
   "metadata": {},
   "outputs": [],
   "source": [
    "class StartUserOnboarding:\n",
    "    def __init__(self, user_repo):\n",
    "        self.user_repo = user_repo\n",
    "    def execute(self, username):\n",
    "        user = User(usernmae = username)\n",
    "        self.user_repo.add(user)"
   ]
  },
  {
   "cell_type": "code",
   "execution_count": 8,
   "metadata": {},
   "outputs": [],
   "source": [
    "class InMemoryUserRepo:\n",
    "    def __init__(self):\n",
    "        self._users = []\n",
    "\n",
    "    def add(self, user):\n",
    "        self._users.append(user)\n",
    "\n",
    "    def get_by_username(self, username):\n",
    "        return next( user for user in self._users if user.usernmae == username)"
   ]
  },
  {
   "cell_type": "code",
   "execution_count": 9,
   "metadata": {},
   "outputs": [],
   "source": [
    "class SQLiteUserRepo:\n",
    "    def __init__(self, config):\n",
    "        self._config = config\n",
    "\n",
    "    def add(self, user):\n",
    "        print(\"Running some SQL statemennts for insert DB_PATH\")\n",
    "\n",
    "    def get_by_username(self, username):\n",
    "        print(f'Running some SQL statements for fetch from {self._config.DB_PATH}')\n"
   ]
  },
  {
   "cell_type": "code",
   "execution_count": 10,
   "metadata": {},
   "outputs": [],
   "source": [
    "def test_user_is_added_to_repo():\n",
    "    username = \"t.naresh5422@gmail.com\"\n",
    "    repo = InMemoryUserRepo()\n",
    "    use_case = StartUserOnboarding(user_repo=repo)\n",
    "    use_case.execute(username)\n",
    "    assert repo.get_by_username(username).username"
   ]
  },
  {
   "cell_type": "code",
   "execution_count": 11,
   "metadata": {},
   "outputs": [],
   "source": [
    "class ApplicationConfig:\n",
    "    DB_PATH = 'db'"
   ]
  },
  {
   "cell_type": "code",
   "execution_count": 12,
   "metadata": {},
   "outputs": [],
   "source": [
    "app = FastAPI()"
   ]
  },
  {
   "cell_type": "code",
   "execution_count": 13,
   "metadata": {},
   "outputs": [],
   "source": [
    "@app.post('/user/start_onboarding', status_code=202)\n",
    "def start_user_onboarding(username: str):\n",
    "    StartUserOnboarding(SQLiteUserRepo(ApplicationConfig())).execute(username)\n",
    "    return \"OK\""
   ]
  },
  {
   "cell_type": "code",
   "execution_count": 14,
   "metadata": {},
   "outputs": [],
   "source": [
    "## Normalizing the given list\n",
    "l1 = [1,2,[7,9,[15,[12,9]], 18, 10]]"
   ]
  },
  {
   "cell_type": "code",
   "execution_count": 15,
   "metadata": {},
   "outputs": [
    {
     "data": {
      "text/plain": [
       "[1, 2, [7, 9, [15, [12, 9]], 18, 10]]"
      ]
     },
     "execution_count": 15,
     "metadata": {},
     "output_type": "execute_result"
    }
   ],
   "source": [
    "l1"
   ]
  },
  {
   "cell_type": "code",
   "execution_count": 41,
   "metadata": {},
   "outputs": [
    {
     "data": {
      "text/plain": [
       "[1, 2, 7, 9, 15, 12, 9, 18, 10]"
      ]
     },
     "execution_count": 41,
     "metadata": {},
     "output_type": "execute_result"
    }
   ],
   "source": [
    "def normalize(li):\n",
    "    l2 = []\n",
    "    for i in li:\n",
    "        if type(i) == int:\n",
    "            l2.append(i)\n",
    "        else:\n",
    "            l2.extend(normalize(i))\n",
    "    return l2\n",
    "\n",
    "normalize(l1)"
   ]
  },
  {
   "cell_type": "code",
   "execution_count": 5,
   "metadata": {},
   "outputs": [
    {
     "name": "stdout",
     "output_type": "stream",
     "text": [
      "<class 'list'>\n"
     ]
    }
   ],
   "source": [
    "list = [1,2,2,3,9,9,3,4,4,5,6]\n",
    "li = []\n",
    "for i in set(list):\n",
    "    li.append(i)\n",
    "\n",
    "print(type(li))"
   ]
  },
  {
   "cell_type": "code",
   "execution_count": 7,
   "metadata": {},
   "outputs": [
    {
     "name": "stdout",
     "output_type": "stream",
     "text": [
      "[1, 2, 3, 9, 4, 5, 6]\n"
     ]
    }
   ],
   "source": [
    "li = []\n",
    "for i in list:\n",
    "    if i not in li:\n",
    "        li.append(i)\n",
    "\n",
    "print(li)\n",
    "\n"
   ]
  },
  {
   "cell_type": "code",
   "execution_count": 11,
   "metadata": {},
   "outputs": [
    {
     "name": "stdout",
     "output_type": "stream",
     "text": [
      "[1, 2, 3, 9, 4, 5, 6]\n"
     ]
    }
   ],
   "source": [
    "li = []\n",
    "[li.append(i) for i in list if i not in li]\n",
    "print(li)"
   ]
  },
  {
   "cell_type": "code",
   "execution_count": 15,
   "metadata": {},
   "outputs": [
    {
     "name": "stdout",
     "output_type": "stream",
     "text": [
      "[0, 1, 0, 1, 0, 1, 0, 1, 0, 1, 0, 1, 0, 1, 0, 1, 0, 1, 0, 1]\n"
     ]
    }
   ],
   "source": [
    "# What will be the output for :\n",
    "list_num = [0,1] * 10\n",
    "print(list_num)"
   ]
  },
  {
   "cell_type": "code",
   "execution_count": 16,
   "metadata": {},
   "outputs": [
    {
     "data": {
      "text/plain": [
       "'radmanI'"
      ]
     },
     "execution_count": 16,
     "metadata": {},
     "output_type": "execute_result"
    }
   ],
   "source": [
    "string = \"Inamdar\"\n",
    "string[::-1]"
   ]
  },
  {
   "cell_type": "code",
   "execution_count": 2,
   "metadata": {},
   "outputs": [],
   "source": [
    "## Get the common values from given lista and listb\n",
    "lista = [2,5,7]\n",
    "listb = [6,7,8]"
   ]
  },
  {
   "cell_type": "code",
   "execution_count": 4,
   "metadata": {},
   "outputs": [
    {
     "data": {
      "text/plain": [
       "[7]"
      ]
     },
     "execution_count": 4,
     "metadata": {},
     "output_type": "execute_result"
    }
   ],
   "source": [
    "[i for i in lista if i in listb]"
   ]
  },
  {
   "cell_type": "code",
   "execution_count": 5,
   "metadata": {},
   "outputs": [
    {
     "data": {
      "text/plain": [
       "[2, 5]"
      ]
     },
     "execution_count": 5,
     "metadata": {},
     "output_type": "execute_result"
    }
   ],
   "source": [
    "[i for i in lista if i not in listb]"
   ]
  },
  {
   "cell_type": "code",
   "execution_count": 7,
   "metadata": {},
   "outputs": [],
   "source": [
    "lista.extend(listb)"
   ]
  },
  {
   "cell_type": "code",
   "execution_count": 9,
   "metadata": {},
   "outputs": [
    {
     "data": {
      "text/plain": [
       "[2, 5, 7, 6, 7, 8, 6, 7, 8]"
      ]
     },
     "execution_count": 9,
     "metadata": {},
     "output_type": "execute_result"
    }
   ],
   "source": [
    "lista"
   ]
  },
  {
   "cell_type": "code",
   "execution_count": 12,
   "metadata": {},
   "outputs": [
    {
     "data": {
      "text/plain": [
       "[2, 5, 6, 7, 8]"
      ]
     },
     "execution_count": 12,
     "metadata": {},
     "output_type": "execute_result"
    }
   ],
   "source": [
    "list(set(lista))"
   ]
  },
  {
   "cell_type": "code",
   "execution_count": null,
   "metadata": {},
   "outputs": [],
   "source": [
    "### Merge two DataFrames"
   ]
  },
  {
   "cell_type": "code",
   "execution_count": 18,
   "metadata": {},
   "outputs": [],
   "source": [
    "import pandas as pd\n",
    "import numpy as np"
   ]
  },
  {
   "cell_type": "code",
   "execution_count": 22,
   "metadata": {},
   "outputs": [],
   "source": [
    "employee = {\"empid\": [1,2,4,5,2,3,8,9],\n",
    "            \"deptid\": [2,1,1,4,3,2,1,4],\n",
    "           \"empname\": [\"Naresh\",\"Kumar\",\"Tata\",\"Sulo\",\"Hikshith\",\"Narasimhulu\",\"Venkata\",\"Narendra\"]}\n",
    "dept = {\"deptid\": [1,2,3,4],\n",
    "       \"Salary\": [20000,10000,30000,50000]}"
   ]
  },
  {
   "cell_type": "code",
   "execution_count": 24,
   "metadata": {},
   "outputs": [
    {
     "data": {
      "text/html": [
       "<div>\n",
       "<style scoped>\n",
       "    .dataframe tbody tr th:only-of-type {\n",
       "        vertical-align: middle;\n",
       "    }\n",
       "\n",
       "    .dataframe tbody tr th {\n",
       "        vertical-align: top;\n",
       "    }\n",
       "\n",
       "    .dataframe thead th {\n",
       "        text-align: right;\n",
       "    }\n",
       "</style>\n",
       "<table border=\"1\" class=\"dataframe\">\n",
       "  <thead>\n",
       "    <tr style=\"text-align: right;\">\n",
       "      <th></th>\n",
       "      <th>deptid</th>\n",
       "      <th>Salary</th>\n",
       "    </tr>\n",
       "  </thead>\n",
       "  <tbody>\n",
       "    <tr>\n",
       "      <th>0</th>\n",
       "      <td>1</td>\n",
       "      <td>20000</td>\n",
       "    </tr>\n",
       "    <tr>\n",
       "      <th>1</th>\n",
       "      <td>2</td>\n",
       "      <td>10000</td>\n",
       "    </tr>\n",
       "    <tr>\n",
       "      <th>2</th>\n",
       "      <td>3</td>\n",
       "      <td>30000</td>\n",
       "    </tr>\n",
       "    <tr>\n",
       "      <th>3</th>\n",
       "      <td>4</td>\n",
       "      <td>50000</td>\n",
       "    </tr>\n",
       "  </tbody>\n",
       "</table>\n",
       "</div>"
      ],
      "text/plain": [
       "   deptid  Salary\n",
       "0       1   20000\n",
       "1       2   10000\n",
       "2       3   30000\n",
       "3       4   50000"
      ]
     },
     "execution_count": 24,
     "metadata": {},
     "output_type": "execute_result"
    }
   ],
   "source": [
    "employee_df = pd.DataFrame(employee)\n",
    "dept_df = pd.DataFrame(dept)\n",
    "dept_df"
   ]
  },
  {
   "cell_type": "code",
   "execution_count": 27,
   "metadata": {},
   "outputs": [
    {
     "data": {
      "text/html": [
       "<div>\n",
       "<style scoped>\n",
       "    .dataframe tbody tr th:only-of-type {\n",
       "        vertical-align: middle;\n",
       "    }\n",
       "\n",
       "    .dataframe tbody tr th {\n",
       "        vertical-align: top;\n",
       "    }\n",
       "\n",
       "    .dataframe thead th {\n",
       "        text-align: right;\n",
       "    }\n",
       "</style>\n",
       "<table border=\"1\" class=\"dataframe\">\n",
       "  <thead>\n",
       "    <tr style=\"text-align: right;\">\n",
       "      <th></th>\n",
       "      <th>empid</th>\n",
       "      <th>deptid</th>\n",
       "      <th>empname</th>\n",
       "    </tr>\n",
       "  </thead>\n",
       "  <tbody>\n",
       "    <tr>\n",
       "      <th>0</th>\n",
       "      <td>1</td>\n",
       "      <td>2</td>\n",
       "      <td>Naresh</td>\n",
       "    </tr>\n",
       "    <tr>\n",
       "      <th>1</th>\n",
       "      <td>2</td>\n",
       "      <td>1</td>\n",
       "      <td>Kumar</td>\n",
       "    </tr>\n",
       "    <tr>\n",
       "      <th>2</th>\n",
       "      <td>4</td>\n",
       "      <td>1</td>\n",
       "      <td>Tata</td>\n",
       "    </tr>\n",
       "    <tr>\n",
       "      <th>3</th>\n",
       "      <td>5</td>\n",
       "      <td>4</td>\n",
       "      <td>Sulo</td>\n",
       "    </tr>\n",
       "    <tr>\n",
       "      <th>4</th>\n",
       "      <td>2</td>\n",
       "      <td>3</td>\n",
       "      <td>Hikshith</td>\n",
       "    </tr>\n",
       "    <tr>\n",
       "      <th>5</th>\n",
       "      <td>3</td>\n",
       "      <td>2</td>\n",
       "      <td>Narasimhulu</td>\n",
       "    </tr>\n",
       "    <tr>\n",
       "      <th>6</th>\n",
       "      <td>8</td>\n",
       "      <td>1</td>\n",
       "      <td>Venkata</td>\n",
       "    </tr>\n",
       "    <tr>\n",
       "      <th>7</th>\n",
       "      <td>9</td>\n",
       "      <td>4</td>\n",
       "      <td>Narendra</td>\n",
       "    </tr>\n",
       "  </tbody>\n",
       "</table>\n",
       "</div>"
      ],
      "text/plain": [
       "   empid  deptid      empname\n",
       "0      1       2       Naresh\n",
       "1      2       1        Kumar\n",
       "2      4       1         Tata\n",
       "3      5       4         Sulo\n",
       "4      2       3     Hikshith\n",
       "5      3       2  Narasimhulu\n",
       "6      8       1      Venkata\n",
       "7      9       4     Narendra"
      ]
     },
     "execution_count": 27,
     "metadata": {},
     "output_type": "execute_result"
    }
   ],
   "source": [
    "employee_df"
   ]
  },
  {
   "cell_type": "code",
   "execution_count": 39,
   "metadata": {},
   "outputs": [
    {
     "data": {
      "text/html": [
       "<div>\n",
       "<style scoped>\n",
       "    .dataframe tbody tr th:only-of-type {\n",
       "        vertical-align: middle;\n",
       "    }\n",
       "\n",
       "    .dataframe tbody tr th {\n",
       "        vertical-align: top;\n",
       "    }\n",
       "\n",
       "    .dataframe thead th {\n",
       "        text-align: right;\n",
       "    }\n",
       "</style>\n",
       "<table border=\"1\" class=\"dataframe\">\n",
       "  <thead>\n",
       "    <tr style=\"text-align: right;\">\n",
       "      <th></th>\n",
       "      <th>empname</th>\n",
       "      <th>Salary</th>\n",
       "    </tr>\n",
       "    <tr>\n",
       "      <th>deptid</th>\n",
       "      <th></th>\n",
       "      <th></th>\n",
       "    </tr>\n",
       "  </thead>\n",
       "  <tbody>\n",
       "    <tr>\n",
       "      <th>1</th>\n",
       "      <td>KumarTataVenkata</td>\n",
       "      <td>60000</td>\n",
       "    </tr>\n",
       "    <tr>\n",
       "      <th>2</th>\n",
       "      <td>NareshNarasimhulu</td>\n",
       "      <td>20000</td>\n",
       "    </tr>\n",
       "    <tr>\n",
       "      <th>3</th>\n",
       "      <td>Hikshith</td>\n",
       "      <td>30000</td>\n",
       "    </tr>\n",
       "    <tr>\n",
       "      <th>4</th>\n",
       "      <td>SuloNarendra</td>\n",
       "      <td>100000</td>\n",
       "    </tr>\n",
       "  </tbody>\n",
       "</table>\n",
       "</div>"
      ],
      "text/plain": [
       "                  empname  Salary\n",
       "deptid                           \n",
       "1        KumarTataVenkata   60000\n",
       "2       NareshNarasimhulu   20000\n",
       "3                Hikshith   30000\n",
       "4            SuloNarendra  100000"
      ]
     },
     "execution_count": 39,
     "metadata": {},
     "output_type": "execute_result"
    }
   ],
   "source": [
    "pd.merge(employee_df, dept_df)[[\"deptid\",\"empname\",\"Salary\"]].groupby([\"deptid\"]).sum()"
   ]
  },
  {
   "cell_type": "code",
   "execution_count": 43,
   "metadata": {},
   "outputs": [
    {
     "data": {
      "text/plain": [
       "empid\n",
       "2    2\n",
       "1    1\n",
       "3    1\n",
       "4    1\n",
       "8    1\n",
       "5    1\n",
       "9    1\n",
       "Name: count, dtype: int64"
      ]
     },
     "execution_count": 43,
     "metadata": {},
     "output_type": "execute_result"
    }
   ],
   "source": [
    "pd.merge(employee_df, dept_df)[\"empid\"].value_counts()"
   ]
  },
  {
   "cell_type": "code",
   "execution_count": 51,
   "metadata": {},
   "outputs": [
    {
     "data": {
      "text/plain": [
       "7"
      ]
     },
     "execution_count": 51,
     "metadata": {},
     "output_type": "execute_result"
    }
   ],
   "source": [
    "len(set(pd.merge(employee_df, dept_df)[\"empid\"]))"
   ]
  }
 ],
 "metadata": {
  "accelerator": "GPU",
  "colab": {
   "provenance": []
  },
  "kernelspec": {
   "display_name": "Python 3 (ipykernel)",
   "language": "python",
   "name": "python3"
  },
  "language_info": {
   "codemirror_mode": {
    "name": "ipython",
    "version": 3
   },
   "file_extension": ".py",
   "mimetype": "text/x-python",
   "name": "python",
   "nbconvert_exporter": "python",
   "pygments_lexer": "ipython3",
   "version": "3.10.12"
  }
 },
 "nbformat": 4,
 "nbformat_minor": 1
}
