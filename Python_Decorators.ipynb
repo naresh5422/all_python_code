{
 "cells": [
  {
   "cell_type": "markdown",
   "id": "6ecf5a5e",
   "metadata": {},
   "source": [
    "# Decorators\n",
    "\n",
    "### What are the Decorators?\n",
    "\n",
    "1. it is a powerful feature in python that allows you to modify behavior a function without changing its source code.\n",
    "2. They are essentially functions that takes another function as an arguments and return a new function that wraps the original funation.\n",
    "3. This way, we add some extra functionality to the original without modifying it"
   ]
  },
  {
   "cell_type": "markdown",
   "id": "d85cbc52",
   "metadata": {},
   "source": [
    "#### Function copy"
   ]
  },
  {
   "cell_type": "code",
   "execution_count": 139,
   "id": "7eb80a84",
   "metadata": {},
   "outputs": [],
   "source": [
    "def wel():\n",
    "    return \"Welcome to DS world\""
   ]
  },
  {
   "cell_type": "code",
   "execution_count": 119,
   "id": "22795754",
   "metadata": {},
   "outputs": [
    {
     "name": "stdout",
     "output_type": "stream",
     "text": [
      "Welcome to DS world\n"
     ]
    }
   ],
   "source": [
    "a = wel()\n",
    "print(a)"
   ]
  },
  {
   "cell_type": "code",
   "execution_count": 120,
   "id": "9daa7306",
   "metadata": {},
   "outputs": [
    {
     "data": {
      "text/plain": [
       "'Welcome to DS world'"
      ]
     },
     "execution_count": 120,
     "metadata": {},
     "output_type": "execute_result"
    }
   ],
   "source": [
    "wel()"
   ]
  },
  {
   "cell_type": "code",
   "execution_count": 121,
   "id": "a8182755",
   "metadata": {},
   "outputs": [],
   "source": [
    "del wel"
   ]
  },
  {
   "cell_type": "markdown",
   "id": "267f8f14",
   "metadata": {},
   "source": [
    "When delete the given function after stored it into another variable a.\n",
    "it will deleted initial function, not stored variable is printed same returns"
   ]
  },
  {
   "cell_type": "code",
   "execution_count": 124,
   "id": "93eff302",
   "metadata": {},
   "outputs": [
    {
     "name": "stdout",
     "output_type": "stream",
     "text": [
      "Welcome to DS world\n"
     ]
    }
   ],
   "source": [
    "print(a)"
   ]
  },
  {
   "cell_type": "code",
   "execution_count": 125,
   "id": "ccffc756",
   "metadata": {},
   "outputs": [
    {
     "ename": "NameError",
     "evalue": "name 'wel' is not defined",
     "output_type": "error",
     "traceback": [
      "\u001b[0;31m---------------------------------------------------------------------------\u001b[0m",
      "\u001b[0;31mNameError\u001b[0m                                 Traceback (most recent call last)",
      "Cell \u001b[0;32mIn[125], line 1\u001b[0m\n\u001b[0;32m----> 1\u001b[0m \u001b[43mwel\u001b[49m()\n",
      "\u001b[0;31mNameError\u001b[0m: name 'wel' is not defined"
     ]
    }
   ],
   "source": [
    "wel()"
   ]
  },
  {
   "cell_type": "markdown",
   "id": "0691ca49",
   "metadata": {},
   "source": [
    "#### Closure"
   ]
  },
  {
   "cell_type": "code",
   "execution_count": 134,
   "id": "6335499e",
   "metadata": {},
   "outputs": [],
   "source": [
    "def main_func(msg):\n",
    "    def sub_func():\n",
    "        print(\"Hi, \")\n",
    "        print(msg)\n",
    "        print(\"Welcome to DS and DA\")\n",
    "    return sub_func()"
   ]
  },
  {
   "cell_type": "code",
   "execution_count": 135,
   "id": "84a9989d",
   "metadata": {},
   "outputs": [
    {
     "name": "stdout",
     "output_type": "stream",
     "text": [
      "Hi, \n",
      "Naresh\n",
      "Welcome to DS and DA\n"
     ]
    }
   ],
   "source": [
    "main_func(\"Naresh\")"
   ]
  },
  {
   "cell_type": "markdown",
   "id": "f4b85f23",
   "metadata": {},
   "source": [
    "#### Closures and Initial Decorator\n",
    "\n",
    "Instead of calling parameters like msg in previous function and we call function inside the function"
   ]
  },
  {
   "cell_type": "code",
   "execution_count": 152,
   "id": "a01b3e8d",
   "metadata": {},
   "outputs": [],
   "source": [
    "def main_wel(fun):\n",
    "    def sub_wel():\n",
    "        print(\"Hi,\")\n",
    "        print(fun)\n",
    "        print(\"and ML and DA\")\n",
    "    return sub_wel()"
   ]
  },
  {
   "cell_type": "code",
   "execution_count": 147,
   "id": "ffe7ec49",
   "metadata": {},
   "outputs": [
    {
     "name": "stdout",
     "output_type": "stream",
     "text": [
      "Hi,\n",
      "Welcome to DS world\n",
      "and ML and DA\n"
     ]
    }
   ],
   "source": [
    "main_wel(wel())"
   ]
  },
  {
   "cell_type": "markdown",
   "id": "c682546a",
   "metadata": {},
   "source": [
    "Suppose, we want measure the excutoin time of function with \"time\" module, it calculate the time and calls original function "
   ]
  },
  {
   "cell_type": "code",
   "execution_count": 149,
   "id": "f81be4b1",
   "metadata": {},
   "outputs": [],
   "source": [
    "import time\n",
    "\n",
    "def measure_time(func):\n",
    "    def wrapper():\n",
    "        start = time.time()\n",
    "        func\n",
    "        end = time.time()\n",
    "        print(f\"Execution time: {end - start} seconds\")\n",
    "    return wrapper"
   ]
  },
  {
   "cell_type": "code",
   "execution_count": 150,
   "id": "461c1b44",
   "metadata": {},
   "outputs": [
    {
     "name": "stdout",
     "output_type": "stream",
     "text": [
      "Hello, welcome\n",
      "<function measure_time.<locals>.wrapper at 0x7fdf2021c310>\n"
     ]
    }
   ],
   "source": [
    "print(measure_time(hello()))"
   ]
  },
  {
   "cell_type": "code",
   "execution_count": 151,
   "id": "c0944e73",
   "metadata": {},
   "outputs": [
    {
     "name": "stdout",
     "output_type": "stream",
     "text": [
      "8.249282836914062e-05\n"
     ]
    }
   ],
   "source": [
    "import time\n",
    "\n",
    "start = time.time()\n",
    "end = time.time()\n",
    "\n",
    "print(end-start)"
   ]
  },
  {
   "cell_type": "code",
   "execution_count": 97,
   "id": "68ef6944",
   "metadata": {},
   "outputs": [
    {
     "name": "stdout",
     "output_type": "stream",
     "text": [
      "Hello, welcome\n"
     ]
    }
   ],
   "source": [
    "hello()"
   ]
  },
  {
   "cell_type": "code",
   "execution_count": 106,
   "id": "3d39827d",
   "metadata": {},
   "outputs": [],
   "source": [
    "def dec(fun):\n",
    "    name = \"Naresh\"\n",
    "    print(name)\n",
    "    return fun"
   ]
  },
  {
   "cell_type": "code",
   "execution_count": 107,
   "id": "b231ddef",
   "metadata": {},
   "outputs": [
    {
     "name": "stdout",
     "output_type": "stream",
     "text": [
      "Hello, welcome\n",
      "Naresh\n"
     ]
    }
   ],
   "source": [
    "dec(hello())"
   ]
  },
  {
   "cell_type": "markdown",
   "id": "3c4ccc63",
   "metadata": {},
   "source": [
    "#### main decorators"
   ]
  },
  {
   "cell_type": "code",
   "execution_count": 270,
   "id": "fca3a7b7",
   "metadata": {},
   "outputs": [],
   "source": [
    "def sample(func):\n",
    "    print(\"Hello\")\n",
    "    return func"
   ]
  },
  {
   "cell_type": "code",
   "execution_count": 271,
   "id": "d69a2907",
   "metadata": {},
   "outputs": [
    {
     "name": "stdout",
     "output_type": "stream",
     "text": [
      "Hello\n"
     ]
    },
    {
     "data": {
      "text/plain": [
       "<function print>"
      ]
     },
     "execution_count": 271,
     "metadata": {},
     "output_type": "execute_result"
    }
   ],
   "source": [
    "sample(print)"
   ]
  },
  {
   "cell_type": "code",
   "execution_count": 272,
   "id": "fce7ed89",
   "metadata": {},
   "outputs": [],
   "source": [
    "def fact(n):\n",
    "#     if n == 0 | n == 1:\n",
    "    if n == 0 or n == 1:\n",
    "        return 1\n",
    "    else:\n",
    "        return n*fact(n-1)"
   ]
  },
  {
   "cell_type": "code",
   "execution_count": 273,
   "id": "66612edd",
   "metadata": {},
   "outputs": [
    {
     "data": {
      "text/plain": [
       "120"
      ]
     },
     "execution_count": 273,
     "metadata": {},
     "output_type": "execute_result"
    }
   ],
   "source": [
    "fact(5)"
   ]
  },
  {
   "cell_type": "code",
   "execution_count": 274,
   "id": "6fbb40b7",
   "metadata": {},
   "outputs": [],
   "source": [
    "from functools import wraps"
   ]
  },
  {
   "cell_type": "code",
   "execution_count": 275,
   "id": "8dc7dba2",
   "metadata": {},
   "outputs": [],
   "source": [
    "def memoize(func):\n",
    "    cache = {}\n",
    "    print(\"Hi\")\n",
    "    @wraps(func)\n",
    "    def wrapper(*args):\n",
    "        if args in cache:\n",
    "            return cache[args]\n",
    "        else:\n",
    "            res = func(*args)\n",
    "            cache[args] = res\n",
    "            return res\n",
    "    return wrapper"
   ]
  },
  {
   "cell_type": "code",
   "execution_count": 276,
   "id": "466953ec",
   "metadata": {},
   "outputs": [
    {
     "name": "stdout",
     "output_type": "stream",
     "text": [
      "Hi\n"
     ]
    }
   ],
   "source": [
    "@memoize\n",
    "def fact(n):\n",
    "#     if n == 0 | n == 1:\n",
    "    if n == 0 or n == 1:\n",
    "        return 1\n",
    "    else:\n",
    "        return n*fact(n-1)"
   ]
  },
  {
   "cell_type": "code",
   "execution_count": 277,
   "id": "5c1b5a3d",
   "metadata": {},
   "outputs": [],
   "source": [
    "# def make_pretty(func):\n",
    "#     # define the inner function \n",
    "#     def inner():\n",
    "#         # add some additional behavior to decorated function\n",
    "#         print(\"I got decorated\")\n",
    "\n",
    "#         # call original function\n",
    "#         func()\n",
    "#     # return the inner function\n",
    "#     return inner()"
   ]
  },
  {
   "cell_type": "code",
   "execution_count": 278,
   "id": "dff44d52",
   "metadata": {},
   "outputs": [
    {
     "data": {
      "text/plain": [
       "120"
      ]
     },
     "execution_count": 278,
     "metadata": {},
     "output_type": "execute_result"
    }
   ],
   "source": [
    "fact(5)"
   ]
  },
  {
   "cell_type": "code",
   "execution_count": null,
   "id": "571b29da",
   "metadata": {},
   "outputs": [],
   "source": []
  }
 ],
 "metadata": {
  "kernelspec": {
   "display_name": "Python 3 (ipykernel)",
   "language": "python",
   "name": "python3"
  },
  "language_info": {
   "codemirror_mode": {
    "name": "ipython",
    "version": 3
   },
   "file_extension": ".py",
   "mimetype": "text/x-python",
   "name": "python",
   "nbconvert_exporter": "python",
   "pygments_lexer": "ipython3",
   "version": "3.10.12"
  }
 },
 "nbformat": 4,
 "nbformat_minor": 5
}
