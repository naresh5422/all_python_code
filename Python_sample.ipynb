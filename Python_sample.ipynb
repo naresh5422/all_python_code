{
 "cells": [
  {
   "cell_type": "markdown",
   "metadata": {
    "id": "yaK0GkP8Oeo7"
   },
   "source": [
    "### Reverse the given string vowels"
   ]
  },
  {
   "cell_type": "code",
   "execution_count": 1,
   "metadata": {
    "id": "cD-8Xs4dCsFU"
   },
   "outputs": [],
   "source": [
    "def reverse_str_vowels(input_str):\n",
    "    input_str_list = list(input_str)\n",
    "    vowel = 'aeiouAEIOU'\n",
    "\n",
    "    vowel_index = [i for i,c in enumerate(input_str_list) if c in vowel]\n",
    "    vowel_reverse = [input_str_list[i] for i in vowel_index[::-1]]\n",
    "\n",
    "    for i, c in zip(vowel_index, vowel_reverse):\n",
    "        input_str_list[i] = c\n",
    "\n",
    "    return ''.join(input_str_list)\n",
    "\n",
    "\n"
   ]
  },
  {
   "cell_type": "code",
   "execution_count": 2,
   "metadata": {
    "colab": {
     "base_uri": "https://localhost:8080/"
    },
    "id": "ycWa3I63EM6p",
    "outputId": "6df03c61-d04d-435d-fc9c-c3a51199008a"
   },
   "outputs": [
    {
     "name": "stdout",
     "output_type": "stream",
     "text": [
      "Nerash\n"
     ]
    }
   ],
   "source": [
    "rev_str = reverse_str_vowels(\"Naresh\")\n",
    "print(rev_str)"
   ]
  },
  {
   "cell_type": "code",
   "execution_count": 3,
   "metadata": {
    "colab": {
     "base_uri": "https://localhost:8080/",
     "height": 36
    },
    "id": "ySYu3jcgEX8_",
    "outputId": "6eb5858d-5b10-4d22-8f63-06acd740584b"
   },
   "outputs": [
    {
     "data": {
      "text/plain": [
       "'Naresh'"
      ]
     },
     "execution_count": 3,
     "metadata": {},
     "output_type": "execute_result"
    }
   ],
   "source": [
    "reverse_str_vowels(rev_str)"
   ]
  },
  {
   "cell_type": "code",
   "execution_count": null,
   "metadata": {
    "id": "eMoszMiIMQ-F"
   },
   "outputs": [],
   "source": []
  },
  {
   "cell_type": "markdown",
   "metadata": {
    "id": "Ph_PNX1_MR6G"
   },
   "source": [
    "### Reverse the given list of number without built-in functions"
   ]
  },
  {
   "cell_type": "code",
   "execution_count": null,
   "metadata": {
    "colab": {
     "base_uri": "https://localhost:8080/"
    },
    "id": "g4s9axG6Gu2B",
    "outputId": "855fcd3b-c6b1-4879-9354-8ef9d32ac5c3"
   },
   "outputs": [
    {
     "name": "stdout",
     "output_type": "stream",
     "text": [
      "[1, 1, 1, 2, 2, 2, 2, 3, 4, 6, 7, 7, 8]\n"
     ]
    }
   ],
   "source": [
    "num = [4,2,1,2,6,2,1,7,1,2,3,7,8]\n",
    "\n",
    "for i in range(len(num)):\n",
    "  for j in range(0, len(num)-i-1):\n",
    "    if num[j] > num[j+1]:\n",
    "      num[j], num[j+1] = num[j+1], num[j]\n",
    "print(num)\n"
   ]
  },
  {
   "cell_type": "code",
   "execution_count": null,
   "metadata": {
    "id": "pHbOEXc4H0sx"
   },
   "outputs": [],
   "source": [
    "def reverse_asc_number_list(l_num):\n",
    "  for i in range(len(l_num)):\n",
    "    for j in range(0, len(l_num) - i - 1):\n",
    "      if l_num[j]>l_num[j+1]:\n",
    "        l_num[j], l_num[j+1] = l_num[j+1], l_num[j]\n",
    "  return l_num"
   ]
  },
  {
   "cell_type": "code",
   "execution_count": null,
   "metadata": {
    "colab": {
     "base_uri": "https://localhost:8080/"
    },
    "id": "xwk1TsJGNUoi",
    "outputId": "ba32fb9b-6d47-4a2a-f9c2-b2d9c16b4466"
   },
   "outputs": [
    {
     "data": {
      "text/plain": [
       "[1, 2, 2, 3, 3, 4, 5, 5, 7, 8]"
      ]
     },
     "execution_count": 133,
     "metadata": {},
     "output_type": "execute_result"
    }
   ],
   "source": [
    "reverse_asc_number_list([2,4,3,1,5,7,8,3,5,2])"
   ]
  },
  {
   "cell_type": "code",
   "execution_count": null,
   "metadata": {
    "id": "QusJ0j4cNbp2"
   },
   "outputs": [],
   "source": [
    "def reverse_desc_number_list(l_num):\n",
    "  for i in range(len(l_num)):\n",
    "    for j in range(0, len(l_num)-i-1):\n",
    "      if l_num[j]<l_num[j+1]:\n",
    "        l_num[j], l_num[j+1] = l_num[j+1], l_num[j]\n",
    "  return l_num"
   ]
  },
  {
   "cell_type": "code",
   "execution_count": null,
   "metadata": {
    "colab": {
     "base_uri": "https://localhost:8080/"
    },
    "id": "YPelF4blOGij",
    "outputId": "bb06ea8e-47b5-4bc6-e548-45156f50faa9"
   },
   "outputs": [
    {
     "data": {
      "text/plain": [
       "[9, 8, 6, 5, 5, 4, 3, 3, 2, 1, 0]"
      ]
     },
     "execution_count": 135,
     "metadata": {},
     "output_type": "execute_result"
    }
   ],
   "source": [
    "reverse_desc_number_list([5,4,3,6,2,1,3,5,8,9,0])"
   ]
  },
  {
   "cell_type": "markdown",
   "metadata": {
    "id": "SWzCZP83RQi4"
   },
   "source": [
    "#### Create Class object"
   ]
  },
  {
   "cell_type": "code",
   "execution_count": null,
   "metadata": {
    "id": "oZuLkBckOLT5"
   },
   "outputs": [],
   "source": [
    "class order_list:\n",
    "  def __int__(self, l_num):\n",
    "    self.l_num = l_num\n",
    "  def reverse_asc_number_list(self, l_num):\n",
    "    for i in range(len(l_num)):\n",
    "      for j in range(0, len(l_num) - i - 1):\n",
    "        if l_num[j]>l_num[j+1]:\n",
    "          l_num[j], l_num[j+1] = l_num[j+1], l_num[j]\n",
    "    return l_num\n",
    "\n",
    "\n",
    "  def reverse_desc_number_list(self, l_num):\n",
    "    for i in range(len(l_num)):\n",
    "      for j in range(0, range(l_num)-i-1):\n",
    "        if l_num[j] < l_num[j+1]:\n",
    "          l_num[j], l_num[j+1] = l_num[j+1], l_num[j]\n",
    "\n",
    "    return l_num\n"
   ]
  },
  {
   "cell_type": "code",
   "execution_count": null,
   "metadata": {
    "colab": {
     "base_uri": "https://localhost:8080/"
    },
    "id": "TlihtBHmQADP",
    "outputId": "d4df2c2e-7354-41a2-83a2-fb687448312e"
   },
   "outputs": [
    {
     "name": "stdout",
     "output_type": "stream",
     "text": [
      "<bound method order_list.reverse_asc_number_list of <__main__.order_list object at 0x7a764fa6b580>>\n"
     ]
    }
   ],
   "source": [
    "obj = order_list()\n",
    "print(obj.reverse_asc_number_list)"
   ]
  },
  {
   "cell_type": "code",
   "execution_count": null,
   "metadata": {
    "colab": {
     "base_uri": "https://localhost:8080/"
    },
    "id": "08Mx0QDDQI3S",
    "outputId": "5e8d4ddd-00b2-4a2c-e787-a52c15aa2100"
   },
   "outputs": [
    {
     "name": "stdout",
     "output_type": "stream",
     "text": [
      "[0, 1, 1, 2, 4, 4, 4, 6, 7, 8, 8, 8, 9]\n"
     ]
    }
   ],
   "source": [
    "ranl = obj.reverse_asc_number_list([6,4,7,2,8,1,8,9,4,0,4,1,8])\n",
    "print(ranl)"
   ]
  },
  {
   "cell_type": "code",
   "execution_count": null,
   "metadata": {
    "id": "4U8TSFTCQwsz"
   },
   "outputs": [],
   "source": []
  },
  {
   "cell_type": "markdown",
   "metadata": {
    "id": "ia7oQV41Rbwa"
   },
   "source": [
    "### Sort it up for HackerEarth"
   ]
  },
  {
   "cell_type": "code",
   "execution_count": null,
   "metadata": {
    "id": "a8CYdHZ1RdkO"
   },
   "outputs": [],
   "source": [
    "def sort_it_up(n, arr):\n",
    "  l_b = 0\n",
    "  r_b = n-1\n",
    "  i = 0\n",
    "\n",
    "  while i <= r_b:\n",
    "    if arr[i] == 2:\n",
    "      arr[i] = arr[r_b]\n",
    "      arr[r_b] = 2\n",
    "      r_b -= 1\n",
    "    elif arr[i] == 1:\n",
    "      i += 1\n",
    "    else:\n",
    "      arr[i] = arr[l_b]\n",
    "      arr[l_b] = 0\n",
    "      l_b += 1\n",
    "      i += 1\n",
    "\n",
    "  return arr\n"
   ]
  },
  {
   "cell_type": "code",
   "execution_count": null,
   "metadata": {
    "colab": {
     "base_uri": "https://localhost:8080/"
    },
    "id": "JwuNUWsOUXO5",
    "outputId": "2d78e8a5-2fbf-4cbc-d49d-8c1ffc2d636e"
   },
   "outputs": [
    {
     "data": {
      "text/plain": [
       "[0, 0, 1, 1, 2, 0, 2]"
      ]
     },
     "execution_count": 154,
     "metadata": {},
     "output_type": "execute_result"
    }
   ],
   "source": [
    "sort_it_up(5, [3,2,1,0,1,0,2])"
   ]
  },
  {
   "cell_type": "code",
   "execution_count": null,
   "metadata": {
    "id": "swlHk8uuUeYK"
   },
   "outputs": [],
   "source": []
  },
  {
   "cell_type": "markdown",
   "metadata": {
    "id": "HI0_2dyjhJTr"
   },
   "source": [
    "### Q"
   ]
  },
  {
   "cell_type": "code",
   "execution_count": null,
   "metadata": {
    "colab": {
     "background_save": true,
     "base_uri": "https://localhost:8080/"
    },
    "id": "nqAgjFtKhLtU",
    "outputId": "b8292605-44a2-4818-f43d-18398d2b0817"
   },
   "outputs": [
    {
     "name": "stdout",
     "output_type": "stream",
     "text": [
      "6\n",
      "3\n",
      "1950626\n"
     ]
    }
   ],
   "source": [
    "def count_valid_numbers(N):\n",
    "    def is_valid_rotation(n):\n",
    "        rotation_map = {'0': '0', '1': '1', '6': '9', '8': '8', '9': '6'}\n",
    "        rotated = []\n",
    "        original_str = str(n)\n",
    "        for digit in original_str:\n",
    "            if digit not in rotation_map:\n",
    "                return False\n",
    "            rotated.append(rotation_map[digit])\n",
    "        rotated_str = ''.join(rotated)[::-1]\n",
    "        return rotated_str != original_str\n",
    "\n",
    "    count = 0\n",
    "    for i in range(1, N + 1):\n",
    "        if is_valid_rotation(i):\n",
    "            count += 1\n",
    "    return count\n",
    "\n",
    "# Test cases\n",
    "print(count_valid_numbers(20))        # Output: 6\n",
    "print(count_valid_numbers(15))        # Output: 3\n",
    "print(count_valid_numbers(999999999)) # Output: 1950626\n"
   ]
  },
  {
   "cell_type": "markdown",
   "metadata": {
    "id": "y3jQzF5ThfUB"
   },
   "source": [
    "Write a program to remove the suffixes \"ing\",\"ly\",\"al\" from a given sentence.\n",
    "If after removing the suffix the length of the word is more than 8 characters \n",
    "then take the first 8 characters.\n",
    "There should not be any word in the sentence which should have greater than \n",
    "8 characters\n"
   ]
  },
  {
   "cell_type": "markdown",
   "metadata": {},
   "source": [
    "###### Sample Input\n",
    "\"People were going unhesitatingly to see the coastal island which was full of cockroaches\"\n",
    "\n",
    "###### Sample Output\n",
    "\"People were go unhesita to see the coast island which was full of cockroac\""
   ]
  },
  {
   "cell_type": "code",
   "execution_count": 4,
   "metadata": {},
   "outputs": [],
   "source": [
    "ip = \"People were going unhesitatingly to see the coastal island which was full of cockroaches\""
   ]
  },
  {
   "cell_type": "code",
   "execution_count": 12,
   "metadata": {},
   "outputs": [
    {
     "name": "stdout",
     "output_type": "stream",
     "text": [
      "People\n",
      "were\n",
      "to\n",
      "see\n",
      "the\n",
      "island\n",
      "which\n",
      "was\n",
      "full\n",
      "of\n"
     ]
    }
   ],
   "source": [
    "for w in ip.split(\" \"):\n",
    "    if not w.endswith((\"ing\",\"ly\",\"al\")):\n",
    "        if len(w) <= 8:\n",
    "            print(w)"
   ]
  },
  {
   "cell_type": "code",
   "execution_count": 14,
   "metadata": {},
   "outputs": [],
   "source": [
    "def process_word(word):\n",
    "    suffixes = [\"ing\", \"ly\", \"al\"]\n",
    "    \n",
    "    for suffix in suffixes:\n",
    "        if word.endswith(suffix):\n",
    "            word = word[: -len(suffix)]\n",
    "    \n",
    "    return word[:8]"
   ]
  },
  {
   "cell_type": "code",
   "execution_count": 15,
   "metadata": {},
   "outputs": [],
   "source": [
    "\n",
    "def process_sentence(sentence):\n",
    "    words = sentence.split()\n",
    "    \n",
    "    processed_words = [process_word(word) for word in words]\n",
    "    \n",
    "    processed_sentence = ' '.join(processed_words)\n",
    "    \n",
    "    return processed_sentence"
   ]
  },
  {
   "cell_type": "code",
   "execution_count": 16,
   "metadata": {},
   "outputs": [],
   "source": [
    "\n",
    "# Sample Input\n",
    "input_sentence = \"People were going unhesitatingly to see the coastal island which was full of cockroaches\""
   ]
  },
  {
   "cell_type": "code",
   "execution_count": 17,
   "metadata": {},
   "outputs": [],
   "source": [
    "# Process the sentence\n",
    "output_sentence = process_sentence(input_sentence)"
   ]
  },
  {
   "cell_type": "code",
   "execution_count": 19,
   "metadata": {},
   "outputs": [
    {
     "name": "stdout",
     "output_type": "stream",
     "text": [
      "Sample Input: People were going unhesitatingly to see the coastal island which was full of cockroaches\n"
     ]
    }
   ],
   "source": [
    "# Display the result\n",
    "print(\"Sample Input:\", input_sentence)"
   ]
  },
  {
   "cell_type": "code",
   "execution_count": 23,
   "metadata": {},
   "outputs": [
    {
     "name": "stdout",
     "output_type": "stream",
     "text": [
      "Sample Output: ['People', 'were', 'go', 'unhesita', 'to', 'see', 'the', 'coast', 'island', 'which', 'was', 'full', 'of', 'cockroac']\n"
     ]
    }
   ],
   "source": [
    "print(\"Sample Output:\", output_sentence.split(\" \"))"
   ]
  },
  {
   "cell_type": "code",
   "execution_count": 24,
   "metadata": {},
   "outputs": [
    {
     "data": {
      "text/plain": [
       "['People',\n",
       " 'were',\n",
       " 'go',\n",
       " 'unhesita',\n",
       " 'to',\n",
       " 'see',\n",
       " 'the',\n",
       " 'coast',\n",
       " 'island',\n",
       " 'which',\n",
       " 'was',\n",
       " 'full',\n",
       " 'of',\n",
       " 'cockroac']"
      ]
     },
     "execution_count": 24,
     "metadata": {},
     "output_type": "execute_result"
    }
   ],
   "source": [
    "output_sentence.split(\" \")"
   ]
  },
  {
   "cell_type": "code",
   "execution_count": null,
   "metadata": {},
   "outputs": [],
   "source": []
  }
 ],
 "metadata": {
  "accelerator": "GPU",
  "colab": {
   "provenance": []
  },
  "kernelspec": {
   "display_name": "Python 3 (ipykernel)",
   "language": "python",
   "name": "python3"
  },
  "language_info": {
   "codemirror_mode": {
    "name": "ipython",
    "version": 3
   },
   "file_extension": ".py",
   "mimetype": "text/x-python",
   "name": "python",
   "nbconvert_exporter": "python",
   "pygments_lexer": "ipython3",
   "version": "3.10.12"
  }
 },
 "nbformat": 4,
 "nbformat_minor": 1
}
