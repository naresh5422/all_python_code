{
 "cells": [
  {
   "cell_type": "code",
   "execution_count": 1,
   "metadata": {},
   "outputs": [],
   "source": [
    "import os\n",
    "import numpy as np\n",
    "import pandas as pd"
   ]
  },
  {
   "cell_type": "code",
   "execution_count": 7,
   "metadata": {},
   "outputs": [
    {
     "data": {
      "text/plain": [
       "['Spoofing_in_2D_face_recognition_with_3D_masks_and_anti-spoofing_with_Kinect.pdf',\n",
       " 'NSACF Doc',\n",
       " '.git',\n",
       " '.ipynb_checkpoints',\n",
       " 'kdp_dr_list.xlsx',\n",
       " 'SCB_CSE_2022_APR_Set D.pdf',\n",
       " '6G Tech Whitepaper.pdf',\n",
       " 'AI_Model_Selection_and_Monitoring_for_Beam_Management_in_5G-Advanced.pdf',\n",
       " 'Projects.pdf',\n",
       " 'CDot_All_Products.pdf',\n",
       " '056f37fa98bd00cdaa1f9083e8e0548a.pdf',\n",
       " 'Projects.odt',\n",
       " 'FY 20-21_516175 (1).pdf',\n",
       " '.training_antispoofing.py.swp',\n",
       " '.~lock.SQL Queries.odt#',\n",
       " 'anskey_SB_CS_SET-D.pdf',\n",
       " 'hol.pdf']"
      ]
     },
     "execution_count": 7,
     "metadata": {},
     "output_type": "execute_result"
    }
   ],
   "source": [
    "os.listdir(\"/home/cdot/Desktop/\")"
   ]
  },
  {
   "cell_type": "code",
   "execution_count": 35,
   "metadata": {},
   "outputs": [],
   "source": [
    "df = pd.read_excel(\"/home/cdot/Desktop/kdp_dr_list.xlsx\")\n",
    "df.columns = df.iloc[3]\n",
    "df = df.iloc[4:,:]\n",
    "df_features = df[df.columns[:59]]\n",
    "df_cls = df[df.columns[-1]]"
   ]
  },
  {
   "cell_type": "code",
   "execution_count": 36,
   "metadata": {},
   "outputs": [
    {
     "data": {
      "text/plain": [
       "3\n",
       "Pcode                           0\n",
       "DrName                          0\n",
       "Dr Name                         0\n",
       "BU                              0\n",
       "Level 3                         0\n",
       "Level 2                         0\n",
       "Level 1                         0\n",
       "Location                        0\n",
       "Repname                         0\n",
       "Repcode                         0\n",
       "SapCode                         0\n",
       "Employee Code                   0\n",
       "Town                            0\n",
       "Patch                           0\n",
       "Patch SName                     0\n",
       "Proof Type                    159\n",
       "Image                          38\n",
       "CIS No                          0\n",
       "MR Loc TYPE                    40\n",
       "Legacy Code                     0\n",
       "Reg No                         41\n",
       "Gender                         41\n",
       "Speciality                      0\n",
       "Sub Speciality                200\n",
       "Class                           0\n",
       "Speciality/Prac                 0\n",
       "Speciality/Qual                41\n",
       "VF                              0\n",
       "Qual                           95\n",
       "DOB                           200\n",
       "DOA                           200\n",
       "Marital Status                141\n",
       "Address                         0\n",
       "CITY                            0\n",
       "STATE                           0\n",
       "PinCode                         0\n",
       "Email                         200\n",
       "Tel no                         47\n",
       "Mobile No                       0\n",
       "Focus Brand                   200\n",
       "Address Type                  158\n",
       "Preferred Day to Meet         199\n",
       "Preferred Day not to Meet     197\n",
       "Preferred time to Meet        197\n",
       "Preferred time not to Meet    200\n",
       "Market Share %                  0\n",
       "Potential                       0\n",
       "PPD                           200\n",
       "Current Business                0\n",
       "Dr Type                        41\n",
       "Event Dr                        0\n",
       "Doctor in CIS                 200\n",
       "Retailer linked                 0\n",
       "Date Added                      0\n",
       "Date Updated                  200\n",
       "Status                          0\n",
       "CUSTOMER GROUP                158\n",
       "SUB CLASS                     158\n",
       "DISPENSING                    158\n",
       "dtype: int64"
      ]
     },
     "execution_count": 36,
     "metadata": {},
     "output_type": "execute_result"
    }
   ],
   "source": [
    "df_features.isnull().sum()"
   ]
  },
  {
   "cell_type": "code",
   "execution_count": 37,
   "metadata": {},
   "outputs": [
    {
     "data": {
      "text/plain": [
       "61"
      ]
     },
     "execution_count": 37,
     "metadata": {},
     "output_type": "execute_result"
    }
   ],
   "source": [
    "df_cls.isna().sum()"
   ]
  },
  {
   "cell_type": "code",
   "execution_count": 40,
   "metadata": {},
   "outputs": [
    {
     "data": {
      "text/plain": [
       "0"
      ]
     },
     "execution_count": 40,
     "metadata": {},
     "output_type": "execute_result"
    }
   ],
   "source": [
    "df_cls = df_cls.fillna(\"C\")\n",
    "df_cls.isna().sum()"
   ]
  },
  {
   "cell_type": "code",
   "execution_count": 6,
   "metadata": {},
   "outputs": [],
   "source": [
    "from functools import reduce\n",
    "import numpy as np\n",
    "import string"
   ]
  },
  {
   "cell_type": "code",
   "execution_count": 37,
   "metadata": {},
   "outputs": [
    {
     "name": "stdout",
     "output_type": "stream",
     "text": [
      "['A', 'B', 'C', 'D', 'E', 'F', 'G', 'H', 'I', 'J', 'K', 'L', 'M', 'N', 'O', 'P', 'Q', 'R', 'S', 'T', 'U', 'V', 'W', 'X', 'Y', 'Z']\n"
     ]
    }
   ],
   "source": [
    "l = [2,1,3,4,8,7,9,4,2,6,8,3,6,8]\n",
    "m = [i for i in string.ascii_uppercase]\n",
    "print(m)"
   ]
  },
  {
   "cell_type": "code",
   "execution_count": 38,
   "metadata": {},
   "outputs": [
    {
     "data": {
      "text/plain": [
       "['AA',\n",
       " 'B',\n",
       " 'CCC',\n",
       " 'DDDD',\n",
       " 'EEEEEEEE',\n",
       " 'FFFFFFF',\n",
       " 'GGGGGGGGG',\n",
       " 'HHHH',\n",
       " 'II',\n",
       " 'JJJJJJ',\n",
       " 'KKKKKKKK',\n",
       " 'LLL',\n",
       " 'MMMMMM',\n",
       " 'NNNNNNNN']"
      ]
     },
     "execution_count": 38,
     "metadata": {},
     "output_type": "execute_result"
    }
   ],
   "source": [
    "list(map(lambda x,y:str(x*y),l,m))"
   ]
  },
  {
   "cell_type": "code",
   "execution_count": 41,
   "metadata": {},
   "outputs": [
    {
     "data": {
      "text/plain": [
       "[2, 4, 8, 4, 2, 6, 8, 6, 8]"
      ]
     },
     "execution_count": 41,
     "metadata": {},
     "output_type": "execute_result"
    }
   ],
   "source": [
    "list(filter(lambda x:x%2==0, l))"
   ]
  },
  {
   "cell_type": "code",
   "execution_count": 47,
   "metadata": {},
   "outputs": [
    {
     "data": {
      "text/plain": [
       "48"
      ]
     },
     "execution_count": 47,
     "metadata": {},
     "output_type": "execute_result"
    }
   ],
   "source": [
    "sum(list(filter(lambda x:x%2==0, l)))"
   ]
  },
  {
   "cell_type": "code",
   "execution_count": 46,
   "metadata": {},
   "outputs": [
    {
     "data": {
      "text/plain": [
       "48"
      ]
     },
     "execution_count": 46,
     "metadata": {},
     "output_type": "execute_result"
    }
   ],
   "source": [
    "reduce(lambda x,y:x+y,list(filter(lambda x:x%2==0, l)))"
   ]
  },
  {
   "cell_type": "code",
   "execution_count": 48,
   "metadata": {},
   "outputs": [
    {
     "name": "stdout",
     "output_type": "stream",
     "text": [
      "0\n",
      "1\n",
      "2\n",
      "3\n",
      "4\n",
      "5\n",
      "6\n",
      "7\n",
      "8\n",
      "9\n"
     ]
    }
   ],
   "source": [
    "for i in range(10):\n",
    "    print(i)"
   ]
  },
  {
   "cell_type": "code",
   "execution_count": 66,
   "metadata": {},
   "outputs": [
    {
     "name": "stdout",
     "output_type": "stream",
     "text": [
      "1\n",
      "2\n",
      "3\n",
      "4\n",
      "5\n",
      "6\n",
      "7\n",
      "8\n",
      "9\n"
     ]
    }
   ],
   "source": [
    "x = 1\n",
    "while x<10:\n",
    "    print(x)\n",
    "    pass\n",
    "    x+=1"
   ]
  },
  {
   "cell_type": "code",
   "execution_count": 1,
   "metadata": {},
   "outputs": [],
   "source": [
    "def dec_fin(fun):\n",
    "    def real():\n",
    "        print(\"Hi Hello\")\n",
    "        fun()\n",
    "        print(\"Bye, See you later\")\n",
    "    return real\n",
    "    \n"
   ]
  },
  {
   "cell_type": "code",
   "execution_count": 4,
   "metadata": {},
   "outputs": [],
   "source": [
    "@dec_fin\n",
    "def bank():\n",
    "    print(\"Open Bank account\")\n"
   ]
  },
  {
   "cell_type": "code",
   "execution_count": 5,
   "metadata": {},
   "outputs": [
    {
     "name": "stdout",
     "output_type": "stream",
     "text": [
      "Hi Hello\n",
      "Open Bank account\n",
      "Bye, See you later\n"
     ]
    }
   ],
   "source": [
    "bank()"
   ]
  },
  {
   "cell_type": "code",
   "execution_count": 10,
   "metadata": {},
   "outputs": [],
   "source": [
    "@dec_fin\n",
    "def mail():\n",
    "    print(\"new mail id is created\")"
   ]
  },
  {
   "cell_type": "code",
   "execution_count": 11,
   "metadata": {},
   "outputs": [
    {
     "name": "stdout",
     "output_type": "stream",
     "text": [
      "Hi Hello\n",
      "new mail id is created\n",
      "Bye, See you later\n"
     ]
    }
   ],
   "source": [
    "mail()"
   ]
  },
  {
   "cell_type": "code",
   "execution_count": null,
   "metadata": {},
   "outputs": [],
   "source": []
  }
 ],
 "metadata": {
  "kernelspec": {
   "display_name": "Python 3",
   "language": "python",
   "name": "python3"
  },
  "language_info": {
   "codemirror_mode": {
    "name": "ipython",
    "version": 3
   },
   "file_extension": ".py",
   "mimetype": "text/x-python",
   "name": "python",
   "nbconvert_exporter": "python",
   "pygments_lexer": "ipython3",
   "version": "3.10.12"
  }
 },
 "nbformat": 4,
 "nbformat_minor": 2
}
