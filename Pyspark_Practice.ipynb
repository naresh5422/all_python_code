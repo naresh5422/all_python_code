{
  "cells": [
    {
      "cell_type": "code",
      "execution_count": 3,
      "metadata": {
        "id": "4NCkAdPbkASe"
      },
      "outputs": [
        {
          "name": "stdout",
          "output_type": "stream",
          "text": [
            "Defaulting to user installation because normal site-packages is not writeable\n",
            "Requirement already satisfied: pyspark in /home/cdot/.local/lib/python3.10/site-packages (3.4.1)\n",
            "Requirement already satisfied: py4j==0.10.9.7 in /home/cdot/.local/lib/python3.10/site-packages (from pyspark) (0.10.9.7)\n",
            "\u001b[33mDEPRECATION: devscripts 2.22.1ubuntu1 has a non-standard version number. pip 24.0 will enforce this behaviour change. A possible replacement is to upgrade to a newer version of devscripts or contact the author to suggest that they release a version with a conforming version number. Discussion can be found at https://github.com/pypa/pip/issues/12063\u001b[0m\u001b[33m\n",
            "\u001b[0mNote: you may need to restart the kernel to use updated packages.\n"
          ]
        }
      ],
      "source": [
        "pip install pyspark"
      ]
    },
    {
      "cell_type": "code",
      "execution_count": 4,
      "metadata": {
        "id": "NpiAwVtvMxTl"
      },
      "outputs": [],
      "source": [
        "from pyspark.context import SparkContext\n",
        "from pyspark.sql import SparkSession\n",
        "from pyspark.conf import SparkConf\n",
        "import os\n",
        "import numpy as np\n",
        "import pandas as pd\n",
        "import matplotlib.pyplot as plt\n",
        "import seaborn as sns\n",
        "import warnings as w\n",
        "w.filterwarnings('ignore')"
      ]
    },
    {
      "cell_type": "code",
      "execution_count": 5,
      "metadata": {
        "id": "popiSYcINXML"
      },
      "outputs": [
        {
          "data": {
            "text/plain": [
              "'Configuration'"
            ]
          },
          "execution_count": 5,
          "metadata": {},
          "output_type": "execute_result"
        }
      ],
      "source": [
        "ss = SparkSession.builder.appName(\"MyFirstSpark\").getOrCreate()\n",
        "conf = SparkConf().setAppName(\"Configuration\").setMaster('local[2]')\n",
        "conf.get('spark.master')\n",
        "conf.get(\"spark.app.name\")\n"
      ]
    },
    {
      "cell_type": "code",
      "execution_count": null,
      "metadata": {
        "id": "2IljemSZOxl_"
      },
      "outputs": [],
      "source": [
        "d = {\"Name\": [\"Naresh\",\"Suresh\",\"Ramesh\",\"Sulo\",\"Narendra\",\"Venkat\",\"Narasimhulu\",\"Tata\"], 'Age':[34,65,53,27,38,19,42,17]}\n",
        "print(d)"
      ]
    },
    {
      "cell_type": "code",
      "execution_count": null,
      "metadata": {
        "id": "_lb4gVVkPc6G"
      },
      "outputs": [],
      "source": [
        "pd_df = pd.DataFrame(d)"
      ]
    },
    {
      "cell_type": "code",
      "execution_count": null,
      "metadata": {
        "id": "fpZgSoxb6tKD"
      },
      "outputs": [],
      "source": [
        "pd_df"
      ]
    },
    {
      "cell_type": "code",
      "execution_count": null,
      "metadata": {
        "id": "Q82t9QU060Gw"
      },
      "outputs": [],
      "source": [
        "pd_df.describe(include = ['int', 'object'])"
      ]
    },
    {
      "cell_type": "code",
      "execution_count": null,
      "metadata": {
        "id": "195ZzJHyQgjA"
      },
      "outputs": [],
      "source": [
        "spark_df = ss.createDataFrame(pd_df)\n",
        "spark_df"
      ]
    },
    {
      "cell_type": "code",
      "execution_count": null,
      "metadata": {
        "id": "QmLvxlFJSSlq"
      },
      "outputs": [],
      "source": [
        "spark_df.show()"
      ]
    },
    {
      "cell_type": "code",
      "execution_count": null,
      "metadata": {
        "id": "SZYSNh6CShf6"
      },
      "outputs": [],
      "source": [
        "spark_df.printSchema()"
      ]
    },
    {
      "cell_type": "code",
      "execution_count": null,
      "metadata": {
        "id": "WeLX8R6V8oZ2"
      },
      "outputs": [],
      "source": [
        "from pyspark.sql import SparkSession\n",
        "from pyspark.context import SparkContext"
      ]
    },
    {
      "cell_type": "code",
      "execution_count": null,
      "metadata": {
        "id": "-yjim_lw8648"
      },
      "outputs": [],
      "source": [
        "ss = SparkSession.builder.master('local[1]').appName(\"SparkExample.com\").getOrCreate()\n"
      ]
    },
    {
      "cell_type": "code",
      "execution_count": null,
      "metadata": {
        "id": "80LApQ8Nin8h"
      },
      "outputs": [],
      "source": [
        "print(ss)"
      ]
    },
    {
      "cell_type": "code",
      "execution_count": null,
      "metadata": {
        "id": "QkUyNJ1FSyjU"
      },
      "outputs": [],
      "source": [
        "dataList = [('python', 200000),('Java',100000),(\"R\", 300000)]\n",
        "rdd = ss.sparkContext.parallelize(dataList)\n",
        "rdd.collect()"
      ]
    },
    {
      "cell_type": "code",
      "execution_count": null,
      "metadata": {
        "id": "k4LAUZRFTpEn"
      },
      "outputs": [],
      "source": [
        "type(rdd)"
      ]
    },
    {
      "cell_type": "code",
      "execution_count": null,
      "metadata": {
        "id": "-RBauD0d_uk1"
      },
      "outputs": [],
      "source": [
        "data = [(\"Naresh\", '', 'Kumar', '1994-03-12', 'M', 250000),\n",
        "        (\"Narendra\", \"Kumar\", '', '2000-04-05','M', 300000),\n",
        "        ('James','','Smith','1991-04-01','M',3000),\n",
        "         ('Michael','Rose','','2000-05-19','M',4000),\n",
        "          ('Robert','','Williams','1978-09-05','M',4000),\n",
        "           ('Maria','Anne','Jones','1967-12-01','F',4000),\n",
        "            ('Jen','Mary','Brown','1980-02-17','F',-1)]\n",
        "columns = ['FirstName','MiddleName','LastName','DateOfBirth','Gender','Salary']\n",
        "print(columns)\n",
        "print(data)"
      ]
    },
    {
      "cell_type": "code",
      "execution_count": null,
      "metadata": {
        "id": "BCcYZwhGB_vc"
      },
      "outputs": [],
      "source": [
        "df = ss.createDataFrame(data=data, schema = columns)\n",
        "df.show()"
      ]
    },
    {
      "cell_type": "code",
      "execution_count": null,
      "metadata": {
        "id": "mBGD68dMCM4E"
      },
      "outputs": [],
      "source": [
        "df.printSchema()"
      ]
    },
    {
      "cell_type": "code",
      "execution_count": null,
      "metadata": {
        "id": "Ba84wG35CTGU"
      },
      "outputs": [],
      "source": [
        "df.describe().show()"
      ]
    },
    {
      "cell_type": "code",
      "execution_count": null,
      "metadata": {
        "id": "uUatOwtWClnM"
      },
      "outputs": [],
      "source": [
        "from pyspark.sql.functions import isnan, count, col, when"
      ]
    },
    {
      "cell_type": "code",
      "execution_count": null,
      "metadata": {
        "id": "Ra98ZgvBtpoI"
      },
      "outputs": [],
      "source": [
        "df.columns"
      ]
    },
    {
      "cell_type": "code",
      "execution_count": null,
      "metadata": {
        "id": "LO9Sa5ANt1uV"
      },
      "outputs": [],
      "source": [
        "df.select([count(when(isnan(c) | col(c).isNull(), c)).alias(c) for c in df.columns]).show()"
      ]
    },
    {
      "cell_type": "code",
      "execution_count": null,
      "metadata": {
        "id": "oyxtZAWWu30h"
      },
      "outputs": [],
      "source": [
        "input_data = [(\"Shivansh\", \"Data Scientist\", \"Noida\"),\n",
        "                  (None, \"Software Developer\", None),\n",
        "                  (\"Swati\", \"Data Analyst\", \"Hyderabad\"),\n",
        "                  (None, None, \"Noida\"),\n",
        "                  (\"Arpit\", \"Android Developer\", \"Banglore\"),\n",
        "                  (None, None, None)]\n",
        "\n",
        "schema = [\"Name\", \"Job Profile\", \"City\"]"
      ]
    },
    {
      "cell_type": "code",
      "execution_count": null,
      "metadata": {
        "id": "Zs4m7JS2vtUa"
      },
      "outputs": [],
      "source": [
        "df1 = ss.createDataFrame(input_data, schema = schema)\n",
        "df1.show()"
      ]
    },
    {
      "cell_type": "code",
      "execution_count": null,
      "metadata": {
        "id": "SxNcJ7nrwtXP"
      },
      "outputs": [],
      "source": [
        "df1.printSchema()"
      ]
    },
    {
      "cell_type": "code",
      "execution_count": null,
      "metadata": {
        "id": "smO33WZmw1gW"
      },
      "outputs": [],
      "source": [
        "df1"
      ]
    },
    {
      "cell_type": "code",
      "execution_count": null,
      "metadata": {
        "id": "p8nd8z9dw7V3"
      },
      "outputs": [],
      "source": [
        "df1 = df1.filter(df1.Name.isNotNull())\n",
        "df1.show()"
      ]
    },
    {
      "cell_type": "code",
      "execution_count": null,
      "metadata": {
        "id": "d60ma9f1xKcf"
      },
      "outputs": [],
      "source": [
        "df1.filter(df1.Name.isNotNull()).show()"
      ]
    },
    {
      "cell_type": "code",
      "execution_count": null,
      "metadata": {
        "id": "-2XcNDfSy44m"
      },
      "outputs": [],
      "source": [
        "from pyspark.sql.functions import *"
      ]
    },
    {
      "cell_type": "code",
      "execution_count": null,
      "metadata": {
        "id": "qZc-ZUs8xd95"
      },
      "outputs": [],
      "source": [
        "### to count the null values in each column with functions modules\n",
        "df_null_count = df1.select([count(when(col(c).isNull(),c)).alias(c) for c in df1.columns])\n",
        "df_null_count.show()\n",
        "display(df_null_count)"
      ]
    },
    {
      "cell_type": "code",
      "execution_count": null,
      "metadata": {
        "id": "2i1_tS2pzBpf"
      },
      "outputs": [],
      "source": [
        "new_df = df1"
      ]
    },
    {
      "cell_type": "markdown",
      "metadata": {
        "id": "pd9j7Wv0zmwC"
      },
      "source": [
        "#### Handling with Null values in DF"
      ]
    },
    {
      "cell_type": "code",
      "execution_count": null,
      "metadata": {
        "id": "OP4dTs21zquD"
      },
      "outputs": [],
      "source": [
        "new_df.show()"
      ]
    },
    {
      "cell_type": "code",
      "execution_count": null,
      "metadata": {
        "id": "sL_TIcdgz0kq"
      },
      "outputs": [],
      "source": [
        "new_df.na.fill(value = 0).show()"
      ]
    },
    {
      "cell_type": "code",
      "execution_count": null,
      "metadata": {
        "id": "dRWJ3ayF0G5L"
      },
      "outputs": [],
      "source": [
        "from pandas.core.groupby.groupby import RandomState\n",
        "\n",
        "new_df1 = new_df.withColumn(\"Salary\", rand())\n",
        "new_df1.show()\n",
        "\n"
      ]
    },
    {
      "cell_type": "code",
      "execution_count": null,
      "metadata": {
        "id": "d7qaLfOt2rsv"
      },
      "outputs": [],
      "source": [
        "new_df1.withColumn(\"Salary\", new_df1.Salary*100000).show()"
      ]
    },
    {
      "cell_type": "code",
      "execution_count": null,
      "metadata": {
        "id": "YYAqo9Oj3J_M"
      },
      "outputs": [],
      "source": [
        "pip install findspark"
      ]
    },
    {
      "cell_type": "code",
      "execution_count": null,
      "metadata": {
        "id": "Nw1oy4te94eD"
      },
      "outputs": [],
      "source": [
        "import findspark"
      ]
    },
    {
      "cell_type": "code",
      "execution_count": null,
      "metadata": {
        "id": "rctx89uC-KLB"
      },
      "outputs": [],
      "source": [
        "findspark.find()"
      ]
    },
    {
      "cell_type": "code",
      "execution_count": null,
      "metadata": {
        "id": "yOcDj3FT-QUQ"
      },
      "outputs": [],
      "source": [
        "findspark.init()"
      ]
    },
    {
      "cell_type": "code",
      "execution_count": null,
      "metadata": {
        "id": "ETysX_xG-Tgw"
      },
      "outputs": [],
      "source": [
        "from pyspark.sql import SparkSession\n",
        "from pyspark import SparkConf, SparkContext"
      ]
    },
    {
      "cell_type": "code",
      "execution_count": null,
      "metadata": {
        "id": "7FUU_Dri-btw"
      },
      "outputs": [],
      "source": [
        "ss.stop()"
      ]
    },
    {
      "cell_type": "code",
      "execution_count": null,
      "metadata": {
        "id": "vjhH4ASt-lJx"
      },
      "outputs": [],
      "source": [
        "sc = SparkContext()"
      ]
    },
    {
      "cell_type": "code",
      "execution_count": null,
      "metadata": {
        "id": "pMjdLF_v_BFp"
      },
      "outputs": [],
      "source": [
        "# Create the RDD with parallelize method\n",
        "rdd = sc.parallelize([1,2,3,4,5,6,7])"
      ]
    },
    {
      "cell_type": "code",
      "execution_count": null,
      "metadata": {
        "id": "KXoYerTT_JdY"
      },
      "outputs": [],
      "source": [
        "# to show the RDD file data\n",
        "rdd.collect()"
      ]
    },
    {
      "cell_type": "code",
      "execution_count": null,
      "metadata": {
        "id": "Tr_m4mDT_T4A"
      },
      "outputs": [],
      "source": [
        "rdd.take(2)"
      ]
    },
    {
      "cell_type": "code",
      "execution_count": null,
      "metadata": {
        "id": "KR2R9J49_b4f"
      },
      "outputs": [],
      "source": [
        "type(rdd)"
      ]
    },
    {
      "cell_type": "code",
      "execution_count": null,
      "metadata": {
        "id": "_joDGt1q_iwv"
      },
      "outputs": [],
      "source": [
        "# to stop the sparkcontext with stop method\n",
        "sc.stop()"
      ]
    },
    {
      "cell_type": "markdown",
      "metadata": {
        "id": "IOw7bykOA-_t"
      },
      "source": [
        "#### First way to create spark context"
      ]
    },
    {
      "cell_type": "code",
      "execution_count": null,
      "metadata": {
        "id": "sMaKdTZ9_tff"
      },
      "outputs": [],
      "source": [
        "from pyspark import SparkContext, SparkConf"
      ]
    },
    {
      "cell_type": "code",
      "execution_count": null,
      "metadata": {
        "id": "uFGUuShc_1pI"
      },
      "outputs": [],
      "source": [
        "# to configure the Spark context\n",
        "config = SparkConf().setAppName(\"First google colab\"). setMaster('local')\n",
        "\n",
        "# here, to create the spark context and pass the parameter spark  configuration variable\n",
        "sc = SparkContext(conf = config)\n"
      ]
    },
    {
      "cell_type": "code",
      "execution_count": null,
      "metadata": {
        "id": "R53NyUZAAhJH"
      },
      "outputs": [],
      "source": [
        "# to get the all configuration details with getConf method\n",
        "sc.getConf().getAll()"
      ]
    },
    {
      "cell_type": "code",
      "execution_count": null,
      "metadata": {
        "id": "ViLqnFdJAm23"
      },
      "outputs": [],
      "source": [
        "\n",
        "# then stop the Spark context with stop method\n",
        "sc.stop()"
      ]
    },
    {
      "cell_type": "markdown",
      "metadata": {
        "id": "iI5dQwSXBHG8"
      },
      "source": [
        "#### Second way to create spark context that leads settings of spark"
      ]
    },
    {
      "cell_type": "code",
      "execution_count": null,
      "metadata": {
        "id": "fVbQ7hYEA2lS"
      },
      "outputs": [],
      "source": [
        "\n",
        "sc = SparkContext()\n",
        "sc.getConf().getAll()"
      ]
    },
    {
      "cell_type": "code",
      "execution_count": null,
      "metadata": {
        "id": "2-STbSW3BWrw"
      },
      "outputs": [],
      "source": [
        "sc.stop()"
      ]
    },
    {
      "cell_type": "markdown",
      "metadata": {
        "id": "awcymAOB8Hro"
      },
      "source": [
        "#### Third way to combine both"
      ]
    },
    {
      "cell_type": "code",
      "execution_count": null,
      "metadata": {
        "id": "-r_T1IUw8EG2"
      },
      "outputs": [],
      "source": [
        "sc = SparkContext('local', 'first')"
      ]
    },
    {
      "cell_type": "markdown",
      "metadata": {
        "id": "wBJyiBoq8xnI"
      },
      "source": [
        "The RDD in spark is simply says that it is a immutable distributed collections of the objects.\n",
        "\n",
        "each RDD is split into multiple positions, which may be computed on defferent nodes of the cluster.\n",
        "\n",
        "The RDD can be created in two ways:\n",
        "1. by landing on external dataset\n",
        "2. by transforming one RDD into another"
      ]
    },
    {
      "cell_type": "markdown",
      "metadata": {
        "id": "2WSDliAA8xsa"
      },
      "source": []
    },
    {
      "cell_type": "markdown",
      "metadata": {
        "id": "FTNBz0hh8xxl"
      },
      "source": []
    },
    {
      "cell_type": "code",
      "execution_count": null,
      "metadata": {
        "id": "QHrKIjCW8eTM"
      },
      "outputs": [],
      "source": [
        "name = sc.parallelize(\"data\")"
      ]
    },
    {
      "cell_type": "code",
      "execution_count": null,
      "metadata": {
        "id": "KdRB6DIljgJa"
      },
      "outputs": [],
      "source": [
        "name.countByValue()"
      ]
    },
    {
      "cell_type": "code",
      "execution_count": null,
      "metadata": {
        "id": "Lxb1se1k99vP"
      },
      "outputs": [],
      "source": [
        "name.collect()"
      ]
    },
    {
      "cell_type": "code",
      "execution_count": null,
      "metadata": {
        "id": "II6UXJKK-D8-"
      },
      "outputs": [],
      "source": [
        "name.take(2)"
      ]
    },
    {
      "cell_type": "code",
      "execution_count": null,
      "metadata": {
        "id": "aq3NmVKk-GDK"
      },
      "outputs": [],
      "source": [
        "num = sc.parallelize([4,5,3,6,4,5,2,9,6])"
      ]
    },
    {
      "cell_type": "code",
      "execution_count": null,
      "metadata": {
        "id": "7muGKI-Y-Wm-"
      },
      "outputs": [],
      "source": [
        "num.countByValue()"
      ]
    },
    {
      "cell_type": "markdown",
      "metadata": {
        "id": "X-YpiBVc_K7a"
      },
      "source": [
        "##### glom()\n",
        "\n",
        "it is a method in spark, means information stored in different partitions in each RDD but, spark does't allow the worker to refer the specific partitions, and it does transform each partition into a \"tuple\""
      ]
    },
    {
      "cell_type": "code",
      "execution_count": null,
      "metadata": {
        "id": "jUAjuzTt-Z7l"
      },
      "outputs": [],
      "source": [
        "num.glom().collect()"
      ]
    },
    {
      "cell_type": "code",
      "execution_count": null,
      "metadata": {
        "id": "zEqk17QLAte5"
      },
      "outputs": [],
      "source": [
        "num = sc.parallelize([4,3,4,2,3,1,5,4,6,8],2)\n",
        "num.glom().collect()"
      ]
    },
    {
      "cell_type": "code",
      "execution_count": null,
      "metadata": {
        "id": "8IxQWkHTA8JZ"
      },
      "outputs": [],
      "source": [
        "num.min()"
      ]
    },
    {
      "cell_type": "code",
      "execution_count": null,
      "metadata": {
        "id": "9fm4-B1vBBKg"
      },
      "outputs": [],
      "source": [
        "num.max()"
      ]
    },
    {
      "cell_type": "code",
      "execution_count": null,
      "metadata": {
        "id": "x3jk-a8CBFeQ"
      },
      "outputs": [],
      "source": [
        "num1 = sc.parallelize([3,2,4,5,6,3,2],4)\n",
        "num1.glom().collect()"
      ]
    },
    {
      "cell_type": "code",
      "execution_count": null,
      "metadata": {
        "id": "WU9ZnP_6BdJ0"
      },
      "outputs": [],
      "source": [
        "num2 = sc.parallelize([3,2,4,3,2,5,4,6],3)\n",
        "num2.glom().collect()"
      ]
    },
    {
      "cell_type": "markdown",
      "metadata": {
        "id": "tdkJxoIMCAwu"
      },
      "source": [
        "The Reduce() is same as exist in python like combine the all values, e.g. 1+2+3 = 6\n",
        "\n",
        "The Fold() is takes the some initial value"
      ]
    },
    {
      "cell_type": "code",
      "execution_count": null,
      "metadata": {
        "id": "EicdJAQ0B6FX"
      },
      "outputs": [],
      "source": [
        "num2.reduce(lambda a,b:a+b)"
      ]
    },
    {
      "cell_type": "markdown",
      "metadata": {
        "id": "lpQnR6AHDLrJ"
      },
      "source": [
        "the takeOrdered() method, first takes the data and sort it, then give the output as passed parameter value"
      ]
    },
    {
      "cell_type": "code",
      "execution_count": null,
      "metadata": {
        "id": "V6h4NBSeC9m3"
      },
      "outputs": [],
      "source": [
        "\n",
        "num2.takeOrdered(4)"
      ]
    },
    {
      "cell_type": "code",
      "execution_count": null,
      "metadata": {
        "id": "GwHJcsWLDl5w"
      },
      "outputs": [],
      "source": [
        "num2.fold(1, lambda a, b : a+b)"
      ]
    },
    {
      "cell_type": "code",
      "execution_count": null,
      "metadata": {
        "id": "hHwHmdT8D85b"
      },
      "outputs": [],
      "source": [
        "num2.fold(2, lambda a,b : a+b)"
      ]
    },
    {
      "cell_type": "code",
      "execution_count": null,
      "metadata": {
        "id": "DlzYakv5EB1r"
      },
      "outputs": [],
      "source": [
        "num2.fold(0, lambda a,b:a+b)"
      ]
    },
    {
      "cell_type": "code",
      "execution_count": null,
      "metadata": {
        "id": "fniIArKVEJmP"
      },
      "outputs": [],
      "source": [
        "num = sc.parallelize([2,4,3,1,5,4,3,5,4,6],3)\n",
        "num.sum()"
      ]
    },
    {
      "cell_type": "code",
      "execution_count": null,
      "metadata": {
        "id": "WsenPnREFqNt"
      },
      "outputs": [],
      "source": [
        "num.glom().collect()"
      ]
    },
    {
      "cell_type": "code",
      "execution_count": null,
      "metadata": {
        "id": "MIhq-lIZEUcP"
      },
      "outputs": [],
      "source": [
        "num.fold(0, lambda a,b:a+b)"
      ]
    },
    {
      "cell_type": "code",
      "execution_count": null,
      "metadata": {
        "id": "N9T4y10SEaaz"
      },
      "outputs": [],
      "source": [
        "num.fold(1, lambda a,b: a+b)"
      ]
    },
    {
      "cell_type": "code",
      "execution_count": null,
      "metadata": {
        "id": "DB8Jjt5yErDo"
      },
      "outputs": [],
      "source": [
        "num.fold(2,lambda a,b:a+b)"
      ]
    },
    {
      "cell_type": "code",
      "execution_count": null,
      "metadata": {
        "id": "7xXxnwjWFNfo"
      },
      "outputs": [],
      "source": [
        "num.fold(3, lambda a,b:a+b)"
      ]
    },
    {
      "cell_type": "markdown",
      "metadata": {
        "id": "UJCSFij626pV"
      },
      "source": [
        "#### Transformation:\n",
        "\n",
        "it is an operation which we apply in RDD\n",
        "\n",
        "two types of Transformation:\n",
        "1. Narrow Transformation(Pipeline)\n",
        "2. Wide Transformation(Shuffling)\n"
      ]
    },
    {
      "cell_type": "code",
      "execution_count": null,
      "metadata": {
        "id": "G_rm53p0Fgxh"
      },
      "outputs": [],
      "source": []
    },
    {
      "cell_type": "code",
      "execution_count": null,
      "metadata": {
        "id": "F0RRVQTRj7zQ"
      },
      "outputs": [],
      "source": [
        "import numpy as np\n",
        "import pandas as pd"
      ]
    },
    {
      "cell_type": "code",
      "execution_count": null,
      "metadata": {
        "id": "LkzYKRkCj822"
      },
      "outputs": [],
      "source": [
        "dif = {\"user_id\":[111, 222,111,333,333,333,444],\n",
        "      \"join_date\":[\"2024-01-01\",\"2024-01-01\",\"2024-01-03\",\"2024-01-07\",\"2024-01-08\",\"2024-01-09\",\"2024-01-09\"]}\n",
        "print(dif)"
      ]
    },
    {
      "cell_type": "code",
      "execution_count": null,
      "metadata": {
        "id": "xmnUkjTKj9Mg"
      },
      "outputs": [],
      "source": [
        "df = pd.DataFrame(dif)\n",
        "print(df)"
      ]
    },
    {
      "cell_type": "code",
      "execution_count": null,
      "metadata": {
        "id": "O1sXIOLTVraA"
      },
      "outputs": [],
      "source": [
        "df.dtypes"
      ]
    },
    {
      "cell_type": "code",
      "execution_count": null,
      "metadata": {
        "id": "zGWjKV8bVrXz"
      },
      "outputs": [],
      "source": [
        "df[\"join_date\"] = pd.to_datetime(df[\"join_date\"])\n",
        "print(df.dtypes)"
      ]
    },
    {
      "cell_type": "code",
      "execution_count": null,
      "metadata": {
        "id": "2O-pOxYCV-aH"
      },
      "outputs": [],
      "source": [
        "new_user_df = df.groupby(df[\"join_date\"].dt.date)[\"user_id\"].nunique().reset_index()"
      ]
    },
    {
      "cell_type": "code",
      "execution_count": null,
      "metadata": {
        "id": "EdZCIBklV9th"
      },
      "outputs": [],
      "source": [
        "total_user = df[\"user_id\"].nunique()"
      ]
    },
    {
      "cell_type": "code",
      "execution_count": null,
      "metadata": {
        "id": "Ro4yFK2oXVJ8"
      },
      "outputs": [],
      "source": [
        "new_user_df[\"percentage\"] = (new_user_df[\"user_id\"]/total_user)*100\n",
        "print(new_user_df)"
      ]
    },
    {
      "cell_type": "code",
      "execution_count": null,
      "metadata": {
        "id": "-BYu3gihXU-t"
      },
      "outputs": [],
      "source": []
    },
    {
      "cell_type": "code",
      "execution_count": null,
      "metadata": {
        "id": "LZ3kgbhej9c_"
      },
      "outputs": [],
      "source": [
        "df.groupby([\"user_id\"])[\"join_date\"].size()"
      ]
    },
    {
      "cell_type": "code",
      "execution_count": null,
      "metadata": {
        "id": "_096gHrVj9tX"
      },
      "outputs": [],
      "source": [
        "for i in"
      ]
    },
    {
      "cell_type": "code",
      "execution_count": null,
      "metadata": {
        "id": "cR-3zU9fj99u"
      },
      "outputs": [],
      "source": []
    },
    {
      "cell_type": "markdown",
      "metadata": {},
      "source": [
        "#### Unpivot tables"
      ]
    },
    {
      "cell_type": "code",
      "execution_count": 6,
      "metadata": {
        "id": "7MhZxe9Gj-PO"
      },
      "outputs": [],
      "source": [
        "cricket_data = [(\"Virat Kohli\", 85, 100, 75),\n",
        "                (\"Steve Smith\", 90, 105, 80),\n",
        "                (\"Kane Williamson\", 88, 95, 70)]"
      ]
    },
    {
      "cell_type": "code",
      "execution_count": 7,
      "metadata": {},
      "outputs": [],
      "source": [
        "df = ss.createDataFrame(cricket_data, [\"Player\", \"Match1\", \"Match2\", \"Match3\"])"
      ]
    },
    {
      "cell_type": "code",
      "execution_count": 8,
      "metadata": {},
      "outputs": [
        {
          "data": {
            "text/plain": [
              "DataFrame[Player: string, Match1: bigint, Match2: bigint, Match3: bigint]"
            ]
          },
          "execution_count": 8,
          "metadata": {},
          "output_type": "execute_result"
        }
      ],
      "source": [
        "df"
      ]
    },
    {
      "cell_type": "code",
      "execution_count": 9,
      "metadata": {},
      "outputs": [
        {
          "name": "stderr",
          "output_type": "stream",
          "text": [
            "                                                                                \r"
          ]
        },
        {
          "name": "stdout",
          "output_type": "stream",
          "text": [
            "+---------------+------+------+------+\n",
            "|         Player|Match1|Match2|Match3|\n",
            "+---------------+------+------+------+\n",
            "|    Virat Kohli|    85|   100|    75|\n",
            "|    Steve Smith|    90|   105|    80|\n",
            "|Kane Williamson|    88|    95|    70|\n",
            "+---------------+------+------+------+\n",
            "\n"
          ]
        }
      ],
      "source": [
        "df.show()"
      ]
    },
    {
      "cell_type": "code",
      "execution_count": 23,
      "metadata": {},
      "outputs": [
        {
          "name": "stdout",
          "output_type": "stream",
          "text": [
            "+---------------+------+------+\n",
            "|         Player| Match| Score|\n",
            "+---------------+------+------+\n",
            "|    Virat Kohli|Match1|Match1|\n",
            "|    Virat Kohli|Match2|Match2|\n",
            "|    Virat Kohli|Match3|Match3|\n",
            "|    Steve Smith|Match1|Match1|\n",
            "|    Steve Smith|Match2|Match2|\n",
            "|    Steve Smith|Match3|Match3|\n",
            "|Kane Williamson|Match1|Match1|\n",
            "|Kane Williamson|Match2|Match2|\n",
            "|Kane Williamson|Match3|Match3|\n",
            "+---------------+------+------+\n",
            "\n"
          ]
        }
      ],
      "source": [
        "df.selectExpr(\"Player\", \"stack(3, 'Match1','Match1','Match2','Match2','Match3','Match3') as (Match, Score)\").show()"
      ]
    },
    {
      "cell_type": "code",
      "execution_count": 24,
      "metadata": {},
      "outputs": [],
      "source": [
        "import pyspark\n",
        "from pyspark.sql import SparkSession\n",
        "from pyspark.sql.functions import expr"
      ]
    },
    {
      "cell_type": "code",
      "execution_count": 25,
      "metadata": {},
      "outputs": [],
      "source": [
        "df = [(1,\"K1\",\"c1\",1,0,3,0.00,1.00,0.00,1.00,0.00,0.00)]\n",
        "\n",
        "columns= [\"Id\",\"Key\",\"Code\",\"Label1\",\"Label2\",\"Label3\",\"Rate1\",\"Rate2\",\"Rate3\",\"CancelRate1\",\"CancelRate2\",\"CancelRate3\"]"
      ]
    },
    {
      "cell_type": "code",
      "execution_count": 27,
      "metadata": {},
      "outputs": [
        {
          "name": "stdout",
          "output_type": "stream",
          "text": [
            "root\n",
            " |-- Id: long (nullable = true)\n",
            " |-- Key: string (nullable = true)\n",
            " |-- Code: string (nullable = true)\n",
            " |-- Label1: long (nullable = true)\n",
            " |-- Label2: long (nullable = true)\n",
            " |-- Label3: long (nullable = true)\n",
            " |-- Rate1: double (nullable = true)\n",
            " |-- Rate2: double (nullable = true)\n",
            " |-- Rate3: double (nullable = true)\n",
            " |-- CancelRate1: double (nullable = true)\n",
            " |-- CancelRate2: double (nullable = true)\n",
            " |-- CancelRate3: double (nullable = true)\n",
            "\n"
          ]
        }
      ],
      "source": [
        "df = ss.createDataFrame(data = df, schema = columns)\n",
        "df.printSchema()"
      ]
    },
    {
      "cell_type": "code",
      "execution_count": 28,
      "metadata": {},
      "outputs": [
        {
          "name": "stdout",
          "output_type": "stream",
          "text": [
            "+---+---+----+------+------+------+-----+-----+-----+-----------+-----------+-----------+\n",
            "|Id |Key|Code|Label1|Label2|Label3|Rate1|Rate2|Rate3|CancelRate1|CancelRate2|CancelRate3|\n",
            "+---+---+----+------+------+------+-----+-----+-----+-----------+-----------+-----------+\n",
            "|1  |K1 |c1  |1     |0     |3     |0.0  |1.0  |0.0  |1.0        |0.0        |0.0        |\n",
            "+---+---+----+------+------+------+-----+-----+-----+-----------+-----------+-----------+\n",
            "\n"
          ]
        }
      ],
      "source": [
        "df.show(truncate=False)"
      ]
    },
    {
      "cell_type": "code",
      "execution_count": 35,
      "metadata": {},
      "outputs": [
        {
          "data": {
            "text/plain": [
              "\"stack(3, 'Label1',Label1, 'Label2',Label2, 'Label3',Label3) as (Label,Total)\""
            ]
          },
          "execution_count": 35,
          "metadata": {},
          "output_type": "execute_result"
        }
      ],
      "source": [
        "unpivotExpr1 = \"stack(3, 'Label1',Label1, 'Label2',Label2, 'Label3',Label3) as (Label,Total)\"\n",
        "unpivotExpr1"
      ]
    },
    {
      "cell_type": "code",
      "execution_count": 36,
      "metadata": {},
      "outputs": [
        {
          "data": {
            "text/plain": [
              "\"stack(3, 'Rate1',Rate1,'Rate2',Rate2,'Rate3',Rate3) as (Rate,Total)\""
            ]
          },
          "execution_count": 36,
          "metadata": {},
          "output_type": "execute_result"
        }
      ],
      "source": [
        "unpivotExpr2 = \"stack(3, 'Rate1',Rate1,'Rate2',Rate2,'Rate3',Rate3) as (Rate,Total)\"\n",
        "unpivotExpr2"
      ]
    },
    {
      "cell_type": "code",
      "execution_count": 41,
      "metadata": {},
      "outputs": [
        {
          "name": "stdout",
          "output_type": "stream",
          "text": [
            "+---+---+----+------+--------+\n",
            "| id|Key|Code| Label|LabelId |\n",
            "+---+---+----+------+--------+\n",
            "|  1| K1|  c1|Label1|       1|\n",
            "|  1| K1|  c1|Label2|       0|\n",
            "|  1| K1|  c1|Label3|       3|\n",
            "+---+---+----+------+--------+\n",
            "\n"
          ]
        }
      ],
      "source": [
        "unPivotDF1 = df.select(\"id\",\"Key\",\"Code\", expr(unpivotExpr1))\n",
        "dflabel = unPivotDF1.withColumnRenamed('Total','LabelId ')\n",
        "dflabel.show()"
      ]
    },
    {
      "cell_type": "code",
      "execution_count": 42,
      "metadata": {},
      "outputs": [
        {
          "name": "stdout",
          "output_type": "stream",
          "text": [
            "+---+---+----+-----+--------+\n",
            "| id|Key|Code| Rate|LabelId |\n",
            "+---+---+----+-----+--------+\n",
            "|  1| K1|  c1|Rate1|     0.0|\n",
            "|  1| K1|  c1|Rate2|     1.0|\n",
            "|  1| K1|  c1|Rate3|     0.0|\n",
            "+---+---+----+-----+--------+\n",
            "\n"
          ]
        }
      ],
      "source": [
        "unPivotDF2 = df.select(\"id\",\"Key\",\"Code\", expr(unpivotExpr2))\n",
        "dflabel = unPivotDF2.withColumnRenamed('Total','LabelId ')\n",
        "dflabel.show()"
      ]
    },
    {
      "cell_type": "code",
      "execution_count": 51,
      "metadata": {},
      "outputs": [
        {
          "name": "stdout",
          "output_type": "stream",
          "text": [
            "+---+---+----+------+-----+\n",
            "| id|Key|Code| Label|Total|\n",
            "+---+---+----+------+-----+\n",
            "|  1| K1|  c1|Label1|  1.0|\n",
            "|  1| K1|  c1|Label2|  0.0|\n",
            "|  1| K1|  c1|Label3|  3.0|\n",
            "|  1| K1|  c1| Rate1|  0.0|\n",
            "|  1| K1|  c1| Rate2|  1.0|\n",
            "|  1| K1|  c1| Rate3|  0.0|\n",
            "+---+---+----+------+-----+\n",
            "\n"
          ]
        }
      ],
      "source": [
        "final_df = unPivotDF1.union(unPivotDF2).show()\n",
        "final_df"
      ]
    },
    {
      "cell_type": "code",
      "execution_count": null,
      "metadata": {},
      "outputs": [],
      "source": []
    }
  ],
  "metadata": {
    "accelerator": "GPU",
    "colab": {
      "cell_execution_strategy": "setup",
      "gpuType": "T4",
      "private_outputs": true,
      "provenance": []
    },
    "kernelspec": {
      "display_name": "Python 3",
      "name": "python3"
    },
    "language_info": {
      "codemirror_mode": {
        "name": "ipython",
        "version": 3
      },
      "file_extension": ".py",
      "mimetype": "text/x-python",
      "name": "python",
      "nbconvert_exporter": "python",
      "pygments_lexer": "ipython3",
      "version": "3.10.12"
    }
  },
  "nbformat": 4,
  "nbformat_minor": 0
}
