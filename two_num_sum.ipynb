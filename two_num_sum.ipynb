{
  "nbformat": 4,
  "nbformat_minor": 0,
  "metadata": {
    "colab": {
      "provenance": []
    },
    "kernelspec": {
      "name": "python3",
      "display_name": "Python 3"
    },
    "language_info": {
      "name": "python"
    }
  },
  "cells": [
    {
      "cell_type": "code",
      "source": [
        "li = [1,4,3,2,5,4,3,6,5,74,80]"
      ],
      "metadata": {
        "id": "iq6dioY_hQ48"
      },
      "execution_count": null,
      "outputs": []
    },
    {
      "cell_type": "code",
      "source": [
        "input = int(input(\"enter sum number: \"))"
      ],
      "metadata": {
        "id": "fI9-UdtHZkRx"
      },
      "execution_count": null,
      "outputs": []
    },
    {
      "cell_type": "code",
      "source": [
        "def two_sum(input, target):\n",
        "  num_in = {}\n",
        "  for i,n in enumerate(li):\n",
        "    cmplmt = target - n\n",
        "    if cmplmt in num_in:\n",
        "      return [num_in[cmplmt],i]\n",
        "    num_in[n] = i\n",
        "\n",
        "  return None"
      ],
      "metadata": {
        "id": "1VOrMFSmZRON"
      },
      "execution_count": null,
      "outputs": []
    },
    {
      "cell_type": "code",
      "source": [
        "inp = int(input(\"enter sum number: \"))\n",
        "two_sum(li, inp)"
      ],
      "metadata": {
        "colab": {
          "base_uri": "https://localhost:8080/"
        },
        "id": "DpSR8bBzataa",
        "outputId": "53d1cd0b-4075-49cb-8d6f-6df2241eccd7"
      },
      "execution_count": null,
      "outputs": [
        {
          "name": "stdout",
          "output_type": "stream",
          "text": [
            "enter sum number: 9\n"
          ]
        },
        {
          "output_type": "execute_result",
          "data": {
            "text/plain": [
              "[1, 4]"
            ]
          },
          "metadata": {},
          "execution_count": 12
        }
      ]
    },
    {
      "cell_type": "code",
      "source": [],
      "metadata": {
        "id": "3HtaQjktbAuv"
      },
      "execution_count": null,
      "outputs": []
    }
  ]
}