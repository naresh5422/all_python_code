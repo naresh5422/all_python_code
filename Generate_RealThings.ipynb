{
 "cells": [
  {
   "cell_type": "markdown",
   "id": "d20c8972",
   "metadata": {},
   "source": [
    "### QRCode generate"
   ]
  },
  {
   "cell_type": "code",
   "execution_count": 1,
   "id": "1369428f",
   "metadata": {},
   "outputs": [
    {
     "name": "stdout",
     "output_type": "stream",
     "text": [
      "Defaulting to user installation because normal site-packages is not writeable\n",
      "Requirement already satisfied: pyqrcode in /home/cdot/.local/lib/python3.10/site-packages (1.2.1)\n",
      "\u001b[33mDEPRECATION: devscripts 2.22.1ubuntu1 has a non-standard version number. pip 24.0 will enforce this behaviour change. A possible replacement is to upgrade to a newer version of devscripts or contact the author to suggest that they release a version with a conforming version number. Discussion can be found at https://github.com/pypa/pip/issues/12063\u001b[0m\u001b[33m\n",
      "\u001b[0mNote: you may need to restart the kernel to use updated packages.\n"
     ]
    }
   ],
   "source": [
    "pip install pyqrcode"
   ]
  },
  {
   "cell_type": "code",
   "execution_count": 2,
   "id": "1dbb3f31",
   "metadata": {},
   "outputs": [
    {
     "name": "stdout",
     "output_type": "stream",
     "text": [
      "Defaulting to user installation because normal site-packages is not writeable\n",
      "Requirement already satisfied: pypng in /home/cdot/.local/lib/python3.10/site-packages (0.20220715.0)\n",
      "\u001b[33mDEPRECATION: devscripts 2.22.1ubuntu1 has a non-standard version number. pip 24.0 will enforce this behaviour change. A possible replacement is to upgrade to a newer version of devscripts or contact the author to suggest that they release a version with a conforming version number. Discussion can be found at https://github.com/pypa/pip/issues/12063\u001b[0m\u001b[33m\n",
      "\u001b[0mNote: you may need to restart the kernel to use updated packages.\n"
     ]
    }
   ],
   "source": [
    "pip install pypng"
   ]
  },
  {
   "cell_type": "code",
   "execution_count": 3,
   "id": "9d8509c0",
   "metadata": {},
   "outputs": [],
   "source": [
    "import pyqrcode as qr\n",
    "import png\n",
    "from pyqrcode import QRCode"
   ]
  },
  {
   "cell_type": "code",
   "execution_count": 4,
   "id": "1aa33563",
   "metadata": {},
   "outputs": [
    {
     "name": "stdout",
     "output_type": "stream",
     "text": [
      "QRCode(content=b'https://github.com/naresh5422?tab=repositories', error='H', version=6, mode='binary')\n"
     ]
    }
   ],
   "source": [
    "# String which representing the QR code\n",
    "s = \"https://github.com/naresh5422?tab=repositories\"\n",
    "\n",
    "# Generate a QR code\n",
    "url = qr.create(s)\n",
    "print(url)"
   ]
  },
  {
   "cell_type": "code",
   "execution_count": 5,
   "id": "8f7c8025",
   "metadata": {},
   "outputs": [],
   "source": [
    "url.svg(\"myGitRepoQR.svg\",scale = 8)"
   ]
  },
  {
   "cell_type": "code",
   "execution_count": 6,
   "id": "3c220be9",
   "metadata": {},
   "outputs": [],
   "source": [
    "url.png(\"myGitRepoQR.png\", scale = 6)"
   ]
  },
  {
   "cell_type": "markdown",
   "id": "e52debd1",
   "metadata": {},
   "source": [
    "### Convert Image to PDF"
   ]
  },
  {
   "cell_type": "code",
   "execution_count": 7,
   "id": "751c445e",
   "metadata": {},
   "outputs": [
    {
     "name": "stdout",
     "output_type": "stream",
     "text": [
      "Defaulting to user installation because normal site-packages is not writeable\n",
      "Requirement already satisfied: fpdf in /home/cdot/.local/lib/python3.10/site-packages (1.7.2)\n",
      "\u001b[33mDEPRECATION: devscripts 2.22.1ubuntu1 has a non-standard version number. pip 24.0 will enforce this behaviour change. A possible replacement is to upgrade to a newer version of devscripts or contact the author to suggest that they release a version with a conforming version number. Discussion can be found at https://github.com/pypa/pip/issues/12063\u001b[0m\u001b[33m\n",
      "\u001b[0mNote: you may need to restart the kernel to use updated packages.\n"
     ]
    }
   ],
   "source": [
    "pip install fpdf"
   ]
  },
  {
   "cell_type": "code",
   "execution_count": 8,
   "id": "51b518a3",
   "metadata": {},
   "outputs": [],
   "source": [
    "from fpdf import FPDF"
   ]
  },
  {
   "cell_type": "code",
   "execution_count": 9,
   "id": "05bd17e2",
   "metadata": {},
   "outputs": [
    {
     "name": "stdout",
     "output_type": "stream",
     "text": [
      "<fpdf.fpdf.FPDF object at 0x7fca287ae5c0>\n"
     ]
    }
   ],
   "source": [
    "pdf = FPDF()\n",
    "print(pdf)"
   ]
  },
  {
   "cell_type": "code",
   "execution_count": 10,
   "id": "3aed6202",
   "metadata": {},
   "outputs": [],
   "source": [
    "# ## Image list is the list with all image filenames\n",
    "# imagelist = [\"imagent.png\"]\n",
    "# for img in imagelist:\n",
    "#     print(pdf.add_page())\n",
    "#     pdf.image(img,x,y,w,h)\n",
    "#     pdf.output(\"image.pdf\")"
   ]
  },
  {
   "cell_type": "markdown",
   "id": "7afeaec6",
   "metadata": {},
   "source": [
    "### Laguage Detection"
   ]
  },
  {
   "cell_type": "code",
   "execution_count": 11,
   "id": "54ed01f0",
   "metadata": {},
   "outputs": [
    {
     "name": "stdout",
     "output_type": "stream",
     "text": [
      "Defaulting to user installation because normal site-packages is not writeable\n",
      "Requirement already satisfied: langdetect in /home/cdot/.local/lib/python3.10/site-packages (1.0.9)\n",
      "Requirement already satisfied: six in /usr/lib/python3/dist-packages (from langdetect) (1.16.0)\n",
      "\u001b[33mDEPRECATION: devscripts 2.22.1ubuntu1 has a non-standard version number. pip 24.0 will enforce this behaviour change. A possible replacement is to upgrade to a newer version of devscripts or contact the author to suggest that they release a version with a conforming version number. Discussion can be found at https://github.com/pypa/pip/issues/12063\u001b[0m\u001b[33m\n",
      "\u001b[0mNote: you may need to restart the kernel to use updated packages.\n"
     ]
    }
   ],
   "source": [
    "pip install langdetect"
   ]
  },
  {
   "cell_type": "code",
   "execution_count": 12,
   "id": "34f8c710",
   "metadata": {},
   "outputs": [],
   "source": [
    "from langdetect import detect"
   ]
  },
  {
   "cell_type": "code",
   "execution_count": 13,
   "id": "8c5f938f",
   "metadata": {},
   "outputs": [
    {
     "name": "stdout",
     "output_type": "stream",
     "text": [
      "Enter the any text in any language: Hello\n",
      "fi\n"
     ]
    }
   ],
   "source": [
    "text = input(\"Enter the any text in any language: \")\n",
    "print(detect(text))"
   ]
  },
  {
   "cell_type": "markdown",
   "id": "c024ac30",
   "metadata": {},
   "source": [
    "### Youtube video downloaded"
   ]
  },
  {
   "cell_type": "code",
   "execution_count": 14,
   "id": "daca0a69",
   "metadata": {},
   "outputs": [
    {
     "name": "stdout",
     "output_type": "stream",
     "text": [
      "Defaulting to user installation because normal site-packages is not writeable\n",
      "Requirement already satisfied: pytube in /home/cdot/.local/lib/python3.10/site-packages (15.0.0)\n",
      "\u001b[33mDEPRECATION: devscripts 2.22.1ubuntu1 has a non-standard version number. pip 24.0 will enforce this behaviour change. A possible replacement is to upgrade to a newer version of devscripts or contact the author to suggest that they release a version with a conforming version number. Discussion can be found at https://github.com/pypa/pip/issues/12063\u001b[0m\u001b[33m\n",
      "\u001b[0mNote: you may need to restart the kernel to use updated packages.\n"
     ]
    }
   ],
   "source": [
    "pip install pytube"
   ]
  },
  {
   "cell_type": "code",
   "execution_count": 15,
   "id": "b0490ad0",
   "metadata": {},
   "outputs": [],
   "source": [
    "import pytube"
   ]
  },
  {
   "cell_type": "code",
   "execution_count": 16,
   "id": "be5a783a",
   "metadata": {},
   "outputs": [
    {
     "name": "stdout",
     "output_type": "stream",
     "text": [
      "enter the youtube URL: https://www.youtube.com/shorts/FK5_Vc0Hrqg\n",
      "Downloded https://www.youtube.com/shorts/FK5_Vc0Hrqg\n"
     ]
    }
   ],
   "source": [
    "link = input(\"enter the youtube URL: \")\n",
    "yt = pytube.YouTube(link)\n",
    "yt.streams.first().download()\n",
    "print(\"Downloded\", link)"
   ]
  },
  {
   "cell_type": "markdown",
   "id": "348e9b96",
   "metadata": {},
   "source": [
    "### Send Emails with python coding"
   ]
  },
  {
   "cell_type": "code",
   "execution_count": 17,
   "id": "fb1f4380",
   "metadata": {},
   "outputs": [],
   "source": [
    "import smtplib"
   ]
  },
  {
   "cell_type": "code",
   "execution_count": 18,
   "id": "50047f89",
   "metadata": {},
   "outputs": [],
   "source": [
    "# mail_id = \"t.naresh5422@gmail.com\"\n",
    "# pswd = \"password\"\n",
    "# conn = smtplib.SMTP(\"smtp.gmail.com\", 465)\n",
    "# conn.starttls()\n",
    "# conn.login(user = mail_id, password = pswd)\n",
    "\n",
    "# conn.sendmail(from_addr = email_id, to_addr = \"naresh09022cm023@gmail.com\", msg = \"Hello Naresh\")\n",
    "# conn.close()"
   ]
  },
  {
   "cell_type": "code",
   "execution_count": 19,
   "id": "f1b274ca",
   "metadata": {},
   "outputs": [],
   "source": [
    "# import smtplib, ssl\n",
    "\n",
    "# port = 465  # For SSL\n",
    "# smtp_server = \"smtp.gmail.com\"\n",
    "# sender_email = \"t.naresh5422@gmail.com\"  # Enter your address\n",
    "# receiver_email = \"naresh09022cm023@gmail.com\"  # Enter receiver address\n",
    "# password = input(\"Type your password and press enter: \")\n",
    "# message = \"\"\"\\\n",
    "# Subject: Hi there\n",
    "\n",
    "# This message is sent from Python.\"\"\"\n",
    "\n",
    "# context = ssl.create_default_context()\n",
    "# with smtplib.SMTP_SSL(smtp_server, port, context=context) as server:\n",
    "#     server.login(sender_email, password)\n",
    "#     server.sendmail(sender_email, receiver_email, message)"
   ]
  },
  {
   "cell_type": "markdown",
   "id": "61a2bc2b",
   "metadata": {},
   "source": [
    "### Convert image into vector form"
   ]
  },
  {
   "cell_type": "code",
   "execution_count": 3,
   "id": "4e1bbba1",
   "metadata": {},
   "outputs": [],
   "source": [
    "import os\n",
    "import cv2\n",
    "import numpy as np"
   ]
  },
  {
   "cell_type": "code",
   "execution_count": 4,
   "id": "bacb9b33",
   "metadata": {},
   "outputs": [
    {
     "data": {
      "text/plain": [
       "'/home/cdot/Documents/DS_QandA/python_interview_QandA'"
      ]
     },
     "execution_count": 4,
     "metadata": {},
     "output_type": "execute_result"
    }
   ],
   "source": [
    "%pwd"
   ]
  },
  {
   "cell_type": "code",
   "execution_count": 6,
   "id": "81c4a97d",
   "metadata": {},
   "outputs": [],
   "source": [
    "os.chdir(\"../\")"
   ]
  },
  {
   "cell_type": "code",
   "execution_count": 7,
   "id": "d6aff6f9",
   "metadata": {},
   "outputs": [
    {
     "data": {
      "text/plain": [
       "'/home/cdot/Documents'"
      ]
     },
     "execution_count": 7,
     "metadata": {},
     "output_type": "execute_result"
    }
   ],
   "source": [
    "%pwd"
   ]
  },
  {
   "cell_type": "code",
   "execution_count": 8,
   "id": "b9030f6f",
   "metadata": {},
   "outputs": [
    {
     "data": {
      "text/plain": [
       "['tfLite_Models',\n",
       " 'Models',\n",
       " 'real_and_fake.tar.gz',\n",
       " 'face_real_fake.ipynb',\n",
       " 'Face_Antispoofing_System-main',\n",
       " '.git',\n",
       " 'ashish_spoof_21_face.jpg',\n",
       " 'fcr.zip',\n",
       " '.ipynb_checkpoints',\n",
       " 'model_weights',\n",
       " 'WebScrapingWithBS4.ipynb',\n",
       " '5-Days-Live-EDA-and-Feature-Engineering',\n",
       " 'Myfirst',\n",
       " 'real_and_fake_face_detection',\n",
       " 'DS_QandA',\n",
       " 'archive',\n",
       " 'web-s.py',\n",
       " 'FaceReco.zip',\n",
       " 'Zomatodataset',\n",
       " 'antispoofing_research',\n",
       " 'br_sample_w100',\n",
       " 'model1',\n",
       " 'different_colorge']"
      ]
     },
     "execution_count": 8,
     "metadata": {},
     "output_type": "execute_result"
    }
   ],
   "source": [
    "os.listdir()"
   ]
  },
  {
   "cell_type": "code",
   "execution_count": 9,
   "id": "fdc9368a",
   "metadata": {},
   "outputs": [
    {
     "data": {
      "text/plain": [
       "160"
      ]
     },
     "execution_count": 9,
     "metadata": {},
     "output_type": "execute_result"
    }
   ],
   "source": [
    "im = cv2.imread(\"ashish_spoof_21_face.jpg\")\n",
    "len(im)"
   ]
  },
  {
   "cell_type": "code",
   "execution_count": 10,
   "id": "e9ef4a2e",
   "metadata": {},
   "outputs": [
    {
     "data": {
      "text/plain": [
       "120"
      ]
     },
     "execution_count": 10,
     "metadata": {},
     "output_type": "execute_result"
    }
   ],
   "source": [
    "size_img = cv2.resize(im, (120, 120))\n",
    "len(size_img)"
   ]
  },
  {
   "cell_type": "code",
   "execution_count": 11,
   "id": "1d20bb17",
   "metadata": {},
   "outputs": [
    {
     "ename": "error",
     "evalue": "OpenCV(4.8.0) :-1: error: (-5:Bad argument) in function 'imshow'\n> Overload resolution failed:\n>  - imshow() missing required argument 'mat' (pos 2)\n>  - imshow() missing required argument 'mat' (pos 2)\n>  - imshow() missing required argument 'mat' (pos 2)\n",
     "output_type": "error",
     "traceback": [
      "\u001b[0;31m---------------------------------------------------------------------------\u001b[0m",
      "\u001b[0;31merror\u001b[0m                                     Traceback (most recent call last)",
      "Cell \u001b[0;32mIn[11], line 2\u001b[0m\n\u001b[1;32m      1\u001b[0m \u001b[38;5;28;01mimport\u001b[39;00m \u001b[38;5;21;01mcv2\u001b[39;00m\n\u001b[0;32m----> 2\u001b[0m \u001b[43mcv2\u001b[49m\u001b[38;5;241;43m.\u001b[39;49m\u001b[43mimshow\u001b[49m\u001b[43m(\u001b[49m\u001b[38;5;124;43m\"\u001b[39;49m\u001b[38;5;124;43mashish_spoof_21_face.jpg\u001b[39;49m\u001b[38;5;124;43m\"\u001b[39;49m\u001b[43m)\u001b[49m\n",
      "\u001b[0;31merror\u001b[0m: OpenCV(4.8.0) :-1: error: (-5:Bad argument) in function 'imshow'\n> Overload resolution failed:\n>  - imshow() missing required argument 'mat' (pos 2)\n>  - imshow() missing required argument 'mat' (pos 2)\n>  - imshow() missing required argument 'mat' (pos 2)\n"
     ]
    }
   ],
   "source": [
    "import cv2\n",
    "cv2.imshow(\"ashish_spoof_21_face.jpg\")"
   ]
  },
  {
   "cell_type": "code",
   "execution_count": 12,
   "id": "ffb58903",
   "metadata": {},
   "outputs": [
    {
     "name": "stderr",
     "output_type": "stream",
     "text": [
      "2023-12-08 15:37:29.781552: I tensorflow/tsl/cuda/cudart_stub.cc:28] Could not find cuda drivers on your machine, GPU will not be used.\n",
      "2023-12-08 15:37:32.248869: I tensorflow/tsl/cuda/cudart_stub.cc:28] Could not find cuda drivers on your machine, GPU will not be used.\n",
      "2023-12-08 15:37:32.260134: I tensorflow/core/platform/cpu_feature_guard.cc:182] This TensorFlow binary is optimized to use available CPU instructions in performance-critical operations.\n",
      "To enable the following instructions: AVX2 FMA, in other operations, rebuild TensorFlow with the appropriate compiler flags.\n",
      "2023-12-08 15:37:38.082593: W tensorflow/compiler/tf2tensorrt/utils/py_utils.cc:38] TF-TRT Warning: Could not find TensorRT\n"
     ]
    },
    {
     "name": "stdout",
     "output_type": "stream",
     "text": [
      "1/1 [==============================] - 1s 1s/step\n",
      "Feature vector shape: (25088,)\n"
     ]
    }
   ],
   "source": [
    "import tensorflow as tf\n",
    "from tensorflow.keras.preprocessing import image\n",
    "from tensorflow.keras.applications.vgg16 import VGG16, preprocess_input\n",
    "import numpy as np\n",
    "\n",
    "# Load a pre-trained deep learning model (VGG16 in this case)\n",
    "base_model = VGG16(weights='imagenet', include_top=False)\n",
    "\n",
    "# Function to convert an image to a feature vector\n",
    "def image_to_vector(image_path):\n",
    "    # Load and preprocess the image\n",
    "    img = image.load_img(image_path, target_size=(224, 224))\n",
    "    img_array = image.img_to_array(img)\n",
    "    img_array = np.expand_dims(img_array, axis=0)\n",
    "    img_array = preprocess_input(img_array)\n",
    "\n",
    "    # Use the pre-trained model to extract features\n",
    "    features = base_model.predict(img_array)\n",
    "\n",
    "    # Flatten the features into a 1D array\n",
    "    feature_vector = features.flatten()\n",
    "\n",
    "    return feature_vector\n",
    "\n",
    "# Example usage\n",
    "image_path = 'ashish_spoof_21_face.jpg'\n",
    "vector = image_to_vector(image_path)\n",
    "print(\"Feature vector shape:\", vector.shape)\n"
   ]
  },
  {
   "cell_type": "code",
   "execution_count": 32,
   "id": "339ff75f",
   "metadata": {},
   "outputs": [
    {
     "name": "stdout",
     "output_type": "stream",
     "text": [
      "(224, 224, 3)\n",
      "Ended Image to array\n",
      "(1, 224, 224, 3)\n",
      "Ended expand dims\n",
      "(1, 224, 224, 3)\n"
     ]
    }
   ],
   "source": [
    "img = image.load_img(image_path, target_size=(224, 224))\n",
    "img_array = image.img_to_array(img)\n",
    "print(img_array.shape)\n",
    "print(\"Ended Image to array\")\n",
    "img_array = np.expand_dims(img_array, axis=0)\n",
    "print(img_array.shape)\n",
    "print(\"Ended expand dims\")\n",
    "img_array = preprocess_input(img_array)\n",
    "print(img_array.shape)"
   ]
  },
  {
   "cell_type": "code",
   "execution_count": 33,
   "id": "7e4e9f05",
   "metadata": {},
   "outputs": [
    {
     "name": "stdout",
     "output_type": "stream",
     "text": [
      "1/1 [==============================] - 0s 110ms/step\n",
      "(25088,)\n"
     ]
    }
   ],
   "source": [
    "features = base_model.predict(img_array)\n",
    "feature_vector = features.flatten()\n",
    "print(feature_vector.shape)"
   ]
  },
  {
   "cell_type": "markdown",
   "id": "594b7e9f",
   "metadata": {},
   "source": [
    "### Remove the background of given image"
   ]
  },
  {
   "cell_type": "code",
   "execution_count": 2,
   "id": "1ec5f766",
   "metadata": {},
   "outputs": [
    {
     "name": "stdout",
     "output_type": "stream",
     "text": [
      "Defaulting to user installation because normal site-packages is not writeable\n",
      "Collecting rembg\n",
      "  Downloading rembg-2.0.53-py3-none-any.whl.metadata (14 kB)\n",
      "Requirement already satisfied: jsonschema in /usr/lib/python3/dist-packages (from rembg) (3.2.0)\n",
      "Requirement already satisfied: numpy in /home/cdot/.local/lib/python3.10/site-packages (from rembg) (1.23.5)\n",
      "Collecting onnxruntime (from rembg)\n",
      "  Downloading onnxruntime-1.16.3-cp310-cp310-manylinux_2_17_x86_64.manylinux2014_x86_64.whl.metadata (4.3 kB)\n",
      "Collecting opencv-python-headless (from rembg)\n",
      "  Downloading opencv_python_headless-4.8.1.78-cp37-abi3-manylinux_2_17_x86_64.manylinux2014_x86_64.whl.metadata (19 kB)\n",
      "Requirement already satisfied: pillow in /usr/lib/python3/dist-packages (from rembg) (9.0.1)\n",
      "Collecting pooch (from rembg)\n",
      "  Downloading pooch-1.8.0-py3-none-any.whl.metadata (9.9 kB)\n",
      "Collecting pymatting (from rembg)\n",
      "  Downloading PyMatting-1.1.12-py3-none-any.whl.metadata (7.4 kB)\n",
      "Collecting scikit-image (from rembg)\n",
      "  Downloading scikit_image-0.22.0-cp310-cp310-manylinux_2_17_x86_64.manylinux2014_x86_64.whl.metadata (13 kB)\n",
      "Requirement already satisfied: scipy in /home/cdot/.local/lib/python3.10/site-packages (from rembg) (1.10.1)\n",
      "Requirement already satisfied: tqdm in /home/cdot/.local/lib/python3.10/site-packages (from rembg) (4.65.0)\n",
      "Collecting coloredlogs (from onnxruntime->rembg)\n",
      "  Downloading coloredlogs-15.0.1-py2.py3-none-any.whl (46 kB)\n",
      "\u001b[2K     \u001b[38;2;114;156;31m━━━━━━━━━━━━━━━━━━━━━━━━━━━━━━━━━━━━━━━\u001b[0m \u001b[32m46.0/46.0 kB\u001b[0m \u001b[31m442.9 kB/s\u001b[0m eta \u001b[36m0:00:00\u001b[0m31m64.5 MB/s\u001b[0m eta \u001b[36m0:00:01\u001b[0m\n",
      "\u001b[?25hRequirement already satisfied: flatbuffers in /home/cdot/.local/lib/python3.10/site-packages (from onnxruntime->rembg) (23.3.3)\n",
      "Requirement already satisfied: packaging in /home/cdot/.local/lib/python3.10/site-packages (from onnxruntime->rembg) (23.1)\n",
      "Requirement already satisfied: protobuf in /home/cdot/.local/lib/python3.10/site-packages (from onnxruntime->rembg) (4.22.4)\n",
      "Requirement already satisfied: sympy in /usr/lib/python3/dist-packages (from onnxruntime->rembg) (1.9)\n",
      "Requirement already satisfied: platformdirs>=2.5.0 in /home/cdot/.local/lib/python3.10/site-packages (from pooch->rembg) (3.5.0)\n",
      "Requirement already satisfied: requests>=2.19.0 in /home/cdot/.local/lib/python3.10/site-packages (from pooch->rembg) (2.31.0)\n",
      "Requirement already satisfied: numba!=0.49.0 in /home/cdot/.local/lib/python3.10/site-packages (from pymatting->rembg) (0.58.1)\n",
      "Requirement already satisfied: networkx>=2.8 in /home/cdot/.local/lib/python3.10/site-packages (from scikit-image->rembg) (3.2.1)\n",
      "Collecting imageio>=2.27 (from scikit-image->rembg)\n",
      "  Downloading imageio-2.33.1-py3-none-any.whl.metadata (4.9 kB)\n",
      "Collecting tifffile>=2022.8.12 (from scikit-image->rembg)\n",
      "  Downloading tifffile-2023.12.9-py3-none-any.whl.metadata (31 kB)\n",
      "Collecting lazy_loader>=0.3 (from scikit-image->rembg)\n",
      "  Downloading lazy_loader-0.3-py3-none-any.whl.metadata (4.3 kB)\n",
      "Requirement already satisfied: llvmlite<0.42,>=0.41.0dev0 in /home/cdot/.local/lib/python3.10/site-packages (from numba!=0.49.0->pymatting->rembg) (0.41.1)\n",
      "Requirement already satisfied: charset-normalizer<4,>=2 in /home/cdot/.local/lib/python3.10/site-packages (from requests>=2.19.0->pooch->rembg) (3.3.2)\n",
      "Requirement already satisfied: idna<4,>=2.5 in /usr/lib/python3/dist-packages (from requests>=2.19.0->pooch->rembg) (3.3)\n",
      "Requirement already satisfied: urllib3<3,>=1.21.1 in /home/cdot/.local/lib/python3.10/site-packages (from requests>=2.19.0->pooch->rembg) (2.1.0)\n",
      "Requirement already satisfied: certifi>=2017.4.17 in /home/cdot/.local/lib/python3.10/site-packages (from requests>=2.19.0->pooch->rembg) (2023.7.22)\n",
      "Collecting humanfriendly>=9.1 (from coloredlogs->onnxruntime->rembg)\n",
      "  Downloading humanfriendly-10.0-py2.py3-none-any.whl (86 kB)\n",
      "\u001b[2K     \u001b[38;2;114;156;31m━━━━━━━━━━━━━━━━━━━━━━━━━━━━━━━━━━━━━━━\u001b[0m \u001b[32m86.8/86.8 kB\u001b[0m \u001b[31m982.6 kB/s\u001b[0m eta \u001b[36m0:00:00\u001b[0m1m104.9 MB/s\u001b[0m eta \u001b[36m0:00:01\u001b[0m\n",
      "\u001b[?25hDownloading rembg-2.0.53-py3-none-any.whl (32 kB)\n",
      "Downloading onnxruntime-1.16.3-cp310-cp310-manylinux_2_17_x86_64.manylinux2014_x86_64.whl (6.4 MB)\n",
      "\u001b[2K   \u001b[38;2;114;156;31m━━━━━━━━━━━━━━━━━━━━━━━━━━━━━━━━━━━━━━━━\u001b[0m \u001b[32m6.4/6.4 MB\u001b[0m \u001b[31m24.4 MB/s\u001b[0m eta \u001b[36m0:00:00\u001b[0mm eta \u001b[36m0:00:01\u001b[0m0:01\u001b[0m\n",
      "\u001b[?25hDownloading opencv_python_headless-4.8.1.78-cp37-abi3-manylinux_2_17_x86_64.manylinux2014_x86_64.whl (49.1 MB)\n",
      "\u001b[2K   \u001b[38;2;114;156;31m━━━━━━━━━━━━━━━━━━━━━━━━━━━━━━━━━━━━━━━━\u001b[0m \u001b[32m49.1/49.1 MB\u001b[0m \u001b[31m12.5 MB/s\u001b[0m eta \u001b[36m0:00:00\u001b[0mm eta \u001b[36m0:00:01\u001b[0m0:01\u001b[0m:01\u001b[0m\n",
      "\u001b[?25hDownloading pooch-1.8.0-py3-none-any.whl (62 kB)\n",
      "\u001b[2K   \u001b[38;2;114;156;31m━━━━━━━━━━━━━━━━━━━━━━━━━━━━━━━━━━━━━━━━\u001b[0m \u001b[32m62.7/62.7 kB\u001b[0m \u001b[31m746.8 kB/s\u001b[0m eta \u001b[36m0:00:00\u001b[0m36m0:00:01\u001b[0m\n",
      "\u001b[?25hDownloading PyMatting-1.1.12-py3-none-any.whl (52 kB)\n",
      "\u001b[2K   \u001b[38;2;114;156;31m━━━━━━━━━━━━━━━━━━━━━━━━━━━━━━━━━━━━━━━━\u001b[0m \u001b[32m53.0/53.0 kB\u001b[0m \u001b[31m626.7 kB/s\u001b[0m eta \u001b[36m0:00:00\u001b[0m1m143.1 MB/s\u001b[0m eta \u001b[36m0:00:01\u001b[0m\n",
      "\u001b[?25hDownloading scikit_image-0.22.0-cp310-cp310-manylinux_2_17_x86_64.manylinux2014_x86_64.whl (14.7 MB)\n",
      "\u001b[2K   \u001b[38;2;114;156;31m━━━━━━━━━━━━━━━━━━━━━━━━━━━━━━━━━━━━━━━━\u001b[0m \u001b[32m14.7/14.7 MB\u001b[0m \u001b[31m23.5 MB/s\u001b[0m eta \u001b[36m0:00:00\u001b[0mm eta \u001b[36m0:00:01\u001b[0m0:01\u001b[0m:01\u001b[0m\n",
      "\u001b[?25hDownloading imageio-2.33.1-py3-none-any.whl (313 kB)\n",
      "\u001b[2K   \u001b[38;2;114;156;31m━━━━━━━━━━━━━━━━━━━━━━━━━━━━━━━━━━━━━━━━\u001b[0m \u001b[32m313.3/313.3 kB\u001b[0m \u001b[31m4.1 MB/s\u001b[0m eta \u001b[36m0:00:00\u001b[0m\u001b[36m0:00:01\u001b[0m\n",
      "\u001b[?25hDownloading lazy_loader-0.3-py3-none-any.whl (9.1 kB)\n",
      "Downloading tifffile-2023.12.9-py3-none-any.whl (223 kB)\n",
      "\u001b[2K   \u001b[38;2;114;156;31m━━━━━━━━━━━━━━━━━━━━━━━━━━━━━━━━━━━━━━━━\u001b[0m \u001b[32m223.6/223.6 kB\u001b[0m \u001b[31m2.6 MB/s\u001b[0m eta \u001b[36m0:00:00\u001b[0m31m109.6 MB/s\u001b[0m eta \u001b[36m0:00:01\u001b[0m\n",
      "\u001b[?25h\u001b[33mDEPRECATION: devscripts 2.22.1ubuntu1 has a non-standard version number. pip 24.0 will enforce this behaviour change. A possible replacement is to upgrade to a newer version of devscripts or contact the author to suggest that they release a version with a conforming version number. Discussion can be found at https://github.com/pypa/pip/issues/12063\u001b[0m\u001b[33m\n",
      "\u001b[0mInstalling collected packages: tifffile, opencv-python-headless, lazy_loader, imageio, humanfriendly, scikit-image, pymatting, pooch, coloredlogs, onnxruntime, rembg\n",
      "Successfully installed coloredlogs-15.0.1 humanfriendly-10.0 imageio-2.33.1 lazy_loader-0.3 onnxruntime-1.16.3 opencv-python-headless-4.8.1.78 pooch-1.8.0 pymatting-1.1.12 rembg-2.0.53 scikit-image-0.22.0 tifffile-2023.12.9\n",
      "Note: you may need to restart the kernel to use updated packages.\n"
     ]
    }
   ],
   "source": [
    "pip install rembg"
   ]
  },
  {
   "cell_type": "code",
   "execution_count": 3,
   "id": "cf7bc5c6",
   "metadata": {},
   "outputs": [],
   "source": [
    "from rembg import remove\n",
    "from PIL import Image"
   ]
  },
  {
   "cell_type": "code",
   "execution_count": 4,
   "id": "761a67d2",
   "metadata": {},
   "outputs": [],
   "source": [
    "ip = \"frandindra.jpeg\"\n",
    "op = \"opimg.png\""
   ]
  },
  {
   "cell_type": "code",
   "execution_count": 7,
   "id": "d95892c7",
   "metadata": {},
   "outputs": [
    {
     "name": "stderr",
     "output_type": "stream",
     "text": [
      "Downloading data from 'https://github.com/danielgatis/rembg/releases/download/v0.0.0/u2net.onnx' to file '/home/cdot/.u2net/u2net.onnx'.\n",
      "100%|████████████████████████████████████████| 176M/176M [00:00<00:00, 275GB/s]\n"
     ]
    }
   ],
   "source": [
    "ipimg = Image.open(ip)\n",
    "opimg = remove(ipimg)"
   ]
  },
  {
   "cell_type": "code",
   "execution_count": 8,
   "id": "8345da90",
   "metadata": {},
   "outputs": [],
   "source": [
    "opimg.save(op)"
   ]
  },
  {
   "cell_type": "code",
   "execution_count": null,
   "id": "1b6abdae",
   "metadata": {},
   "outputs": [],
   "source": []
  }
 ],
 "metadata": {
  "kernelspec": {
   "display_name": "Python 3 (ipykernel)",
   "language": "python",
   "name": "python3"
  },
  "language_info": {
   "codemirror_mode": {
    "name": "ipython",
    "version": 3
   },
   "file_extension": ".py",
   "mimetype": "text/x-python",
   "name": "python",
   "nbconvert_exporter": "python",
   "pygments_lexer": "ipython3",
   "version": "3.10.12"
  }
 },
 "nbformat": 4,
 "nbformat_minor": 5
}
